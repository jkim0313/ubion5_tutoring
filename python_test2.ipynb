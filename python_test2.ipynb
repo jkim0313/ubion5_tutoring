{
 "cells": [
  {
   "cell_type": "markdown",
   "metadata": {},
   "source": [
    "## 1. 연산자\n",
    "- 533 + 9734를 계산하세요.\n",
    "- 9999 - 333을 계산하세요.\n",
    "- \"5\"를 10번 연속 출력하세요.\n",
    "- 37 / 4를 계산하세요.\n",
    "- 12의 제곱을 계산하세요.\n",
    "- 13을 2로 나눴을 때 나머지 소수점 값을 제외하고 정수값만 출력하세요.\n",
    "- 13을 2로 나눴을 때 나머지 값만 출력하세요"
   ]
  },
  {
   "cell_type": "code",
   "execution_count": 3,
   "metadata": {},
   "outputs": [
    {
     "name": "stdout",
     "output_type": "stream",
     "text": [
      "10267\n"
     ]
    }
   ],
   "source": []
  },
  {
   "cell_type": "code",
   "execution_count": 4,
   "metadata": {},
   "outputs": [
    {
     "name": "stdout",
     "output_type": "stream",
     "text": [
      "9666\n"
     ]
    }
   ],
   "source": []
  },
  {
   "cell_type": "code",
   "execution_count": 2,
   "metadata": {},
   "outputs": [
    {
     "name": "stdout",
     "output_type": "stream",
     "text": [
      "5555555555\n"
     ]
    }
   ],
   "source": []
  },
  {
   "cell_type": "code",
   "execution_count": 5,
   "metadata": {},
   "outputs": [
    {
     "name": "stdout",
     "output_type": "stream",
     "text": [
      "9.25\n"
     ]
    }
   ],
   "source": []
  },
  {
   "cell_type": "code",
   "execution_count": 7,
   "metadata": {},
   "outputs": [
    {
     "name": "stdout",
     "output_type": "stream",
     "text": [
      "144\n"
     ]
    }
   ],
   "source": []
  },
  {
   "cell_type": "code",
   "execution_count": 8,
   "metadata": {},
   "outputs": [
    {
     "name": "stdout",
     "output_type": "stream",
     "text": [
      "6\n"
     ]
    }
   ],
   "source": []
  },
  {
   "cell_type": "code",
   "execution_count": 9,
   "metadata": {},
   "outputs": [
    {
     "name": "stdout",
     "output_type": "stream",
     "text": [
      "1\n"
     ]
    }
   ],
   "source": []
  },
  {
   "cell_type": "markdown",
   "metadata": {},
   "source": [
    "## 2. 조건문\n",
    "- if와 else를 사용해서 점수가 90 이상일 경우 'A', 80~89 는 'B', 70~79 는 'C', 60~69 는 'D', 60 미만은 'F'가 출력되는 함수를 생성하세요."
   ]
  },
  {
   "cell_type": "code",
   "execution_count": 35,
   "metadata": {},
   "outputs": [],
   "source": [
    "def grade(score):\n"
   ]
  },
  {
   "cell_type": "code",
   "execution_count": 36,
   "metadata": {},
   "outputs": [
    {
     "name": "stdout",
     "output_type": "stream",
     "text": [
      "A\n"
     ]
    }
   ],
   "source": [
    "grade(90)"
   ]
  },
  {
   "cell_type": "code",
   "execution_count": 37,
   "metadata": {},
   "outputs": [
    {
     "name": "stdout",
     "output_type": "stream",
     "text": [
      "F\n"
     ]
    }
   ],
   "source": [
    "grade(55)"
   ]
  },
  {
   "cell_type": "markdown",
   "metadata": {},
   "source": [
    "## 3. for 문\n",
    "- for 문과 range()를 사용해서 구구단 5단을 출력하세요.\n",
    "- def와 for문으로 구구단 계산 함수를 생성하세요.\n",
    "- 저희 튜터링팀원으로 구성된 리스트를 생성 후 리스트 내 원소를 for문을 사용해서 하나씩 출력하세요."
   ]
  },
  {
   "cell_type": "code",
   "execution_count": 1,
   "metadata": {},
   "outputs": [
    {
     "name": "stdout",
     "output_type": "stream",
     "text": [
      "5 *  1 = 5\n",
      "5 *  2 = 10\n",
      "5 *  3 = 15\n",
      "5 *  4 = 20\n",
      "5 *  5 = 25\n",
      "5 *  6 = 30\n",
      "5 *  7 = 35\n",
      "5 *  8 = 40\n",
      "5 *  9 = 45\n"
     ]
    }
   ],
   "source": [
    "for i in range():\n"
   ]
  },
  {
   "cell_type": "code",
   "execution_count": 11,
   "metadata": {},
   "outputs": [],
   "source": [
    "def multiplication(x):\n"
   ]
  },
  {
   "cell_type": "code",
   "execution_count": 12,
   "metadata": {},
   "outputs": [
    {
     "name": "stdout",
     "output_type": "stream",
     "text": [
      "3 *  1 = 3\n",
      "3 *  2 = 6\n",
      "3 *  3 = 9\n",
      "3 *  4 = 12\n",
      "3 *  5 = 15\n",
      "3 *  6 = 18\n",
      "3 *  7 = 21\n",
      "3 *  8 = 24\n",
      "3 *  9 = 27\n"
     ]
    }
   ],
   "source": [
    "multiplication(3)"
   ]
  },
  {
   "cell_type": "code",
   "execution_count": 13,
   "metadata": {},
   "outputs": [
    {
     "name": "stdout",
     "output_type": "stream",
     "text": [
      "6 *  1 = 6\n",
      "6 *  2 = 12\n",
      "6 *  3 = 18\n",
      "6 *  4 = 24\n",
      "6 *  5 = 30\n",
      "6 *  6 = 36\n",
      "6 *  7 = 42\n",
      "6 *  8 = 48\n",
      "6 *  9 = 54\n"
     ]
    }
   ],
   "source": [
    "multiplication(6)"
   ]
  },
  {
   "cell_type": "code",
   "execution_count": 31,
   "metadata": {},
   "outputs": [
    {
     "name": "stdout",
     "output_type": "stream",
     "text": [
      "김중헌\n",
      "이하림\n",
      "조민정\n",
      "주채연\n"
     ]
    }
   ],
   "source": [
    "\n"
   ]
  },
  {
   "cell_type": "markdown",
   "metadata": {},
   "source": [
    "## 4. while 문\n",
    "- while문을 사용해서 구구단 7단을 출력하세요.\n",
    "- while문에 if, else 조건문을 사용해서 나무를 10번 찍어 쓰러뜨려 봅시다."
   ]
  },
  {
   "cell_type": "code",
   "execution_count": 19,
   "metadata": {},
   "outputs": [
    {
     "name": "stdout",
     "output_type": "stream",
     "text": [
      "7 * 1 = 63\n",
      "7 * 2 = 63\n",
      "7 * 3 = 63\n",
      "7 * 4 = 63\n",
      "7 * 5 = 63\n",
      "7 * 6 = 63\n",
      "7 * 7 = 63\n",
      "7 * 8 = 63\n",
      "7 * 9 = 63\n"
     ]
    }
   ],
   "source": []
  },
  {
   "cell_type": "code",
   "execution_count": 40,
   "metadata": {},
   "outputs": [
    {
     "name": "stdout",
     "output_type": "stream",
     "text": [
      "나무가 1번 찍혔습니다.\n",
      "나무가 2번 찍혔습니다.\n",
      "나무가 3번 찍혔습니다.\n",
      "나무가 4번 찍혔습니다.\n",
      "나무가 5번 찍혔습니다.\n",
      "나무가 6번 찍혔습니다.\n",
      "나무가 7번 찍혔습니다.\n",
      "나무가 8번 찍혔습니다.\n",
      "나무가 9번 찍혔습니다.\n",
      "나무가 10번 찍혔습니다.\n",
      "나무가 넘어갑니다.\n"
     ]
    }
   ],
   "source": []
  },
  {
   "cell_type": "markdown",
   "metadata": {},
   "source": [
    "## while 문 예시"
   ]
  },
  {
   "cell_type": "code",
   "execution_count": 30,
   "metadata": {},
   "outputs": [
    {
     "name": "stdout",
     "output_type": "stream",
     "text": [
      "거스름돈 없이 사탕을 줍니다.\n",
      "남은 사탕의 양은 4개 입니다.\n",
      "\n",
      "거스름돈 200원을 주고 사탕을 줍니다.\n",
      "남은 사탕의 양은 3개 입니다.\n",
      "\n",
      "200원이 모자라네요?\n",
      "받은돈을 다시 돌려주고 사탕을 주지 않습니다.\n",
      "남은 사탕의 양은 3개 입니다.\n",
      "\n",
      "9원이 모자라네요?\n",
      "받은돈을 다시 돌려주고 사탕을 주지 않습니다.\n",
      "남은 사탕의 양은 3개 입니다.\n",
      "\n",
      "거스름돈 300원을 주고 사탕을 줍니다.\n",
      "남은 사탕의 양은 2개 입니다.\n",
      "\n",
      "100원이 모자라네요?\n",
      "받은돈을 다시 돌려주고 사탕을 주지 않습니다.\n",
      "남은 사탕의 양은 2개 입니다.\n",
      "\n",
      "거스름돈 없이 사탕을 줍니다.\n",
      "남은 사탕의 양은 1개 입니다.\n",
      "\n",
      "거스름돈 없이 사탕을 줍니다.\n",
      "남은 사탕의 양은 0개 입니다.\n",
      "\n",
      "사탕이 매진됐습니다. 판매를 중지 합니다.\n"
     ]
    }
   ],
   "source": [
    "candy_count = 5\n",
    "while True:\n",
    "    money = int(input(\"돈을 넣어 주세요: \"))\n",
    "    if money == 500:\n",
    "        print(\"거스름돈 없이 사탕을 줍니다.\")\n",
    "        candy_count = candy_count -1\n",
    "        print(\"남은 사탕의 양은 %d개 입니다.\\n\" % candy_count)\n",
    "        \n",
    "    elif money > 500:\n",
    "        print(\"거스름돈 %d원을 주고 사탕을 줍니다.\" % (money -500))\n",
    "        candy_count = candy_count -1\n",
    "        print(\"남은 사탕의 양은 %d개 입니다.\\n\" % candy_count)\n",
    "        \n",
    "    else:\n",
    "        print(\"{}원이 모자라네요?\".format(500-money))\n",
    "        print(\"받은돈을 다시 돌려주고 사탕을 주지 않습니다.\")\n",
    "        print(\"남은 사탕의 양은 %d개 입니다.\\n\" % candy_count)\n",
    "        \n",
    "    if candy_count == 0:\n",
    "        print(\"사탕이 매진됐습니다. 판매를 중지 합니다.\")\n",
    "        break"
   ]
  },
  {
   "cell_type": "code",
   "execution_count": null,
   "metadata": {},
   "outputs": [],
   "source": []
  }
 ],
 "metadata": {
  "kernelspec": {
   "display_name": "Python 3.10.1 64-bit",
   "language": "python",
   "name": "python3"
  },
  "language_info": {
   "codemirror_mode": {
    "name": "ipython",
    "version": 3
   },
   "file_extension": ".py",
   "mimetype": "text/x-python",
   "name": "python",
   "nbconvert_exporter": "python",
   "pygments_lexer": "ipython3",
   "version": "3.10.1"
  },
  "orig_nbformat": 4,
  "vscode": {
   "interpreter": {
    "hash": "664601c8c9e5ea170ac235a51849067b39cba8c284ace64cc1dec43cb5b20d30"
   }
  }
 },
 "nbformat": 4,
 "nbformat_minor": 2
}
