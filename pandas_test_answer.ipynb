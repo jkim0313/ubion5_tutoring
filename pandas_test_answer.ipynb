{
 "cells": [
  {
   "cell_type": "markdown",
   "metadata": {},
   "source": [
    "## Pandas Skill Test"
   ]
  },
  {
   "cell_type": "markdown",
   "metadata": {},
   "source": [
    "1. 데이터프레임을 생성해 봅시다!\n",
    "- 데이터프레임명 : name_df\n",
    "- 컬럼명 : 날짜 이름 나이 성별 기수\n",
    "- 모든 컬럼의 데이터 타입은 object로 입력해 주세요."
   ]
  },
  {
   "cell_type": "code",
   "execution_count": 74,
   "metadata": {},
   "outputs": [],
   "source": [
    "import pandas as pd"
   ]
  },
  {
   "cell_type": "code",
   "execution_count": 75,
   "metadata": {},
   "outputs": [
    {
     "data": {
      "text/html": [
       "<div>\n",
       "<style scoped>\n",
       "    .dataframe tbody tr th:only-of-type {\n",
       "        vertical-align: middle;\n",
       "    }\n",
       "\n",
       "    .dataframe tbody tr th {\n",
       "        vertical-align: top;\n",
       "    }\n",
       "\n",
       "    .dataframe thead th {\n",
       "        text-align: right;\n",
       "    }\n",
       "</style>\n",
       "<table border=\"1\" class=\"dataframe\">\n",
       "  <thead>\n",
       "    <tr style=\"text-align: right;\">\n",
       "      <th></th>\n",
       "      <th>날짜</th>\n",
       "      <th>이름</th>\n",
       "      <th>나이</th>\n",
       "      <th>성별</th>\n",
       "      <th>기수</th>\n",
       "    </tr>\n",
       "  </thead>\n",
       "  <tbody>\n",
       "    <tr>\n",
       "      <th>0</th>\n",
       "      <td>20221024</td>\n",
       "      <td>김중헌</td>\n",
       "      <td>29</td>\n",
       "      <td>남자</td>\n",
       "      <td>4</td>\n",
       "    </tr>\n",
       "    <tr>\n",
       "      <th>1</th>\n",
       "      <td>20221024</td>\n",
       "      <td>이하림</td>\n",
       "      <td>29</td>\n",
       "      <td>여자</td>\n",
       "      <td>5</td>\n",
       "    </tr>\n",
       "    <tr>\n",
       "      <th>2</th>\n",
       "      <td>20221024</td>\n",
       "      <td>조민정</td>\n",
       "      <td>29</td>\n",
       "      <td>여자</td>\n",
       "      <td>5</td>\n",
       "    </tr>\n",
       "    <tr>\n",
       "      <th>3</th>\n",
       "      <td>20221024</td>\n",
       "      <td>주채연</td>\n",
       "      <td>29</td>\n",
       "      <td>여자</td>\n",
       "      <td>5</td>\n",
       "    </tr>\n",
       "  </tbody>\n",
       "</table>\n",
       "</div>"
      ],
      "text/plain": [
       "         날짜   이름  나이  성별 기수\n",
       "0  20221024  김중헌  29  남자  4\n",
       "1  20221024  이하림  29  여자  5\n",
       "2  20221024  조민정  29  여자  5\n",
       "3  20221024  주채연  29  여자  5"
      ]
     },
     "execution_count": 75,
     "metadata": {},
     "output_type": "execute_result"
    }
   ],
   "source": [
    "name_df = pd.DataFrame(\n",
    "    {'날짜' : ['20221024', '20221024', '20221024', '20221024'],\n",
    "     '이름' : ['김중헌', '이하림', '조민정', '주채연'],\n",
    "     '나이' : ['29', '29', '29', '29'],\n",
    "     '성별' : ['남', '여', '여', '여'],\n",
    "     '기수' : ['4', '5', '5', '5'],\n",
    "     }\n",
    ")\n",
    "name_df"
   ]
  },
  {
   "cell_type": "code",
   "execution_count": 87,
   "metadata": {},
   "outputs": [
    {
     "data": {
      "text/html": [
       "<div>\n",
       "<style scoped>\n",
       "    .dataframe tbody tr th:only-of-type {\n",
       "        vertical-align: middle;\n",
       "    }\n",
       "\n",
       "    .dataframe tbody tr th {\n",
       "        vertical-align: top;\n",
       "    }\n",
       "\n",
       "    .dataframe thead th {\n",
       "        text-align: right;\n",
       "    }\n",
       "</style>\n",
       "<table border=\"1\" class=\"dataframe\">\n",
       "  <thead>\n",
       "    <tr style=\"text-align: right;\">\n",
       "      <th></th>\n",
       "      <th>날짜</th>\n",
       "      <th>이름</th>\n",
       "      <th>나이</th>\n",
       "      <th>성별</th>\n",
       "      <th>기수</th>\n",
       "    </tr>\n",
       "  </thead>\n",
       "  <tbody>\n",
       "    <tr>\n",
       "      <th>0</th>\n",
       "      <td>20221024</td>\n",
       "      <td>김중헌</td>\n",
       "      <td>29</td>\n",
       "      <td>남</td>\n",
       "      <td>4</td>\n",
       "    </tr>\n",
       "    <tr>\n",
       "      <th>1</th>\n",
       "      <td>20221024</td>\n",
       "      <td>이하림</td>\n",
       "      <td>29</td>\n",
       "      <td>여</td>\n",
       "      <td>5</td>\n",
       "    </tr>\n",
       "    <tr>\n",
       "      <th>2</th>\n",
       "      <td>20221024</td>\n",
       "      <td>조민정</td>\n",
       "      <td>29</td>\n",
       "      <td>여</td>\n",
       "      <td>5</td>\n",
       "    </tr>\n",
       "    <tr>\n",
       "      <th>3</th>\n",
       "      <td>20221024</td>\n",
       "      <td>주채연</td>\n",
       "      <td>29</td>\n",
       "      <td>여</td>\n",
       "      <td>5</td>\n",
       "    </tr>\n",
       "  </tbody>\n",
       "</table>\n",
       "</div>"
      ],
      "text/plain": [
       "         날짜   이름  나이 성별  기수\n",
       "0  20221024  김중헌  29  남   4\n",
       "1  20221024  이하림  29  여   5\n",
       "2  20221024  조민정  29  여   5\n",
       "3  20221024  주채연  29  여   5"
      ]
     },
     "execution_count": 87,
     "metadata": {},
     "output_type": "execute_result"
    }
   ],
   "source": [
    "name_df = pd.DataFrame(\n",
    "    [['20221024', '김중헌', '29', '남', 4],\n",
    "    ['20221024', '이하림', '29', '여', 5],\n",
    "    ['20221024', '조민정', '29', '여', 5],\n",
    "    ['20221024', '주채연', '29', '여', 5]],\n",
    "    columns = ['날짜', '이름', '나이', '성별', '기수']\n",
    ")\n",
    "name_df"
   ]
  },
  {
   "cell_type": "markdown",
   "metadata": {},
   "source": [
    "### 2. 데이터 타입 변경\n",
    "- name_df 컬럼들의 데이터 타입을 출력하세요.\n",
    "- 날짜 컬럼의 데이터 타입을 datetime으로 변경하세요.\n",
    "- 나이 컬럼의 데이터 타입을 int로 변경하세요."
   ]
  },
  {
   "cell_type": "code",
   "execution_count": 77,
   "metadata": {},
   "outputs": [
    {
     "data": {
      "text/plain": [
       "날짜    object\n",
       "이름    object\n",
       "나이    object\n",
       "성별    object\n",
       "기수     int64\n",
       "dtype: object"
      ]
     },
     "execution_count": 77,
     "metadata": {},
     "output_type": "execute_result"
    }
   ],
   "source": [
    "name_df.dtypes"
   ]
  },
  {
   "cell_type": "code",
   "execution_count": 78,
   "metadata": {},
   "outputs": [
    {
     "data": {
      "text/plain": [
       "dtype('O')"
      ]
     },
     "execution_count": 78,
     "metadata": {},
     "output_type": "execute_result"
    }
   ],
   "source": [
    "name_df[\"날짜\"].dtype"
   ]
  },
  {
   "cell_type": "code",
   "execution_count": 79,
   "metadata": {},
   "outputs": [
    {
     "name": "stdout",
     "output_type": "stream",
     "text": [
      "<class 'pandas.core.frame.DataFrame'>\n",
      "RangeIndex: 4 entries, 0 to 3\n",
      "Data columns (total 5 columns):\n",
      " #   Column  Non-Null Count  Dtype \n",
      "---  ------  --------------  ----- \n",
      " 0   날짜      4 non-null      object\n",
      " 1   이름      4 non-null      object\n",
      " 2   나이      4 non-null      object\n",
      " 3   성별      4 non-null      object\n",
      " 4   기수      4 non-null      int64 \n",
      "dtypes: int64(1), object(4)\n",
      "memory usage: 288.0+ bytes\n"
     ]
    }
   ],
   "source": [
    "name_df.info()"
   ]
  },
  {
   "cell_type": "code",
   "execution_count": 80,
   "metadata": {},
   "outputs": [
    {
     "name": "stdout",
     "output_type": "stream",
     "text": [
      "<class 'pandas.core.frame.DataFrame'>\n",
      "RangeIndex: 4 entries, 0 to 3\n",
      "Data columns (total 5 columns):\n",
      " #   Column  Non-Null Count  Dtype         \n",
      "---  ------  --------------  -----         \n",
      " 0   날짜      4 non-null      datetime64[ns]\n",
      " 1   이름      4 non-null      object        \n",
      " 2   나이      4 non-null      int32         \n",
      " 3   성별      4 non-null      object        \n",
      " 4   기수      4 non-null      int64         \n",
      "dtypes: datetime64[ns](1), int32(1), int64(1), object(2)\n",
      "memory usage: 272.0+ bytes\n"
     ]
    }
   ],
   "source": [
    "name_df['날짜'] = pd.to_datetime(name_df['날짜'], format='%Y%m%d')\n",
    "name_df['나이'] = name_df['나이'].astype(int)\n",
    "name_df.info()"
   ]
  },
  {
   "cell_type": "markdown",
   "metadata": {},
   "source": [
    "## 3. 컬럼 변경\n",
    "- 이름 컬럼의 컬럼명을 name으로 바꾸세요.\n",
    "- 컬럼의 순서를 날짜 name 성별 기수 나이 로 바꾸세요."
   ]
  },
  {
   "cell_type": "code",
   "execution_count": 81,
   "metadata": {},
   "outputs": [
    {
     "data": {
      "text/html": [
       "<div>\n",
       "<style scoped>\n",
       "    .dataframe tbody tr th:only-of-type {\n",
       "        vertical-align: middle;\n",
       "    }\n",
       "\n",
       "    .dataframe tbody tr th {\n",
       "        vertical-align: top;\n",
       "    }\n",
       "\n",
       "    .dataframe thead th {\n",
       "        text-align: right;\n",
       "    }\n",
       "</style>\n",
       "<table border=\"1\" class=\"dataframe\">\n",
       "  <thead>\n",
       "    <tr style=\"text-align: right;\">\n",
       "      <th></th>\n",
       "      <th>날짜</th>\n",
       "      <th>name</th>\n",
       "      <th>나이</th>\n",
       "      <th>성별</th>\n",
       "      <th>기수</th>\n",
       "    </tr>\n",
       "  </thead>\n",
       "  <tbody>\n",
       "    <tr>\n",
       "      <th>0</th>\n",
       "      <td>2022-10-24</td>\n",
       "      <td>김중헌</td>\n",
       "      <td>29</td>\n",
       "      <td>남</td>\n",
       "      <td>4</td>\n",
       "    </tr>\n",
       "    <tr>\n",
       "      <th>1</th>\n",
       "      <td>2022-10-24</td>\n",
       "      <td>이하림</td>\n",
       "      <td>29</td>\n",
       "      <td>여</td>\n",
       "      <td>5</td>\n",
       "    </tr>\n",
       "    <tr>\n",
       "      <th>2</th>\n",
       "      <td>2022-10-24</td>\n",
       "      <td>조민정</td>\n",
       "      <td>29</td>\n",
       "      <td>여</td>\n",
       "      <td>5</td>\n",
       "    </tr>\n",
       "    <tr>\n",
       "      <th>3</th>\n",
       "      <td>2022-10-24</td>\n",
       "      <td>주채연</td>\n",
       "      <td>29</td>\n",
       "      <td>여</td>\n",
       "      <td>5</td>\n",
       "    </tr>\n",
       "  </tbody>\n",
       "</table>\n",
       "</div>"
      ],
      "text/plain": [
       "          날짜 name  나이 성별  기수\n",
       "0 2022-10-24  김중헌  29  남   4\n",
       "1 2022-10-24  이하림  29  여   5\n",
       "2 2022-10-24  조민정  29  여   5\n",
       "3 2022-10-24  주채연  29  여   5"
      ]
     },
     "execution_count": 81,
     "metadata": {},
     "output_type": "execute_result"
    }
   ],
   "source": [
    "name_df.rename(columns={'이름':'name'}, inplace=True)\n",
    "name_df"
   ]
  },
  {
   "cell_type": "code",
   "execution_count": 82,
   "metadata": {},
   "outputs": [
    {
     "data": {
      "text/plain": [
       "Index(['날짜', 'name', '나이', '성별', '기수'], dtype='object')"
      ]
     },
     "execution_count": 82,
     "metadata": {},
     "output_type": "execute_result"
    }
   ],
   "source": [
    "name_df.columns"
   ]
  },
  {
   "cell_type": "code",
   "execution_count": 83,
   "metadata": {},
   "outputs": [
    {
     "data": {
      "text/html": [
       "<div>\n",
       "<style scoped>\n",
       "    .dataframe tbody tr th:only-of-type {\n",
       "        vertical-align: middle;\n",
       "    }\n",
       "\n",
       "    .dataframe tbody tr th {\n",
       "        vertical-align: top;\n",
       "    }\n",
       "\n",
       "    .dataframe thead th {\n",
       "        text-align: right;\n",
       "    }\n",
       "</style>\n",
       "<table border=\"1\" class=\"dataframe\">\n",
       "  <thead>\n",
       "    <tr style=\"text-align: right;\">\n",
       "      <th></th>\n",
       "      <th>날짜</th>\n",
       "      <th>name</th>\n",
       "      <th>성별</th>\n",
       "      <th>기수</th>\n",
       "      <th>나이</th>\n",
       "    </tr>\n",
       "  </thead>\n",
       "  <tbody>\n",
       "    <tr>\n",
       "      <th>0</th>\n",
       "      <td>2022-10-24</td>\n",
       "      <td>김중헌</td>\n",
       "      <td>남</td>\n",
       "      <td>4</td>\n",
       "      <td>29</td>\n",
       "    </tr>\n",
       "    <tr>\n",
       "      <th>1</th>\n",
       "      <td>2022-10-24</td>\n",
       "      <td>이하림</td>\n",
       "      <td>여</td>\n",
       "      <td>5</td>\n",
       "      <td>29</td>\n",
       "    </tr>\n",
       "    <tr>\n",
       "      <th>2</th>\n",
       "      <td>2022-10-24</td>\n",
       "      <td>조민정</td>\n",
       "      <td>여</td>\n",
       "      <td>5</td>\n",
       "      <td>29</td>\n",
       "    </tr>\n",
       "    <tr>\n",
       "      <th>3</th>\n",
       "      <td>2022-10-24</td>\n",
       "      <td>주채연</td>\n",
       "      <td>여</td>\n",
       "      <td>5</td>\n",
       "      <td>29</td>\n",
       "    </tr>\n",
       "  </tbody>\n",
       "</table>\n",
       "</div>"
      ],
      "text/plain": [
       "          날짜 name 성별  기수  나이\n",
       "0 2022-10-24  김중헌  남   4  29\n",
       "1 2022-10-24  이하림  여   5  29\n",
       "2 2022-10-24  조민정  여   5  29\n",
       "3 2022-10-24  주채연  여   5  29"
      ]
     },
     "execution_count": 83,
     "metadata": {},
     "output_type": "execute_result"
    }
   ],
   "source": [
    "name_df = name_df[['날짜', 'name', '성별', '기수', '나이']]\n",
    "name_df"
   ]
  },
  {
   "cell_type": "markdown",
   "metadata": {},
   "source": [
    "## 4. 로우 값 변경\n",
    "- 남 은 남자로, 여 는 여자로 바꾸세요."
   ]
  },
  {
   "cell_type": "code",
   "execution_count": 84,
   "metadata": {},
   "outputs": [
    {
     "data": {
      "text/html": [
       "<div>\n",
       "<style scoped>\n",
       "    .dataframe tbody tr th:only-of-type {\n",
       "        vertical-align: middle;\n",
       "    }\n",
       "\n",
       "    .dataframe tbody tr th {\n",
       "        vertical-align: top;\n",
       "    }\n",
       "\n",
       "    .dataframe thead th {\n",
       "        text-align: right;\n",
       "    }\n",
       "</style>\n",
       "<table border=\"1\" class=\"dataframe\">\n",
       "  <thead>\n",
       "    <tr style=\"text-align: right;\">\n",
       "      <th></th>\n",
       "      <th>날짜</th>\n",
       "      <th>name</th>\n",
       "      <th>성별</th>\n",
       "      <th>기수</th>\n",
       "      <th>나이</th>\n",
       "    </tr>\n",
       "  </thead>\n",
       "  <tbody>\n",
       "    <tr>\n",
       "      <th>0</th>\n",
       "      <td>2022-10-24</td>\n",
       "      <td>김중헌</td>\n",
       "      <td>남자</td>\n",
       "      <td>4</td>\n",
       "      <td>29</td>\n",
       "    </tr>\n",
       "    <tr>\n",
       "      <th>1</th>\n",
       "      <td>2022-10-24</td>\n",
       "      <td>이하림</td>\n",
       "      <td>여자</td>\n",
       "      <td>5</td>\n",
       "      <td>29</td>\n",
       "    </tr>\n",
       "    <tr>\n",
       "      <th>2</th>\n",
       "      <td>2022-10-24</td>\n",
       "      <td>조민정</td>\n",
       "      <td>여자</td>\n",
       "      <td>5</td>\n",
       "      <td>29</td>\n",
       "    </tr>\n",
       "    <tr>\n",
       "      <th>3</th>\n",
       "      <td>2022-10-24</td>\n",
       "      <td>주채연</td>\n",
       "      <td>여자</td>\n",
       "      <td>5</td>\n",
       "      <td>29</td>\n",
       "    </tr>\n",
       "  </tbody>\n",
       "</table>\n",
       "</div>"
      ],
      "text/plain": [
       "          날짜 name  성별  기수  나이\n",
       "0 2022-10-24  김중헌  남자   4  29\n",
       "1 2022-10-24  이하림  여자   5  29\n",
       "2 2022-10-24  조민정  여자   5  29\n",
       "3 2022-10-24  주채연  여자   5  29"
      ]
     },
     "execution_count": 84,
     "metadata": {},
     "output_type": "execute_result"
    }
   ],
   "source": [
    "name_df['성별'] = name_df['성별'].str.replace('남', '남자')\n",
    "name_df['성별'] = name_df['성별'].str.replace('여', '여자')\n",
    "name_df"
   ]
  },
  {
   "cell_type": "code",
   "execution_count": 88,
   "metadata": {},
   "outputs": [
    {
     "data": {
      "text/html": [
       "<div>\n",
       "<style scoped>\n",
       "    .dataframe tbody tr th:only-of-type {\n",
       "        vertical-align: middle;\n",
       "    }\n",
       "\n",
       "    .dataframe tbody tr th {\n",
       "        vertical-align: top;\n",
       "    }\n",
       "\n",
       "    .dataframe thead th {\n",
       "        text-align: right;\n",
       "    }\n",
       "</style>\n",
       "<table border=\"1\" class=\"dataframe\">\n",
       "  <thead>\n",
       "    <tr style=\"text-align: right;\">\n",
       "      <th></th>\n",
       "      <th>날짜</th>\n",
       "      <th>이름</th>\n",
       "      <th>나이</th>\n",
       "      <th>성별</th>\n",
       "      <th>기수</th>\n",
       "    </tr>\n",
       "  </thead>\n",
       "  <tbody>\n",
       "    <tr>\n",
       "      <th>0</th>\n",
       "      <td>20221024</td>\n",
       "      <td>김중헌</td>\n",
       "      <td>29</td>\n",
       "      <td>남</td>\n",
       "      <td>4</td>\n",
       "    </tr>\n",
       "    <tr>\n",
       "      <th>1</th>\n",
       "      <td>20221024</td>\n",
       "      <td>이하림</td>\n",
       "      <td>29</td>\n",
       "      <td>여</td>\n",
       "      <td>5</td>\n",
       "    </tr>\n",
       "    <tr>\n",
       "      <th>2</th>\n",
       "      <td>20221024</td>\n",
       "      <td>조민정</td>\n",
       "      <td>29</td>\n",
       "      <td>여</td>\n",
       "      <td>5</td>\n",
       "    </tr>\n",
       "    <tr>\n",
       "      <th>3</th>\n",
       "      <td>20221024</td>\n",
       "      <td>주채연</td>\n",
       "      <td>29</td>\n",
       "      <td>여</td>\n",
       "      <td>5</td>\n",
       "    </tr>\n",
       "  </tbody>\n",
       "</table>\n",
       "</div>"
      ],
      "text/plain": [
       "         날짜   이름  나이 성별  기수\n",
       "0  20221024  김중헌  29  남   4\n",
       "1  20221024  이하림  29  여   5\n",
       "2  20221024  조민정  29  여   5\n",
       "3  20221024  주채연  29  여   5"
      ]
     },
     "execution_count": 88,
     "metadata": {},
     "output_type": "execute_result"
    }
   ],
   "source": [
    "name_df"
   ]
  },
  {
   "cell_type": "code",
   "execution_count": 93,
   "metadata": {},
   "outputs": [
    {
     "ename": "TypeError",
     "evalue": "repl must be a string or callable",
     "output_type": "error",
     "traceback": [
      "\u001b[1;31m---------------------------------------------------------------------------\u001b[0m",
      "\u001b[1;31mTypeError\u001b[0m                                 Traceback (most recent call last)",
      "\u001b[1;32mc:\\ubion5_tutor\\pandas_test_answer.ipynb 셀 18\u001b[0m in \u001b[0;36m<cell line: 1>\u001b[1;34m()\u001b[0m\n\u001b[1;32m----> <a href='vscode-notebook-cell:/c%3A/ubion5_tutor/pandas_test_answer.ipynb#X25sZmlsZQ%3D%3D?line=0'>1</a>\u001b[0m name_df[\u001b[39m'\u001b[39m\u001b[39m성별\u001b[39m\u001b[39m'\u001b[39m] \u001b[39m=\u001b[39m name_df[\u001b[39m'\u001b[39;49m\u001b[39m성별\u001b[39;49m\u001b[39m'\u001b[39;49m]\u001b[39m.\u001b[39;49mstr\u001b[39m.\u001b[39;49mreplace({\u001b[39m'\u001b[39;49m\u001b[39m남\u001b[39;49m\u001b[39m'\u001b[39;49m: \u001b[39m'\u001b[39;49m\u001b[39m남자\u001b[39;49m\u001b[39m'\u001b[39;49m}, {\u001b[39m'\u001b[39;49m\u001b[39m여\u001b[39;49m\u001b[39m'\u001b[39;49m: \u001b[39m'\u001b[39;49m\u001b[39m여자\u001b[39;49m\u001b[39m'\u001b[39;49m})\n\u001b[0;32m      <a href='vscode-notebook-cell:/c%3A/ubion5_tutor/pandas_test_answer.ipynb#X25sZmlsZQ%3D%3D?line=1'>2</a>\u001b[0m name_df\n",
      "File \u001b[1;32mc:\\Users\\wndgj\\AppData\\Local\\Programs\\Python\\Python310\\lib\\site-packages\\pandas\\core\\strings\\accessor.py:125\u001b[0m, in \u001b[0;36mforbid_nonstring_types.<locals>._forbid_nonstring_types.<locals>.wrapper\u001b[1;34m(self, *args, **kwargs)\u001b[0m\n\u001b[0;32m    120\u001b[0m     msg \u001b[39m=\u001b[39m (\n\u001b[0;32m    121\u001b[0m         \u001b[39mf\u001b[39m\u001b[39m\"\u001b[39m\u001b[39mCannot use .str.\u001b[39m\u001b[39m{\u001b[39;00mfunc_name\u001b[39m}\u001b[39;00m\u001b[39m with values of \u001b[39m\u001b[39m\"\u001b[39m\n\u001b[0;32m    122\u001b[0m         \u001b[39mf\u001b[39m\u001b[39m\"\u001b[39m\u001b[39minferred dtype \u001b[39m\u001b[39m'\u001b[39m\u001b[39m{\u001b[39;00m\u001b[39mself\u001b[39m\u001b[39m.\u001b[39m_inferred_dtype\u001b[39m}\u001b[39;00m\u001b[39m'\u001b[39m\u001b[39m.\u001b[39m\u001b[39m\"\u001b[39m\n\u001b[0;32m    123\u001b[0m     )\n\u001b[0;32m    124\u001b[0m     \u001b[39mraise\u001b[39;00m \u001b[39mTypeError\u001b[39;00m(msg)\n\u001b[1;32m--> 125\u001b[0m \u001b[39mreturn\u001b[39;00m func(\u001b[39mself\u001b[39m, \u001b[39m*\u001b[39margs, \u001b[39m*\u001b[39m\u001b[39m*\u001b[39mkwargs)\n",
      "File \u001b[1;32mc:\\Users\\wndgj\\AppData\\Local\\Programs\\Python\\Python310\\lib\\site-packages\\pandas\\core\\strings\\accessor.py:1435\u001b[0m, in \u001b[0;36mStringMethods.replace\u001b[1;34m(self, pat, repl, n, case, flags, regex)\u001b[0m\n\u001b[0;32m   1433\u001b[0m \u001b[39m# Check whether repl is valid (GH 13438, GH 15055)\u001b[39;00m\n\u001b[0;32m   1434\u001b[0m \u001b[39mif\u001b[39;00m \u001b[39mnot\u001b[39;00m (\u001b[39misinstance\u001b[39m(repl, \u001b[39mstr\u001b[39m) \u001b[39mor\u001b[39;00m callable(repl)):\n\u001b[1;32m-> 1435\u001b[0m     \u001b[39mraise\u001b[39;00m \u001b[39mTypeError\u001b[39;00m(\u001b[39m\"\u001b[39m\u001b[39mrepl must be a string or callable\u001b[39m\u001b[39m\"\u001b[39m)\n\u001b[0;32m   1437\u001b[0m is_compiled_re \u001b[39m=\u001b[39m is_re(pat)\n\u001b[0;32m   1438\u001b[0m \u001b[39mif\u001b[39;00m regex \u001b[39mor\u001b[39;00m regex \u001b[39mis\u001b[39;00m \u001b[39mNone\u001b[39;00m:\n",
      "\u001b[1;31mTypeError\u001b[0m: repl must be a string or callable"
     ]
    }
   ],
   "source": [
    "name_df['성별'] = name_df['성별'].str.replace({'남': '남자'}, {'여': '여자'})\n",
    "name_df"
   ]
  },
  {
   "cell_type": "code",
   "execution_count": 86,
   "metadata": {},
   "outputs": [
    {
     "data": {
      "text/plain": [
       "1    5\n",
       "2    5\n",
       "3    5\n",
       "0    4\n",
       "Name: 기수, dtype: int64"
      ]
     },
     "execution_count": 86,
     "metadata": {},
     "output_type": "execute_result"
    }
   ],
   "source": [
    "name_df['기수'].sort_values(ascending=False)"
   ]
  },
  {
   "cell_type": "code",
   "execution_count": null,
   "metadata": {},
   "outputs": [],
   "source": []
  }
 ],
 "metadata": {
  "kernelspec": {
   "display_name": "Python 3.10.1 64-bit",
   "language": "python",
   "name": "python3"
  },
  "language_info": {
   "codemirror_mode": {
    "name": "ipython",
    "version": 3
   },
   "file_extension": ".py",
   "mimetype": "text/x-python",
   "name": "python",
   "nbconvert_exporter": "python",
   "pygments_lexer": "ipython3",
   "version": "3.10.1"
  },
  "orig_nbformat": 4,
  "vscode": {
   "interpreter": {
    "hash": "664601c8c9e5ea170ac235a51849067b39cba8c284ace64cc1dec43cb5b20d30"
   }
  }
 },
 "nbformat": 4,
 "nbformat_minor": 2
}
