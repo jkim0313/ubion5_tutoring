{
 "cells": [
  {
   "cell_type": "code",
   "execution_count": 57,
   "metadata": {},
   "outputs": [
    {
     "data": {
      "text/html": [
       "<div>\n",
       "<style scoped>\n",
       "    .dataframe tbody tr th:only-of-type {\n",
       "        vertical-align: middle;\n",
       "    }\n",
       "\n",
       "    .dataframe tbody tr th {\n",
       "        vertical-align: top;\n",
       "    }\n",
       "\n",
       "    .dataframe thead th {\n",
       "        text-align: right;\n",
       "    }\n",
       "</style>\n",
       "<table border=\"1\" class=\"dataframe\">\n",
       "  <thead>\n",
       "    <tr style=\"text-align: right;\">\n",
       "      <th></th>\n",
       "      <th>alcohol</th>\n",
       "      <th>sugar</th>\n",
       "      <th>pH</th>\n",
       "      <th>class</th>\n",
       "    </tr>\n",
       "  </thead>\n",
       "  <tbody>\n",
       "    <tr>\n",
       "      <th>0</th>\n",
       "      <td>9.4</td>\n",
       "      <td>1.9</td>\n",
       "      <td>3.51</td>\n",
       "      <td>0</td>\n",
       "    </tr>\n",
       "    <tr>\n",
       "      <th>1</th>\n",
       "      <td>9.8</td>\n",
       "      <td>2.6</td>\n",
       "      <td>3.20</td>\n",
       "      <td>0</td>\n",
       "    </tr>\n",
       "    <tr>\n",
       "      <th>2</th>\n",
       "      <td>9.8</td>\n",
       "      <td>2.3</td>\n",
       "      <td>3.26</td>\n",
       "      <td>0</td>\n",
       "    </tr>\n",
       "    <tr>\n",
       "      <th>3</th>\n",
       "      <td>9.8</td>\n",
       "      <td>1.9</td>\n",
       "      <td>3.16</td>\n",
       "      <td>0</td>\n",
       "    </tr>\n",
       "    <tr>\n",
       "      <th>4</th>\n",
       "      <td>9.4</td>\n",
       "      <td>1.9</td>\n",
       "      <td>3.51</td>\n",
       "      <td>0</td>\n",
       "    </tr>\n",
       "    <tr>\n",
       "      <th>...</th>\n",
       "      <td>...</td>\n",
       "      <td>...</td>\n",
       "      <td>...</td>\n",
       "      <td>...</td>\n",
       "    </tr>\n",
       "    <tr>\n",
       "      <th>6492</th>\n",
       "      <td>11.2</td>\n",
       "      <td>1.6</td>\n",
       "      <td>3.27</td>\n",
       "      <td>1</td>\n",
       "    </tr>\n",
       "    <tr>\n",
       "      <th>6493</th>\n",
       "      <td>9.6</td>\n",
       "      <td>8.0</td>\n",
       "      <td>3.15</td>\n",
       "      <td>1</td>\n",
       "    </tr>\n",
       "    <tr>\n",
       "      <th>6494</th>\n",
       "      <td>9.4</td>\n",
       "      <td>1.2</td>\n",
       "      <td>2.99</td>\n",
       "      <td>1</td>\n",
       "    </tr>\n",
       "    <tr>\n",
       "      <th>6495</th>\n",
       "      <td>12.8</td>\n",
       "      <td>1.1</td>\n",
       "      <td>3.34</td>\n",
       "      <td>1</td>\n",
       "    </tr>\n",
       "    <tr>\n",
       "      <th>6496</th>\n",
       "      <td>11.8</td>\n",
       "      <td>0.8</td>\n",
       "      <td>3.26</td>\n",
       "      <td>1</td>\n",
       "    </tr>\n",
       "  </tbody>\n",
       "</table>\n",
       "<p>6497 rows × 4 columns</p>\n",
       "</div>"
      ],
      "text/plain": [
       "      alcohol  sugar    pH  class\n",
       "0         9.4    1.9  3.51      0\n",
       "1         9.8    2.6  3.20      0\n",
       "2         9.8    2.3  3.26      0\n",
       "3         9.8    1.9  3.16      0\n",
       "4         9.4    1.9  3.51      0\n",
       "...       ...    ...   ...    ...\n",
       "6492     11.2    1.6  3.27      1\n",
       "6493      9.6    8.0  3.15      1\n",
       "6494      9.4    1.2  2.99      1\n",
       "6495     12.8    1.1  3.34      1\n",
       "6496     11.8    0.8  3.26      1\n",
       "\n",
       "[6497 rows x 4 columns]"
      ]
     },
     "execution_count": 57,
     "metadata": {},
     "output_type": "execute_result"
    }
   ],
   "source": [
    "import pandas as pd\n",
    "\n",
    "wine_df = pd.read_csv('./csv/wine.csv', encoding='CP949')\n",
    "\n",
    "wine_df"
   ]
  },
  {
   "cell_type": "code",
   "execution_count": 82,
   "metadata": {},
   "outputs": [
    {
     "name": "stdout",
     "output_type": "stream",
     "text": [
      "<class 'pandas.core.frame.DataFrame'>\n",
      "RangeIndex: 6497 entries, 0 to 6496\n",
      "Data columns (total 4 columns):\n",
      " #   Column  Non-Null Count  Dtype  \n",
      "---  ------  --------------  -----  \n",
      " 0   도수      6497 non-null   float64\n",
      " 1   당도      6497 non-null   float64\n",
      " 2   산도      6497 non-null   float64\n",
      " 3   타겟      6497 non-null   int64  \n",
      "dtypes: float64(3), int64(1)\n",
      "memory usage: 203.2 KB\n"
     ]
    }
   ],
   "source": [
    "wine_df.info()"
   ]
  },
  {
   "cell_type": "code",
   "execution_count": 83,
   "metadata": {},
   "outputs": [
    {
     "data": {
      "text/html": [
       "<div>\n",
       "<style scoped>\n",
       "    .dataframe tbody tr th:only-of-type {\n",
       "        vertical-align: middle;\n",
       "    }\n",
       "\n",
       "    .dataframe tbody tr th {\n",
       "        vertical-align: top;\n",
       "    }\n",
       "\n",
       "    .dataframe thead th {\n",
       "        text-align: right;\n",
       "    }\n",
       "</style>\n",
       "<table border=\"1\" class=\"dataframe\">\n",
       "  <thead>\n",
       "    <tr style=\"text-align: right;\">\n",
       "      <th></th>\n",
       "      <th>도수</th>\n",
       "      <th>당도</th>\n",
       "      <th>산도</th>\n",
       "      <th>타겟</th>\n",
       "    </tr>\n",
       "  </thead>\n",
       "  <tbody>\n",
       "    <tr>\n",
       "      <th>count</th>\n",
       "      <td>6497.000000</td>\n",
       "      <td>6497.000000</td>\n",
       "      <td>6497.000000</td>\n",
       "      <td>6497.000000</td>\n",
       "    </tr>\n",
       "    <tr>\n",
       "      <th>mean</th>\n",
       "      <td>10.491801</td>\n",
       "      <td>5.443235</td>\n",
       "      <td>3.218501</td>\n",
       "      <td>0.753886</td>\n",
       "    </tr>\n",
       "    <tr>\n",
       "      <th>std</th>\n",
       "      <td>1.192712</td>\n",
       "      <td>4.757804</td>\n",
       "      <td>0.160787</td>\n",
       "      <td>0.430779</td>\n",
       "    </tr>\n",
       "    <tr>\n",
       "      <th>min</th>\n",
       "      <td>8.000000</td>\n",
       "      <td>0.600000</td>\n",
       "      <td>2.720000</td>\n",
       "      <td>0.000000</td>\n",
       "    </tr>\n",
       "    <tr>\n",
       "      <th>25%</th>\n",
       "      <td>9.500000</td>\n",
       "      <td>1.800000</td>\n",
       "      <td>3.110000</td>\n",
       "      <td>1.000000</td>\n",
       "    </tr>\n",
       "    <tr>\n",
       "      <th>50%</th>\n",
       "      <td>10.300000</td>\n",
       "      <td>3.000000</td>\n",
       "      <td>3.210000</td>\n",
       "      <td>1.000000</td>\n",
       "    </tr>\n",
       "    <tr>\n",
       "      <th>75%</th>\n",
       "      <td>11.300000</td>\n",
       "      <td>8.100000</td>\n",
       "      <td>3.320000</td>\n",
       "      <td>1.000000</td>\n",
       "    </tr>\n",
       "    <tr>\n",
       "      <th>max</th>\n",
       "      <td>14.900000</td>\n",
       "      <td>65.800000</td>\n",
       "      <td>4.010000</td>\n",
       "      <td>1.000000</td>\n",
       "    </tr>\n",
       "  </tbody>\n",
       "</table>\n",
       "</div>"
      ],
      "text/plain": [
       "                도수           당도           산도           타겟\n",
       "count  6497.000000  6497.000000  6497.000000  6497.000000\n",
       "mean     10.491801     5.443235     3.218501     0.753886\n",
       "std       1.192712     4.757804     0.160787     0.430779\n",
       "min       8.000000     0.600000     2.720000     0.000000\n",
       "25%       9.500000     1.800000     3.110000     1.000000\n",
       "50%      10.300000     3.000000     3.210000     1.000000\n",
       "75%      11.300000     8.100000     3.320000     1.000000\n",
       "max      14.900000    65.800000     4.010000     1.000000"
      ]
     },
     "execution_count": 83,
     "metadata": {},
     "output_type": "execute_result"
    }
   ],
   "source": [
    "wine_df.describe()"
   ]
  },
  {
   "cell_type": "code",
   "execution_count": 84,
   "metadata": {},
   "outputs": [
    {
     "data": {
      "text/plain": [
       "도수    0\n",
       "당도    0\n",
       "산도    0\n",
       "타겟    0\n",
       "dtype: int64"
      ]
     },
     "execution_count": 84,
     "metadata": {},
     "output_type": "execute_result"
    }
   ],
   "source": [
    "wine_df.isna().sum()"
   ]
  },
  {
   "cell_type": "code",
   "execution_count": 85,
   "metadata": {},
   "outputs": [
    {
     "data": {
      "text/plain": [
       "Index(['도수', '당도', '산도', '타겟'], dtype='object')"
      ]
     },
     "execution_count": 85,
     "metadata": {},
     "output_type": "execute_result"
    }
   ],
   "source": [
    "# 컬럼명 확인\n",
    "wine_df.columns"
   ]
  },
  {
   "cell_type": "code",
   "execution_count": 86,
   "metadata": {},
   "outputs": [
    {
     "data": {
      "text/plain": [
       "Index(['도수', '당도', '산도', '타겟'], dtype='object')"
      ]
     },
     "execution_count": 86,
     "metadata": {},
     "output_type": "execute_result"
    }
   ],
   "source": [
    "# 컬럼명 변경\n",
    "wine_df.rename(columns={\n",
    "    'alcohol' : '도수', \n",
    "    'sugar' : '당도', \n",
    "    'pH' : '산도',\n",
    "    'class' : '타겟'}, inplace=True)\n",
    "\n",
    "wine_df.columns"
   ]
  },
  {
   "cell_type": "markdown",
   "metadata": {},
   "source": [
    "### 피처와 레이블"
   ]
  },
  {
   "cell_type": "code",
   "execution_count": 87,
   "metadata": {},
   "outputs": [
    {
     "name": "stdout",
     "output_type": "stream",
     "text": [
      "        도수   당도    산도\n",
      "0      9.4  1.9  3.51\n",
      "1      9.8  2.6  3.20\n",
      "2      9.8  2.3  3.26\n",
      "3      9.8  1.9  3.16\n",
      "4      9.4  1.9  3.51\n",
      "...    ...  ...   ...\n",
      "6492  11.2  1.6  3.27\n",
      "6493   9.6  8.0  3.15\n",
      "6494   9.4  1.2  2.99\n",
      "6495  12.8  1.1  3.34\n",
      "6496  11.8  0.8  3.26\n",
      "\n",
      "[6497 rows x 3 columns]\n",
      "0       0\n",
      "1       0\n",
      "2       0\n",
      "3       0\n",
      "4       0\n",
      "       ..\n",
      "6492    1\n",
      "6493    1\n",
      "6494    1\n",
      "6495    1\n",
      "6496    1\n",
      "Name: 타겟, Length: 6497, dtype: int64\n",
      "1    4898\n",
      "0    1599\n",
      "Name: 타겟, dtype: int64\n"
     ]
    }
   ],
   "source": [
    "# 레이블이 0 이면 레드 와인\n",
    "# 레이블이 1 이면 화이트 와인\n",
    "data = wine_df[['도수', '당도', '산도']]\n",
    "target = wine_df['타겟']\n",
    "\n",
    "print(data)\n",
    "print(target)\n",
    "print(target.value_counts())"
   ]
  },
  {
   "cell_type": "markdown",
   "metadata": {},
   "source": [
    "### 데이터 분리"
   ]
  },
  {
   "cell_type": "code",
   "execution_count": 88,
   "metadata": {},
   "outputs": [],
   "source": [
    "from sklearn.model_selection import train_test_split\n",
    "\n",
    "X_train, X_test, y_train, y_test = train_test_split(data, target, test_size=0.3, random_state=42)"
   ]
  },
  {
   "cell_type": "code",
   "execution_count": 89,
   "metadata": {},
   "outputs": [
    {
     "name": "stdout",
     "output_type": "stream",
     "text": [
      "X 테스트 데이터 : \n",
      "        도수     당도    산도\n",
      "3103  12.2  12.80  3.26\n",
      "1419   9.9   2.20  3.27\n",
      "4761  12.0   7.40  3.18\n",
      "4690   9.5  11.20  3.12\n",
      "4032   8.9  13.90  3.11\n",
      "...    ...    ...   ...\n",
      "4294  11.3   9.65  3.28\n",
      "3757  10.6   1.30  3.52\n",
      "5954  12.7   2.50  3.22\n",
      "4418  11.4   2.00  3.44\n",
      "6182   9.3   7.90  2.86\n",
      "\n",
      "[1950 rows x 3 columns]\n",
      "y 테스트 데이터 : \n",
      "[1, 0, 1, 1, 1, 0, 1, 1, 0, 1, 1, 1, 1, 0, 0, 1, 0, 1, 1, 1, 1, 1, 1, 1, 1, 1, 1, 1, 0, 0, 0, 1, 0, 1, 0, 1, 0, 0, 1, 1, 1, 0, 1, 1, 0, 1, 1, 0, 0, 1, 0, 0, 1, 0, 1, 1, 0, 1, 1, 1, 1, 1, 0, 1, 1, 1, 0, 1, 1, 1, 1, 0, 1, 1, 1, 1, 1, 1, 1, 1, 0, 1, 0, 1, 0, 1, 0, 0, 0, 1, 0, 1, 1, 1, 0, 1, 0, 1, 1, 0, 0, 1, 1, 1, 0, 1, 1, 1, 1, 1, 1, 1, 0, 1, 1, 1, 1, 1, 0, 1, 1, 1, 1, 1, 1, 1, 1, 1, 0, 0, 0, 0, 1, 1, 1, 1, 1, 1, 1, 1, 1, 1, 0, 1, 1, 1, 1, 1, 1, 0, 1, 0, 1, 1, 1, 1, 0, 1, 0, 1, 1, 1, 1, 1, 1, 1, 0, 1, 1, 1, 1, 1, 1, 1, 1, 1, 0, 0, 0, 1, 1, 1, 1, 1, 1, 1, 1, 1, 0, 0, 1, 0, 1, 0, 1, 1, 0, 1, 1, 1, 1, 1, 0, 1, 1, 1, 1, 1, 1, 1, 0, 1, 1, 0, 1, 1, 1, 1, 1, 1, 0, 1, 1, 1, 1, 1, 0, 0, 1, 1, 1, 1, 1, 1, 1, 1, 1, 1, 1, 1, 0, 1, 1, 1, 1, 1, 0, 1, 1, 1, 1, 1, 1, 0, 1, 1, 1, 1, 0, 1, 1, 1, 0, 1, 1, 1, 1, 1, 1, 1, 1, 1, 1, 0, 1, 1, 1, 1, 1, 1, 1, 1, 1, 0, 1, 1, 1, 1, 1, 0, 1, 0, 1, 1, 1, 1, 1, 1, 1, 1, 1, 1, 1, 1, 1, 0, 1, 1, 0, 1, 1, 0, 0, 1, 1, 0, 1, 0, 1, 1, 1, 1, 1, 1, 1, 1, 0, 1, 1, 1, 1, 1, 1, 1, 1, 1, 0, 0, 0, 0, 0, 1, 1, 0, 1, 1, 1, 1, 0, 1, 1, 1, 0, 1, 1, 1, 1, 1, 1, 0, 1, 1, 1, 1, 1, 1, 0, 0, 0, 1, 1, 0, 1, 1, 0, 1, 1, 0, 1, 0, 1, 0, 1, 1, 1, 1, 0, 1, 0, 1, 0, 1, 0, 0, 0, 1, 1, 1, 1, 1, 1, 1, 1, 1, 0, 0, 0, 0, 1, 1, 1, 0, 0, 0, 1, 1, 1, 1, 1, 1, 0, 1, 1, 1, 1, 1, 0, 0, 0, 1, 1, 1, 1, 1, 1, 1, 1, 1, 0, 1, 0, 1, 0, 0, 1, 0, 1, 0, 1, 1, 1, 0, 1, 1, 1, 1, 1, 1, 1, 1, 1, 1, 0, 1, 1, 0, 0, 1, 1, 1, 1, 0, 1, 0, 1, 1, 1, 1, 1, 1, 1, 1, 1, 1, 0, 1, 0, 1, 1, 0, 1, 1, 1, 0, 1, 1, 1, 0, 1, 1, 1, 1, 1, 1, 1, 1, 1, 0, 1, 0, 1, 1, 1, 0, 1, 0, 1, 1, 1, 1, 1, 1, 0, 0, 1, 0, 0, 1, 1, 1, 0, 0, 1, 1, 0, 0, 1, 1, 0, 0, 1, 1, 1, 0, 1, 1, 1, 1, 0, 1, 0, 1, 0, 0, 1, 0, 1, 0, 0, 1, 1, 1, 1, 1, 1, 1, 0, 1, 0, 1, 1, 1, 1, 1, 1, 0, 1, 0, 0, 1, 0, 1, 1, 0, 1, 0, 1, 1, 1, 1, 0, 1, 1, 1, 1, 1, 1, 1, 1, 1, 1, 0, 1, 1, 1, 1, 1, 0, 1, 0, 1, 1, 1, 1, 0, 0, 1, 0, 1, 1, 1, 1, 1, 0, 1, 0, 0, 1, 1, 1, 1, 1, 1, 1, 1, 1, 1, 0, 1, 1, 1, 0, 1, 1, 1, 1, 0, 1, 1, 1, 1, 1, 1, 1, 0, 0, 0, 1, 1, 1, 0, 1, 1, 1, 1, 0, 1, 0, 1, 0, 0, 1, 1, 0, 1, 1, 1, 1, 0, 0, 1, 1, 1, 1, 1, 1, 1, 0, 0, 1, 1, 1, 0, 0, 1, 0, 1, 0, 1, 1, 1, 1, 1, 1, 1, 0, 1, 0, 0, 1, 0, 1, 1, 1, 1, 1, 1, 1, 1, 0, 1, 1, 1, 1, 0, 1, 0, 1, 1, 1, 1, 1, 1, 1, 1, 1, 1, 0, 1, 1, 1, 1, 1, 1, 1, 0, 1, 1, 0, 1, 0, 1, 1, 0, 1, 0, 1, 1, 1, 1, 1, 1, 1, 1, 1, 1, 0, 0, 1, 1, 1, 1, 1, 1, 1, 1, 1, 1, 1, 1, 0, 0, 1, 1, 0, 1, 1, 1, 1, 1, 1, 1, 0, 0, 1, 1, 0, 1, 1, 1, 1, 1, 1, 0, 1, 1, 1, 0, 1, 1, 1, 1, 1, 1, 1, 1, 1, 1, 0, 1, 0, 1, 1, 1, 1, 1, 1, 1, 1, 1, 1, 1, 1, 1, 1, 1, 1, 1, 0, 1, 1, 0, 1, 1, 1, 1, 0, 1, 1, 0, 1, 0, 1, 0, 1, 0, 1, 1, 1, 0, 1, 1, 0, 1, 1, 0, 0, 0, 1, 0, 0, 1, 0, 0, 0, 1, 0, 1, 0, 1, 1, 1, 0, 1, 1, 1, 1, 1, 1, 0, 1, 0, 1, 1, 0, 0, 0, 1, 1, 1, 1, 1, 0, 1, 1, 0, 1, 1, 0, 1, 0, 1, 1, 1, 1, 1, 1, 0, 1, 1, 1, 1, 1, 1, 0, 1, 1, 1, 0, 0, 1, 1, 1, 0, 1, 1, 0, 0, 1, 1, 1, 1, 1, 0, 1, 1, 0, 1, 0, 1, 1, 0, 1, 0, 1, 1, 1, 1, 1, 1, 1, 1, 1, 0, 1, 0, 1, 1, 1, 0, 0, 0, 1, 1, 1, 1, 1, 1, 1, 1, 0, 1, 1, 0, 1, 0, 1, 0, 1, 0, 1, 1, 1, 1, 0, 1, 1, 1, 1, 1, 0, 0, 0, 1, 1, 0, 1, 1, 1, 0, 0, 1, 1, 1, 1, 1, 1, 1, 0, 0, 1, 1, 1, 1, 1, 0, 1, 1, 0, 1, 1, 0, 1, 1, 1, 1, 1, 1, 1, 1, 1, 1, 1, 1, 1, 1, 1, 1, 1, 1, 1, 1, 1, 1, 1, 1, 0, 1, 1, 0, 0, 1, 1, 1, 1, 1, 0, 1, 1, 1, 0, 0, 0, 1, 0, 1, 1, 1, 0, 0, 1, 1, 1, 1, 1, 1, 1, 1, 1, 1, 1, 1, 1, 1, 1, 0, 1, 1, 1, 1, 1, 0, 0, 1, 1, 1, 1, 1, 0, 0, 1, 1, 1, 1, 1, 0, 0, 1, 1, 1, 0, 0, 1, 0, 0, 0, 1, 1, 1, 1, 1, 1, 1, 1, 1, 1, 0, 1, 1, 0, 1, 1, 0, 1, 1, 0, 0, 0, 1, 1, 1, 1, 0, 0, 1, 1, 1, 1, 1, 1, 1, 1, 0, 1, 1, 1, 1, 1, 0, 1, 0, 1, 0, 1, 1, 1, 1, 0, 0, 1, 0, 1, 0, 0, 1, 1, 0, 0, 0, 1, 1, 1, 1, 1, 0, 1, 1, 1, 1, 1, 1, 1, 1, 1, 1, 1, 1, 1, 1, 1, 1, 1, 1, 1, 1, 0, 1, 0, 0, 1, 1, 1, 1, 0, 1, 1, 1, 1, 1, 1, 0, 1, 1, 1, 1, 1, 1, 1, 1, 1, 0, 1, 0, 1, 1, 1, 1, 1, 1, 1, 1, 1, 1, 1, 1, 1, 1, 0, 1, 0, 0, 1, 1, 0, 0, 0, 1, 0, 1, 1, 0, 1, 1, 1, 1, 1, 1, 1, 1, 1, 0, 1, 1, 1, 1, 1, 1, 0, 1, 0, 1, 1, 1, 0, 0, 0, 1, 1, 1, 1, 1, 0, 0, 1, 1, 0, 1, 0, 0, 1, 1, 1, 1, 1, 1, 0, 1, 1, 1, 1, 1, 1, 1, 1, 1, 1, 0, 0, 1, 1, 1, 1, 1, 1, 0, 1, 0, 0, 0, 1, 1, 1, 0, 1, 1, 1, 1, 0, 1, 1, 0, 1, 0, 1, 1, 1, 1, 1, 0, 1, 1, 1, 1, 1, 1, 0, 1, 0, 0, 1, 1, 1, 1, 0, 1, 1, 1, 1, 0, 0, 1, 1, 1, 0, 0, 1, 1, 0, 1, 0, 1, 1, 1, 0, 1, 0, 1, 1, 1, 1, 1, 1, 1, 1, 1, 1, 0, 1, 1, 1, 1, 1, 0, 0, 0, 1, 1, 1, 1, 1, 1, 0, 0, 1, 1, 1, 1, 0, 1, 1, 1, 1, 1, 1, 1, 1, 0, 1, 1, 1, 0, 1, 1, 1, 0, 0, 1, 1, 0, 1, 0, 1, 1, 0, 1, 0, 0, 1, 1, 1, 1, 0, 0, 1, 1, 1, 1, 0, 1, 0, 1, 0, 1, 0, 1, 0, 1, 1, 1, 0, 0, 0, 1, 1, 1, 1, 0, 0, 1, 1, 1, 1, 1, 1, 1, 1, 1, 1, 0, 0, 0, 1, 1, 0, 1, 1, 1, 1, 1, 1, 1, 1, 1, 1, 0, 0, 1, 0, 0, 0, 1, 1, 1, 0, 1, 1, 1, 1, 1, 1, 1, 1, 1, 1, 0, 1, 0, 1, 1, 1, 1, 1, 0, 1, 1, 1, 1, 0, 1, 1, 0, 1, 0, 0, 0, 0, 1, 1, 0, 0, 1, 0, 0, 1, 1, 1, 1, 1, 1, 1, 1, 1, 0, 0, 1, 1, 1, 1, 0, 1, 1, 1, 1, 1, 1, 1, 0, 1, 0, 1, 0, 1, 1, 1, 1, 0, 1, 0, 1, 1, 0, 1, 1, 1, 1, 1, 1, 1, 1, 0, 1, 0, 1, 1, 1, 1, 1, 0, 0, 1, 1, 1, 1, 1, 1, 0, 0, 0, 1, 1, 1, 0, 1, 1, 1, 1, 0, 1, 0, 1, 0, 1, 0, 1, 1, 1, 1, 1, 1, 1, 0, 1, 0, 1, 1, 1, 1, 1, 1, 1, 1, 0, 0, 1, 1, 1, 1, 0, 1, 1, 1, 1, 1, 1, 1, 1, 1, 1, 1, 1, 1, 1, 1, 1, 1, 1, 1, 1, 1, 1, 1, 1, 1, 0, 1, 1, 1, 1, 1, 1, 1, 0, 0, 1, 1, 0, 0, 1, 1, 0, 1, 0, 0, 1, 1, 0, 1, 1, 0, 1, 1, 0, 1, 1, 0, 0, 1, 1, 1, 0, 1, 1, 1, 1, 0, 1, 1, 1, 1, 1, 1, 1, 1, 1, 0, 0, 1, 1, 1, 1, 1, 1, 1, 1, 1, 0, 0, 1, 1, 1, 1, 1, 0, 1, 1, 0, 1, 1, 1, 1, 1, 1, 1, 1, 0, 1, 1, 1, 0, 0, 1, 1, 1, 1, 0, 1, 1, 1, 1, 1, 0, 1, 0, 1, 1, 1, 1, 1, 1, 1, 1, 0, 1, 1, 1, 1, 1, 0, 1, 1, 1, 1, 1, 1, 1, 1, 1, 1, 1, 1, 0, 1, 1, 1, 1, 1, 1, 1, 0, 1, 1, 0, 1, 1, 0, 1, 1, 1, 1, 1, 0, 1, 1, 1, 1, 1, 1, 1, 1, 0, 1, 1, 0, 1, 1, 1, 1, 0, 1, 0, 0, 0, 1, 0, 1, 1, 0, 1, 1, 1, 1, 1, 1, 0, 0, 0, 1, 1, 1, 1, 1, 1, 1, 1, 1, 1, 1, 1, 1, 1, 1, 1, 1, 1, 1, 0, 1, 1, 1, 0, 1, 1, 1, 1, 1, 1, 0, 0, 1, 1, 0, 1, 1, 1, 0, 1, 1, 1, 1, 1, 1, 1, 1, 1, 1, 1, 1, 1, 1, 1, 1, 1, 1, 0, 1, 1, 1, 1, 0, 1, 1, 1, 1, 0, 0, 1, 1, 1, 1, 1]\n"
     ]
    }
   ],
   "source": [
    "# 데이터를 분리한 후에 출력을 하고, 인덱스가 잘 섞였나 확인.\n",
    "print('X 테스트 데이터 : ')\n",
    "print(X_test)\n",
    "print('y 테스트 데이터 : ')\n",
    "print(list(y_test))"
   ]
  },
  {
   "cell_type": "code",
   "execution_count": 90,
   "metadata": {},
   "outputs": [
    {
     "name": "stdout",
     "output_type": "stream",
     "text": [
      "학습 세트 Shape:(4547, 3), 테스트 세트 Shape:(1950, 3)\n",
      "학습 세트 레이블 값 분포 비율\n",
      "1    0.758742\n",
      "0    0.241258\n",
      "Name: 타겟, dtype: float64\n",
      "\n",
      " 테스트 세트 레이블 값 분포 비율\n",
      "1    0.318452\n",
      "0    0.110402\n",
      "Name: 타겟, dtype: float64\n"
     ]
    }
   ],
   "source": [
    "# 피처, 레이블 데이터 분포 비율\n",
    "\n",
    "train_cnt = y_train.count()\n",
    "test_cnt = y_test.count()\n",
    "print('학습 세트 Shape:{0}, 테스트 세트 Shape:{1}'.format(X_train.shape, X_test.shape))\n",
    "\n",
    "print('학습 세트 레이블 값 분포 비율')\n",
    "print(y_train.value_counts()/train_cnt)\n",
    "print('\\n 테스트 세트 레이블 값 분포 비율')\n",
    "print(y_test.value_counts()/train_cnt)"
   ]
  },
  {
   "cell_type": "markdown",
   "metadata": {},
   "source": [
    "### 머신러닝 분류 모델"
   ]
  },
  {
   "cell_type": "code",
   "execution_count": 91,
   "metadata": {},
   "outputs": [],
   "source": [
    "from sklearn.linear_model import LogisticRegression\n",
    "from sklearn.tree import DecisionTreeClassifier\n",
    "from sklearn.ensemble import RandomForestClassifier\n",
    "from sklearn.ensemble import GradientBoostingClassifier\n",
    "import lightgbm\n",
    "from lightgbm import LGBMClassifier\n",
    "# from xgboost import XGBClassifier\n",
    "from sklearn.neighbors import KNeighborsClassifier\n",
    "from sklearn.naive_bayes import GaussianNB\n",
    "\n",
    "from sklearn.metrics import accuracy_score, roc_auc_score, f1_score, confusion_matrix, recall_score, precision_score\n",
    "\n",
    "\n",
    "import numpy as np\n",
    "import time\n",
    "import warnings\n",
    "warnings.filterwarnings('ignore')\n",
    "\n",
    "lr_clf = LogisticRegression()\n",
    "dt_clf = DecisionTreeClassifier(random_state=42)\n",
    "rf_clf = RandomForestClassifier(random_state=42, n_jobs=-1)\n",
    "gb_clf = GradientBoostingClassifier(random_state=42)\n",
    "lgb_clf = LGBMClassifier(random_state=42)\n",
    "# xgb_wrapper = XGBClassifier(n_estimators=300, learning_rate=0.1, max_depth=3)\n",
    "knn_clf = KNeighborsClassifier()\n",
    "gnb_clf = GaussianNB()"
   ]
  },
  {
   "cell_type": "markdown",
   "metadata": {},
   "source": [
    "### 모델별 학습/예측/평가"
   ]
  },
  {
   "cell_type": "code",
   "execution_count": 92,
   "metadata": {},
   "outputs": [
    {
     "name": "stdout",
     "output_type": "stream",
     "text": [
      "LogisticRegression 정확도: 0.7723\n",
      "LogisticRegression roc_auc: 0.635\n",
      "LogisticRegression 수행 시간: 0.0 초\n",
      "\n",
      "DecisionTreeClassifier 정확도: 0.8600\n",
      "DecisionTreeClassifier roc_auc: 0.819\n",
      "DecisionTree 수행 시간: 0.0 초\n",
      "\n",
      "RandomForestClassifier 정확도: 0.8851\n",
      "RandomForestClassifier roc_auc: 0.851\n",
      "RandomForest 수행 시간: 0.2 초\n",
      "\n",
      "GBM 정확도: 0.8564\n",
      "GBM roc_auc: 0.808\n",
      "GBM 수행 시간: 0.3 초\n",
      "\n",
      "LGBM 정확도: 0.8626\n",
      "LGBM roc_auc: 0.829\n",
      "LGBM 수행 시간: 0.1 초\n",
      "\n",
      "KNN 정확도: 0.8549\n",
      "KNN roc_auc: 0.806\n",
      "KNN 수행 시간: 0.1 초\n",
      "\n",
      "GNB 정확도: 0.7815\n",
      "GNB roc_auc: 0.779\n",
      "GNB 수행 시간: 0.0 초\n"
     ]
    }
   ],
   "source": [
    "# LogisticRegression 학습/예측/평가\n",
    "lr_clf_time = time.time()\n",
    "lr_clf.fit(X_train, y_train)\n",
    "lr_pred = lr_clf.predict(X_test)\n",
    "\n",
    "print('LogisticRegression 정확도: {0:.4f}'.format(accuracy_score(y_test, lr_pred)))\n",
    "print('LogisticRegression roc_auc: {:0.3f}'.format(roc_auc_score(y_test, lr_pred)))\n",
    "print('LogisticRegression 수행 시간: {0:.1f} 초'.format(time.time()-lr_clf_time))\n",
    "\n",
    "# DecisionTreeClassifier 학습/예측/평가\n",
    "dt_clf_time = time.time()\n",
    "dt_clf.fit(X_train, y_train)\n",
    "dt_pred = dt_clf.predict(X_test)\n",
    "\n",
    "print('\\nDecisionTreeClassifier 정확도: {0:.4f}'.format(accuracy_score(y_test, dt_pred)))\n",
    "print('DecisionTreeClassifier roc_auc: {:0.3f}'.format(roc_auc_score(y_test, dt_pred)))\n",
    "print('DecisionTree 수행 시간: {0:.1f} 초'.format(time.time()-dt_clf_time))\n",
    "\n",
    "# RandomForestClassifier 학습/예측/평가\n",
    "rf_clf_time = time.time()\n",
    "rf_clf.fit(X_train, y_train)\n",
    "rf_pred = rf_clf.predict(X_test)\n",
    "\n",
    "print('\\nRandomForestClassifier 정확도: {0:.4f}'.format(accuracy_score(y_test, rf_pred)))\n",
    "print('RandomForestClassifier roc_auc: {:0.3f}'.format(roc_auc_score(y_test, rf_pred)))\n",
    "print('RandomForest 수행 시간: {0:.1f} 초'.format(time.time()-rf_clf_time))\n",
    "\n",
    "# GBM 학습/예측/평가\n",
    "gb_clf_time = time.time()\n",
    "gb_clf.fit(X_train, y_train)\n",
    "gb_pred = gb_clf.predict(X_test)\n",
    "\n",
    "print('\\nGBM 정확도: {0:.4f}'.format(accuracy_score(y_test, gb_pred)))\n",
    "print('GBM roc_auc: {:0.3f}'.format(roc_auc_score(y_test, gb_pred)))\n",
    "print('GBM 수행 시간: {0:.1f} 초'.format(time.time()-gb_clf_time))\n",
    "\n",
    "# LGBM 학습/예측/평가\n",
    "lgb_clf_time = time.time()\n",
    "lgb_clf.fit(X_train, y_train)\n",
    "lgb_pred = lgb_clf.predict(X_test)\n",
    "\n",
    "print('\\nLGBM 정확도: {0:.4f}'.format(accuracy_score(y_test, lgb_pred)))\n",
    "print('LGBM roc_auc: {:0.3f}'.format(roc_auc_score(y_test, lgb_pred)))\n",
    "print('LGBM 수행 시간: {0:.1f} 초'.format(time.time()-lgb_clf_time))\n",
    "\n",
    "# XGBClassifier 학습/예측/평가\n",
    "# xgb_wrapper_time = time.time()\n",
    "# xgb_wrapper.fit(X_train, y_train)\n",
    "# xgb_pred = xgb_wrapper.predict(X_test)\n",
    "\n",
    "# print('\\nXGBC 정확도: {0:.4f}'.format(accuracy_score(y_test, xgb_pred)))\n",
    "# print('XGBC roc_auc: {:0.3f}'.format(roc_auc_score(y_test, xgb_pred)))\n",
    "# print('XGBC 수행 시간: {0:.1f} 초'.format(time.time()-xgb_wrapper_time))\n",
    "\n",
    "# KNN 학습/예측/평가\n",
    "knn_clf_time = time.time()\n",
    "knn_clf.fit(X_train, y_train)\n",
    "knn_pred = knn_clf.predict(X_test)\n",
    "\n",
    "print('\\nKNN 정확도: {0:.4f}'.format(accuracy_score(y_test, knn_pred)))\n",
    "print('KNN roc_auc: {:0.3f}'.format(roc_auc_score(y_test, knn_pred)))\n",
    "print('KNN 수행 시간: {0:.1f} 초'.format(time.time()-knn_clf_time))\n",
    "\n",
    "# GNB 학습/예측/평가\n",
    "gnb_clf_time = time.time()\n",
    "gnb_clf.fit(X_train, y_train)\n",
    "gnb_pred = gnb_clf.predict(X_test)\n",
    "\n",
    "print('\\nGNB 정확도: {0:.4f}'.format(accuracy_score(y_test, gnb_pred)))\n",
    "print('GNB roc_auc: {:0.3f}'.format(roc_auc_score(y_test, gnb_pred)))\n",
    "print('GNB 수행 시간: {0:.1f} 초'.format(time.time()-gnb_clf_time))"
   ]
  },
  {
   "cell_type": "markdown",
   "metadata": {},
   "source": [
    "## 검증 데이터 분리 및 최적 하이퍼 파라미터 탐색"
   ]
  },
  {
   "cell_type": "markdown",
   "metadata": {},
   "source": [
    "### KFold"
   ]
  },
  {
   "cell_type": "code",
   "execution_count": 69,
   "metadata": {},
   "outputs": [],
   "source": [
    "from sklearn.model_selection import KFold\n",
    "import numpy as np\n",
    "\n",
    "def exec_kfold(clf, folds=5):\n",
    "    # 폴드 세트를 5개인 KFold객체 생성\n",
    "    kfold = KFold(n_splits=folds)\n",
    "    scores = []\n",
    "    \n",
    "    # KFold 교차 검증\n",
    "    for iter_count, (train_index, test_index) in enumerate(kfold.split(data)):\n",
    "        X_train, X_test = data.values[train_index], data.values[test_index]\n",
    "        y_train, y_test = target.values[train_index], target.values[test_index]\n",
    "        \n",
    "        clf.fit(X_train, y_train)\n",
    "        predictions = clf.predict(X_test)\n",
    "        accuracy = accuracy_score(y_test, predictions)\n",
    "        scores.append(accuracy)\n",
    "        print(\"교차 검증 {0} 정확도: {1:.4f}\".format(iter_count, accuracy))\n",
    "        \n",
    "    mean_score = np.mean(scores)\n",
    "    print(\"평균 정확도: {0:.4f}\".format(mean_score))"
   ]
  },
  {
   "cell_type": "code",
   "execution_count": 70,
   "metadata": {},
   "outputs": [
    {
     "name": "stdout",
     "output_type": "stream",
     "text": [
      "교차 검증 0 정확도: 0.0062\n",
      "교차 검증 1 정확도: 0.7900\n",
      "교차 검증 2 정확도: 0.8022\n",
      "교차 검증 3 정확도: 0.8938\n",
      "교차 검증 4 정확도: 0.9338\n",
      "평균 정확도: 0.6852\n"
     ]
    }
   ],
   "source": [
    "# Logisticregression KFold\n",
    "exec_kfold(lr_clf, folds=5)"
   ]
  },
  {
   "cell_type": "code",
   "execution_count": 71,
   "metadata": {},
   "outputs": [
    {
     "name": "stdout",
     "output_type": "stream",
     "text": [
      "교차 검증 0 정확도: 0.2608\n",
      "교차 검증 1 정확도: 0.8077\n",
      "교차 검증 2 정확도: 0.8283\n",
      "교차 검증 3 정확도: 0.8368\n",
      "교차 검증 4 정확도: 0.8830\n",
      "평균 정확도: 0.7233\n"
     ]
    }
   ],
   "source": [
    "# DecisionTree KFold\n",
    "exec_kfold(dt_clf, folds=5)"
   ]
  },
  {
   "cell_type": "code",
   "execution_count": 72,
   "metadata": {},
   "outputs": [
    {
     "name": "stdout",
     "output_type": "stream",
     "text": [
      "교차 검증 0 정확도: 0.2492\n",
      "교차 검증 1 정확도: 0.8546\n",
      "교차 검증 2 정확도: 0.8737\n",
      "교차 검증 3 정확도: 0.8999\n",
      "교차 검증 4 정확도: 0.9230\n",
      "평균 정확도: 0.7601\n"
     ]
    }
   ],
   "source": [
    "# RandomForest KFold\n",
    "exec_kfold(rf_clf, folds=5)"
   ]
  },
  {
   "cell_type": "code",
   "execution_count": 73,
   "metadata": {},
   "outputs": [
    {
     "name": "stdout",
     "output_type": "stream",
     "text": [
      "교차 검증 0 정확도: 0.3085\n",
      "교차 검증 1 정확도: 0.8431\n",
      "교차 검증 2 정확도: 0.8838\n",
      "교차 검증 3 정확도: 0.9061\n",
      "교차 검증 4 정확도: 0.9215\n",
      "평균 정확도: 0.7726\n"
     ]
    }
   ],
   "source": [
    "# GBM KFold\n",
    "exec_kfold(gb_clf, folds=5)"
   ]
  },
  {
   "cell_type": "code",
   "execution_count": 74,
   "metadata": {},
   "outputs": [],
   "source": [
    "# XGBC KFold\n",
    "# exec_kfold(xgb_wrapper, folds=5)"
   ]
  },
  {
   "cell_type": "code",
   "execution_count": 75,
   "metadata": {},
   "outputs": [
    {
     "name": "stdout",
     "output_type": "stream",
     "text": [
      "학습 레이블 데이터 분포:\n",
      " 1    4898\n",
      "0     299\n",
      "Name: 타겟, dtype: int64\n",
      "검증 레이블 데이터 분포:\n",
      " 0    1300\n",
      "Name: 타겟, dtype: int64\n",
      "학습 레이블 데이터 분포:\n",
      " 1    3897\n",
      "0    1300\n",
      "Name: 타겟, dtype: int64\n",
      "검증 레이블 데이터 분포:\n",
      " 1    1001\n",
      "0     299\n",
      "Name: 타겟, dtype: int64\n",
      "학습 레이블 데이터 분포:\n",
      " 1    3599\n",
      "0    1599\n",
      "Name: 타겟, dtype: int64\n",
      "검증 레이블 데이터 분포:\n",
      " 1    1299\n",
      "Name: 타겟, dtype: int64\n",
      "학습 레이블 데이터 분포:\n",
      " 1    3599\n",
      "0    1599\n",
      "Name: 타겟, dtype: int64\n",
      "검증 레이블 데이터 분포:\n",
      " 1    1299\n",
      "Name: 타겟, dtype: int64\n",
      "학습 레이블 데이터 분포:\n",
      " 1    3599\n",
      "0    1599\n",
      "Name: 타겟, dtype: int64\n",
      "검증 레이블 데이터 분포:\n",
      " 1    1299\n",
      "Name: 타겟, dtype: int64\n"
     ]
    }
   ],
   "source": [
    "from sklearn.model_selection import KFold\n",
    "\n",
    "kfold = KFold(n_splits=5)\n",
    "n_iter=0\n",
    "cv_accuracy=[]\n",
    "\n",
    "# 학습 데이터세트의 인덱스는 수가 많아서 생략\n",
    "for train_index, test_index in kfold.split(data, target):\n",
    "    n_iter += 1\n",
    "    \n",
    "    # 학습 및 검증 레이블 데이터 분포\n",
    "    label_train = target.iloc[train_index]\n",
    "    label_test = target.iloc[test_index]\n",
    "    print('학습 레이블 데이터 분포:\\n', label_train.value_counts())\n",
    "    print('검증 레이블 데이터 분포:\\n', label_test.value_counts())"
   ]
  },
  {
   "cell_type": "code",
   "execution_count": 76,
   "metadata": {},
   "outputs": [
    {
     "name": "stdout",
     "output_type": "stream",
     "text": [
      "\n",
      "#1 교차 검증 정확도 :0.2608, 학습 데이터 크기: 5197, 검증데이터 크기: 1300\n",
      "#1 검증 세트 인덱스:[   0    1    2 ... 1297 1298 1299]\n",
      "학습 레이블 데이터 분포:\n",
      " 1    4898\n",
      "0     299\n",
      "Name: 타겟, dtype: int64\n",
      "검증 레이블 데이터 분포:\n",
      " 0    1300\n",
      "Name: 타겟, dtype: int64\n",
      "\n",
      "#2 교차 검증 정확도 :0.8077, 학습 데이터 크기: 5197, 검증데이터 크기: 1300\n",
      "#2 검증 세트 인덱스:[1300 1301 1302 ... 2597 2598 2599]\n",
      "학습 레이블 데이터 분포:\n",
      " 1    3897\n",
      "0    1300\n",
      "Name: 타겟, dtype: int64\n",
      "검증 레이블 데이터 분포:\n",
      " 1    1001\n",
      "0     299\n",
      "Name: 타겟, dtype: int64\n",
      "\n",
      "#3 교차 검증 정확도 :0.8283, 학습 데이터 크기: 5198, 검증데이터 크기: 1299\n",
      "#3 검증 세트 인덱스:[2600 2601 2602 ... 3896 3897 3898]\n",
      "학습 레이블 데이터 분포:\n",
      " 1    3599\n",
      "0    1599\n",
      "Name: 타겟, dtype: int64\n",
      "검증 레이블 데이터 분포:\n",
      " 1    1299\n",
      "Name: 타겟, dtype: int64\n",
      "\n",
      "#4 교차 검증 정확도 :0.8368, 학습 데이터 크기: 5198, 검증데이터 크기: 1299\n",
      "#4 검증 세트 인덱스:[3899 3900 3901 ... 5195 5196 5197]\n",
      "학습 레이블 데이터 분포:\n",
      " 1    3599\n",
      "0    1599\n",
      "Name: 타겟, dtype: int64\n",
      "검증 레이블 데이터 분포:\n",
      " 1    1299\n",
      "Name: 타겟, dtype: int64\n",
      "\n",
      "#5 교차 검증 정확도 :0.883, 학습 데이터 크기: 5198, 검증데이터 크기: 1299\n",
      "#5 검증 세트 인덱스:[5198 5199 5200 ... 6494 6495 6496]\n",
      "학습 레이블 데이터 분포:\n",
      " 1    3599\n",
      "0    1599\n",
      "Name: 타겟, dtype: int64\n",
      "검증 레이블 데이터 분포:\n",
      " 1    1299\n",
      "Name: 타겟, dtype: int64\n",
      "\n",
      "## 평균 검증 정확도: 0.72332\n"
     ]
    }
   ],
   "source": [
    "# DecisionTree KFold\n",
    "cv_accuracy = []\n",
    "kfold=KFold(n_splits=5)\n",
    "n_iter = 0\n",
    "\n",
    "# 학습 데이터세트의 인덱스는 수가 많아서 생략\n",
    "for train_index, test_index in kfold.split(data):\n",
    "    X_train, X_test = data.iloc[train_index], data.iloc[test_index]\n",
    "    y_train, y_test = target.iloc[train_index], target.iloc[test_index]\n",
    "    \n",
    "    # DecisionTree 학습 및 예측\n",
    "    dt_clf.fit(X_train, y_train)\n",
    "    pred = dt_clf.predict(X_test)\n",
    "    n_iter += 1\n",
    "    \n",
    "    # 정확도 예측\n",
    "    accuracy = np.round(accuracy_score(y_test, pred), 4)\n",
    "    train_size = X_train.shape[0]\n",
    "    test_size = X_test.shape[0]\n",
    "    print('\\n#{0} 교차 검증 정확도 :{1}, 학습 데이터 크기: {2}, 검증데이터 크기: {3}'.format(n_iter, accuracy, train_size, test_size))\n",
    "    print('#{0} 검증 세트 인덱스:{1}'.format(n_iter, test_index))\n",
    "    \n",
    "    # 학습 및 검증 레이블 데이터 분포\n",
    "    label_train = target.iloc[train_index]\n",
    "    label_test = target.iloc[test_index]\n",
    "    print('학습 레이블 데이터 분포:\\n', label_train.value_counts())\n",
    "    print('검증 레이블 데이터 분포:\\n', label_test.value_counts())\n",
    "    cv_accuracy.append(accuracy)\n",
    "    \n",
    "print('\\n## 평균 검증 정확도:', np.mean(cv_accuracy))"
   ]
  },
  {
   "cell_type": "markdown",
   "metadata": {},
   "source": [
    "### GridSearch CV"
   ]
  },
  {
   "cell_type": "code",
   "execution_count": 93,
   "metadata": {},
   "outputs": [
    {
     "name": "stdout",
     "output_type": "stream",
     "text": [
      "GridSearchCV 최적 하이퍼 파라미터 : {'max_depth': 6, 'min_samples_leaf': 4, 'min_samples_split': 2}\n",
      "\n",
      "GridSearchCV 최고 정확도 : 0.8601\n",
      "테스트 세트에서의 DecisionTreeClassifier 정확도 : 0.8533\n",
      "DecisionTreeClassifier GridSearchCV 수행 시간: 1.2 초\n"
     ]
    }
   ],
   "source": [
    "from sklearn.model_selection import GridSearchCV\n",
    "\n",
    "parameters = {\n",
    "                'max_depth':[3, 4, 5, 6],\\\n",
    "                'min_samples_leaf':[2, 4, 6],\\\n",
    "                'min_samples_split':[2, 4, 6]\n",
    "            }\n",
    "\n",
    "start_time = time.time()\n",
    "b_params = []\n",
    "\n",
    "grid_cv = GridSearchCV(dt_clf, param_grid=parameters, scoring='accuracy', cv=5)\n",
    "grid_cv.fit(X_train, y_train)\n",
    "\n",
    "b_params.append(grid_cv.best_params_)\n",
    "\n",
    "print('GridSearchCV 최적 하이퍼 파라미터 :', grid_cv.best_params_)\n",
    "print('\\nGridSearchCV 최고 정확도 : {0:.4f}'.format(grid_cv.best_score_))\n",
    "best_est = grid_cv.best_estimator_\n",
    "\n",
    "predictions = best_est.predict(X_test)\n",
    "accuracy = accuracy_score(y_test, predictions)\n",
    "\n",
    "print('테스트 세트에서의 DecisionTreeClassifier 정확도 : {0:.4f}'.format(accuracy))\n",
    "print('DecisionTreeClassifier GridSearchCV 수행 시간: {0:.1f} 초'.format(time.time()-start_time))"
   ]
  },
  {
   "cell_type": "code",
   "execution_count": 94,
   "metadata": {},
   "outputs": [
    {
     "name": "stdout",
     "output_type": "stream",
     "text": [
      "예측 정확도: 0.8533\n"
     ]
    }
   ],
   "source": [
    "# 최적 하이퍼 파라미터 적용\n",
    "dt_clf1 = DecisionTreeClassifier(max_depth=6, min_samples_leaf=4, min_samples_split=2)\n",
    "dt_clf1.fit(X_train, y_train)\n",
    "dt1_pred = dt_clf1.predict(X_test)\n",
    "print('예측 정확도: {0:.4f}'.format(accuracy_score(y_test, dt1_pred)))"
   ]
  },
  {
   "cell_type": "markdown",
   "metadata": {},
   "source": [
    "### ROC_AUC"
   ]
  },
  {
   "cell_type": "code",
   "execution_count": 95,
   "metadata": {},
   "outputs": [
    {
     "data": {
      "image/png": "[encoded data removed]",
      "text/plain": [
       "<Figure size 1008x576 with 1 Axes>"
      ]
     },
     "metadata": {
      "needs_background": "light"
     },
     "output_type": "display_data"
    }
   ],
   "source": [
    "from sklearn.metrics import precision_recall_curve\n",
    "import matplotlib.pyplot as plt\n",
    "%matplotlib inline\n",
    "import warnings\n",
    "warnings.filterwarnings('ignore')\n",
    "\n",
    "plt.rcParams['axes.unicode_minus'] = False\n",
    "plt.rcParams[\"font.family\"] = \"Malgun Gothic\"\n",
    "\n",
    "precisions, recalls, thresholds = precision_recall_curve(y_test, dt_clf1.predict_proba(X_test)[:, 1])\n",
    "\n",
    "# X축을 threshold값으로, Y축은 정밀도, 재현율 값으로 각각 plot 수행. 정밀도는 점선으로 표시\n",
    "plt.figure(figsize=(14, 8))\n",
    "# 임곗값 수치    \n",
    "threshold_boundary = thresholds.shape[0]\n",
    "# 정밀도는 점선으로\n",
    "plt.plot(thresholds, precisions[0:threshold_boundary], linestyle='--', label='precision')\n",
    "# 재현율은 선으로\n",
    "plt.plot(thresholds, recalls[0:threshold_boundary], label='recall')\n",
    "\n",
    "start, end = plt.xlim()\n",
    "# x축을 0.1씩 증가, 소수점 둘째자리까지 표시\n",
    "plt.xticks(np.round(np.arange(start, end, 0.1), 2))\n",
    "\n",
    "plt.title(\"정밀도와 재현율 곡선\")\n",
    "plt.xlabel('Threshold value')\n",
    "plt.ylabel('Precision and Recall value')\n",
    "plt.legend()\n",
    "plt.grid()\n",
    "plt.show()"
   ]
  },
  {
   "cell_type": "markdown",
   "metadata": {},
   "source": [
    "- 임계값이 낮을수록 재현율은 높고, 정밀도는 낮다.\n",
    "- 임계값이 클수록 재현율은 낮고, 정밀도는 높다."
   ]
  },
  {
   "cell_type": "code",
   "execution_count": 96,
   "metadata": {},
   "outputs": [
    {
     "name": "stdout",
     "output_type": "stream",
     "text": [
      "샘플 추출을 위한 임곗값 배열의 index: [ 1  2  3  4  5  6  7  8  9 10 11 12 13 14 15 16 17 18 19 20 21 22 23 24\n",
      " 25 26 27 28 29 30 31 32 33 34 35 36 37 38 39]\n",
      "샘플 index로 추출한 임곗값:  [1.   0.99 0.98 0.98 0.97 0.96 0.96 0.9  0.9  0.89 0.89 0.88 0.86 0.85\n",
      " 0.84 0.83 0.83 0.82 0.8  0.75 0.72 0.69 0.63 0.6  0.57 0.53 0.51 0.49\n",
      " 0.44 0.43 0.41 0.38 0.33 0.28 0.27 0.25 0.24 0.15 0.06]\n",
      "샘플 임곗값별 FPR:  [0.012 0.012 0.02  0.028 0.036 0.04  0.048 0.052 0.068 0.072 0.074 0.078\n",
      " 0.078 0.088 0.094 0.094 0.116 0.12  0.124 0.127 0.139 0.141 0.155 0.165\n",
      " 0.245 0.247 0.327 0.345 0.349 0.4   0.406 0.406 0.41  0.45  0.564 0.588\n",
      " 0.751 0.813 1.   ]\n",
      "샘플 임곗값별 TPR:  [0.425 0.456 0.492 0.55  0.619 0.635 0.669 0.677 0.727 0.745 0.746 0.751\n",
      " 0.754 0.767 0.771 0.776 0.809 0.812 0.816 0.822 0.838 0.843 0.858 0.86\n",
      " 0.894 0.898 0.916 0.919 0.92  0.932 0.935 0.936 0.937 0.939 0.954 0.959\n",
      " 0.987 0.997 1.   ]\n"
     ]
    }
   ],
   "source": [
    "from sklearn.metrics import roc_curve\n",
    "\n",
    "# 레이블 값이 1일때의 예측 확률\n",
    "pred_proba_class1 = dt_clf1.predict_proba(X_test)[:, 1]\n",
    "\n",
    "fprs, tprs, thresholds = roc_curve(y_test, pred_proba_class1)\n",
    "\n",
    "# thresholds[0]은 max(예측확률)+1로 임의 설정. 이를 제외하기 위해 np.arange는 1부터 시작\n",
    "thr_index = np.arange(1, thresholds.shape[0])\n",
    "\n",
    "print('샘플 추출을 위한 임곗값 배열의 index:', thr_index)\n",
    "print('샘플 index로 추출한 임곗값: ', np.round(thresholds[thr_index], 2))\n",
    "\n",
    "print('샘플 임곗값별 FPR: ', np.round(fprs[thr_index], 3))\n",
    "print('샘플 임곗값별 TPR: ', np.round(tprs[thr_index], 3))"
   ]
  },
  {
   "cell_type": "code",
   "execution_count": 97,
   "metadata": {},
   "outputs": [
    {
     "name": "stdout",
     "output_type": "stream",
     "text": [
      "AUC 값: 0.9115\n"
     ]
    }
   ],
   "source": [
    "from sklearn.metrics import roc_auc_score\n",
    "\n",
    "pred_proba = dt_clf1.predict_proba(X_test)[:, 1]\n",
    "roc_score = roc_auc_score(y_test, pred_proba)\n",
    "print('AUC 값: {0:.4f}'.format(roc_score))"
   ]
  },
  {
   "cell_type": "code",
   "execution_count": 98,
   "metadata": {},
   "outputs": [
    {
     "data": {
      "image/png": "[encoded data removed]",
      "text/plain": [
       "<Figure size 720x576 with 1 Axes>"
      ]
     },
     "metadata": {
      "needs_background": "light"
     },
     "output_type": "display_data"
    }
   ],
   "source": [
    "plt.figure(figsize=(10,8))\n",
    "\n",
    "plt.title(\"ROC 곡선\")\n",
    "plt.plot([0, 1], [0, 1], 'k--', label='Random')\n",
    "plt.plot(fprs, tprs, label=\"ROC\")\n",
    "plt.xlabel('FPR(1 - Sensitivity)')\n",
    "plt.ylabel('TPR( Recall )')\n",
    "plt.legend()\n",
    "# plt.fill_between(fprs, tprs, color='y', alpha=0.3)\n",
    "# plt.annotate('AUC : {0:.4f}'.format(roc_score), xy=(0.6, 0.2),ha='center', va='baseline', fontsize=15)\n",
    "plt.show()"
   ]
  },
  {
   "cell_type": "code",
   "execution_count": 102,
   "metadata": {},
   "outputs": [
    {
     "name": "stdout",
     "output_type": "stream",
     "text": [
      "오차행렬\n",
      "[[ 338  164]\n",
      " [ 122 1326]]\n",
      "정확도: 0.8533, 정밀도: 0.8899, 재현율: 0.9157, F1:0.9027, AUC:0.9115\n"
     ]
    }
   ],
   "source": [
    "confusion = confusion_matrix(y_test, dt1_pred)\n",
    "accuracy = accuracy_score(y_test, dt1_pred)\n",
    "precision = precision_score(y_test, dt1_pred)\n",
    "recall = recall_score(y_test, dt1_pred)\n",
    "f1 = f1_score(y_test, dt1_pred)\n",
    "roc_auc = roc_auc_score(y_test, pred_proba)\n",
    "\n",
    "print('오차행렬')\n",
    "print(confusion)\n",
    "print('정확도: {0:.4f}, 정밀도: {1:.4f}, 재현율: {2:.4f}, F1:{3:.4f}, AUC:{4:.4f}'.format(accuracy, precision, recall, f1, roc_auc))"
   ]
  },
  {
   "cell_type": "code",
   "execution_count": 103,
   "metadata": {},
   "outputs": [],
   "source": [
    "def get_clf_eval(y_test, pred=None, pred_proba=None):\n",
    "    confusion = confusion_matrix(y_test, pred)\n",
    "    accuracy = accuracy_score(y_test, pred)\n",
    "    precision = precision_score(y_test, pred)\n",
    "    recall = recall_score(y_test, pred)\n",
    "    f1 = f1_score(y_test, pred)\n",
    "    roc_auc = roc_auc_score(y_test, pred_proba)\n",
    "    print('오차행렬')\n",
    "    print(confusion)\n",
    "    print('정확도: {0:.4f}, 정밀도: {1:.4f}, 재현율: {2:.4f}, F1:{3:.4f}, AUC:{4:.4f}'.format(accuracy, precision, recall, f1, roc_auc))\n",
    "    \n",
    "    return accuracy, precision, recall, f1, roc_auc"
   ]
  },
  {
   "cell_type": "code",
   "execution_count": 104,
   "metadata": {},
   "outputs": [],
   "source": [
    "from sklearn.preprocessing import Binarizer\n",
    "\n",
    "# 임곗값별 수치 함수 재설정\n",
    "def get_eval_by_threshold(y_test, pred_proba_c1, thresholds):\n",
    "    for custom_threshold in thresholds:\n",
    "        binarizer = Binarizer(threshold=custom_threshold).fit(pred_proba_c1)\n",
    "        custom_predict = binarizer.transform(pred_proba_c1)\n",
    "        print('임곗값:', custom_threshold)\n",
    "        get_clf_eval(y_test, custom_predict, dt_clf1.predict_proba(X_test)[:, 1])"
   ]
  },
  {
   "cell_type": "code",
   "execution_count": 105,
   "metadata": {},
   "outputs": [
    {
     "name": "stdout",
     "output_type": "stream",
     "text": [
      "임곗값: 0.2\n",
      "오차행렬\n",
      "[[ 125  377]\n",
      " [  19 1429]]\n",
      "정확도: 0.7969, 정밀도: 0.7913, 재현율: 0.9869, F1:0.8783, AUC:0.9115\n",
      "임곗값: 0.3\n",
      "오차행렬\n",
      "[[ 296  206]\n",
      " [  91 1357]]\n",
      "정확도: 0.8477, 정밀도: 0.8682, 재현율: 0.9372, F1:0.9014, AUC:0.9115\n",
      "임곗값: 0.4\n",
      "오차행렬\n",
      "[[ 298  204]\n",
      " [  94 1354]]\n",
      "정확도: 0.8472, 정밀도: 0.8691, 재현율: 0.9351, F1:0.9009, AUC:0.9115\n",
      "임곗값: 0.6\n",
      "오차행렬\n",
      "[[ 424   78]\n",
      " [ 206 1242]]\n",
      "정확도: 0.8544, 정밀도: 0.9409, 재현율: 0.8577, F1:0.8974, AUC:0.9115\n",
      "임곗값: 0.7\n",
      "오차행렬\n",
      "[[ 432   70]\n",
      " [ 234 1214]]\n",
      "정확도: 0.8441, 정밀도: 0.9455, 재현율: 0.8384, F1:0.8887, AUC:0.9115\n",
      "임곗값: 0.8\n",
      "오차행렬\n",
      "[[ 442   60]\n",
      " [ 272 1176]]\n",
      "정확도: 0.8297, 정밀도: 0.9515, 재현율: 0.8122, F1:0.8763, AUC:0.9115\n"
     ]
    }
   ],
   "source": [
    "from sklearn.preprocessing import Binarizer\n",
    "\n",
    "thresholds = [0.2, 0.3, 0.4, 0.6, 0.7, 0.8]\n",
    "pred_proba = dt_clf1.predict_proba(X_test)\n",
    "\n",
    "get_eval_by_threshold(y_test, pred_proba[:, 1].reshape(-1, 1), thresholds)"
   ]
  },
  {
   "cell_type": "markdown",
   "metadata": {},
   "source": [
    "### 최적 임곗값 적용"
   ]
  },
  {
   "cell_type": "code",
   "execution_count": 106,
   "metadata": {},
   "outputs": [
    {
     "name": "stdout",
     "output_type": "stream",
     "text": [
      "오차행렬\n",
      "[[ 298  204]\n",
      " [  94 1354]]\n",
      "정확도: 0.8472, 정밀도: 0.8691, 재현율: 0.9351, F1:0.9009, AUC:0.9115\n"
     ]
    },
    {
     "data": {
      "text/plain": [
       "(0.8471794871794872,\n",
       " 0.8690629011553274,\n",
       " 0.9350828729281768,\n",
       " 0.9008649367930807,\n",
       " 0.9115203550439128)"
      ]
     },
     "execution_count": 106,
     "metadata": {},
     "output_type": "execute_result"
    }
   ],
   "source": [
    "binarizer = Binarizer(threshold=0.4)\n",
    "\n",
    "binarizer.fit(pred_proba_class1.reshape(-1, 1))\n",
    "custom_predict = binarizer.transform(pred_proba_class1.reshape(-1, 1))\n",
    "\n",
    "get_clf_eval(y_test, custom_predict, dt_clf1.predict_proba(X_test)[:, 1])"
   ]
  },
  {
   "cell_type": "markdown",
   "metadata": {},
   "source": [
    "### 피처중요도"
   ]
  },
  {
   "cell_type": "code",
   "execution_count": 108,
   "metadata": {},
   "outputs": [
    {
     "data": {
      "image/png": "[encoded data removed]",
      "text/plain": [
       "<Figure size 720x432 with 1 Axes>"
      ]
     },
     "metadata": {
      "needs_background": "light"
     },
     "output_type": "display_data"
    }
   ],
   "source": [
    "import matplotlib.pyplot as plt\n",
    "import seaborn as sns\n",
    "\n",
    "plt.rcParams[\"font.family\"] = \"Malgun Gothic\"\n",
    "\n",
    "fig, axes = plt.subplots(1, 1, squeeze=False)\n",
    "fig.set_size_inches((10,6))\n",
    "\n",
    "plt.title(\"피처중요도\")\n",
    "sns.barplot(x=dt_clf1.feature_importances_, y=data.columns, ax=axes[0,0])\n",
    "axes[0,0].title.set_text(\"DecisionTree 피처중요도\")\n",
    "\n",
    "plt.show()"
   ]
  },
  {
   "cell_type": "markdown",
   "metadata": {},
   "source": [
    "### 시각화"
   ]
  },
  {
   "cell_type": "code",
   "execution_count": 128,
   "metadata": {},
   "outputs": [],
   "source": [
    "from sklearn.tree import export_graphviz\n",
    "\n",
    "feature_names = wine_df.iloc[:, :-1].columns.tolist()\n",
    "target_names = [\"0\", \"1\"]\n",
    "\n",
    "export_graphviz(dt_clf1, \n",
    "                out_file=\"./image/wine_dtree.dot\",\n",
    "                class_names=target_names, \n",
    "                feature_names=feature_names, \n",
    "                impurity=True, \n",
    "                filled=True, \n",
    "                rounded=True\n",
    "                )"
   ]
  },
  {
   "cell_type": "code",
   "execution_count": 136,
   "metadata": {},
   "outputs": [
    {
     "data": {
      "image/svg+xml": "<?xml version=\"1.0\" encoding=\"UTF-8\" standalone=\"no\"?>\n<!DOCTYPE svg PUBLIC \"-//W3C//DTD SVG 1.1//EN\"\n \"http://www.w3.org/Graphics/SVG/1.1/DTD/svg11.dtd\">\n<!-- Generated by graphviz version 7.0.1 (20221109.1506)\n -->\n<!-- Title: Tree Pages: 1 -->\n<svg width=\"7278pt\" height=\"790pt\"\n viewBox=\"0.00 0.00 7278.00 790.00\" xmlns=\"http://www.w3.org/2000/svg\" xmlns:xlink=\"http://www.w3.org/1999/xlink\">\n<g id=\"graph0\" class=\"graph\" transform=\"scale(1 1) rotate(0) translate(4 786)\">\n<title>Tree</title>\n<polygon fill=\"white\" stroke=\"none\" points=\"-4,4 -4,-786 7274,-786 7274,4 -4,4\"/>\n<!-- 0 -->\n<g id=\"node1\" class=\"node\">\n<title>0</title>\n<path fill=\"#78bced\" stroke=\"black\" d=\"M3933.5,-782C3933.5,-782 3811.5,-782 3811.5,-782 3805.5,-782 3799.5,-776 3799.5,-770 3799.5,-770 3799.5,-711 3799.5,-711 3799.5,-705 3805.5,-699 3811.5,-699 3811.5,-699 3933.5,-699 3933.5,-699 3939.5,-699 3945.5,-705 3945.5,-711 3945.5,-711 3945.5,-770 3945.5,-770 3945.5,-776 3939.5,-782 3933.5,-782\"/>\n<text text-anchor=\"middle\" x=\"3872.5\" y=\"-766.8\" font-family=\"Helvetica,sans-Serif\" font-size=\"14.00\">당도 &lt;= 4.15</text>\n<text text-anchor=\"middle\" x=\"3872.5\" y=\"-751.8\" font-family=\"Helvetica,sans-Serif\" font-size=\"14.00\">gini = 0.366</text>\n<text text-anchor=\"middle\" x=\"3872.5\" y=\"-736.8\" font-family=\"Helvetica,sans-Serif\" font-size=\"14.00\">samples = 4547</text>\n<text text-anchor=\"middle\" x=\"3872.5\" y=\"-721.8\" font-family=\"Helvetica,sans-Serif\" font-size=\"14.00\">value = [1097, 3450]</text>\n<text text-anchor=\"middle\" x=\"3872.5\" y=\"-706.8\" font-family=\"Helvetica,sans-Serif\" font-size=\"14.00\">class = 1</text>\n</g>\n<!-- 1 -->\n<g id=\"node2\" class=\"node\">\n<title>1</title>\n<path fill=\"#c0e0f7\" stroke=\"black\" d=\"M2606.5,-663C2606.5,-663 2484.5,-663 2484.5,-663 2478.5,-663 2472.5,-657 2472.5,-651 2472.5,-651 2472.5,-592 2472.5,-592 2472.5,-586 2478.5,-580 2484.5,-580 2484.5,-580 2606.5,-580 2606.5,-580 2612.5,-580 2618.5,-586 2618.5,-592 2618.5,-592 2618.5,-651 2618.5,-651 2618.5,-657 2612.5,-663 2606.5,-663\"/>\n<text text-anchor=\"middle\" x=\"2545.5\" y=\"-647.8\" font-family=\"Helvetica,sans-Serif\" font-size=\"14.00\">당도 &lt;= 1.625</text>\n<text text-anchor=\"middle\" x=\"2545.5\" y=\"-632.8\" font-family=\"Helvetica,sans-Serif\" font-size=\"14.00\">gini = 0.482</text>\n<text text-anchor=\"middle\" x=\"2545.5\" y=\"-617.8\" font-family=\"Helvetica,sans-Serif\" font-size=\"14.00\">samples = 2505</text>\n<text text-anchor=\"middle\" x=\"2545.5\" y=\"-602.8\" font-family=\"Helvetica,sans-Serif\" font-size=\"14.00\">value = [1015, 1490]</text>\n<text text-anchor=\"middle\" x=\"2545.5\" y=\"-587.8\" font-family=\"Helvetica,sans-Serif\" font-size=\"14.00\">class = 1</text>\n</g>\n<!-- 0&#45;&gt;1 -->\n<g id=\"edge1\" class=\"edge\">\n<title>0&#45;&gt;1</title>\n<path fill=\"none\" stroke=\"black\" d=\"M3799.26,-733.04C3571.02,-712.92 2873.31,-651.4 2630.15,-629.96\"/>\n<polygon fill=\"black\" stroke=\"black\" points=\"2630.69,-626.5 2620.42,-629.11 2630.08,-633.47 2630.69,-626.5\"/>\n<text text-anchor=\"middle\" x=\"2634.97\" y=\"-644.44\" font-family=\"Helvetica,sans-Serif\" font-size=\"14.00\">True</text>\n</g>\n<!-- 58 -->\n<g id=\"node59\" class=\"node\">\n<title>58</title>\n<path fill=\"#41a1e6\" stroke=\"black\" d=\"M4545.5,-663C4545.5,-663 4439.5,-663 4439.5,-663 4433.5,-663 4427.5,-657 4427.5,-651 4427.5,-651 4427.5,-592 4427.5,-592 4427.5,-586 4433.5,-580 4439.5,-580 4439.5,-580 4545.5,-580 4545.5,-580 4551.5,-580 4557.5,-586 4557.5,-592 4557.5,-592 4557.5,-651 4557.5,-651 4557.5,-657 4551.5,-663 4545.5,-663\"/>\n<text text-anchor=\"middle\" x=\"4492.5\" y=\"-647.8\" font-family=\"Helvetica,sans-Serif\" font-size=\"14.00\">당도 &lt;= 6.45</text>\n<text text-anchor=\"middle\" x=\"4492.5\" y=\"-632.8\" font-family=\"Helvetica,sans-Serif\" font-size=\"14.00\">gini = 0.077</text>\n<text text-anchor=\"middle\" x=\"4492.5\" y=\"-617.8\" font-family=\"Helvetica,sans-Serif\" font-size=\"14.00\">samples = 2042</text>\n<text text-anchor=\"middle\" x=\"4492.5\" y=\"-602.8\" font-family=\"Helvetica,sans-Serif\" font-size=\"14.00\">value = [82, 1960]</text>\n<text text-anchor=\"middle\" x=\"4492.5\" y=\"-587.8\" font-family=\"Helvetica,sans-Serif\" font-size=\"14.00\">class = 1</text>\n</g>\n<!-- 0&#45;&gt;58 -->\n<g id=\"edge58\" class=\"edge\">\n<title>0&#45;&gt;58</title>\n<path fill=\"none\" stroke=\"black\" d=\"M3945.75,-725.68C4064.02,-703.36 4295.91,-659.6 4416.14,-636.91\"/>\n<polygon fill=\"black\" stroke=\"black\" points=\"4416.75,-640.36 4425.93,-635.06 4415.45,-633.48 4416.75,-640.36\"/>\n<text text-anchor=\"middle\" x=\"4413.32\" y=\"-651.73\" font-family=\"Helvetica,sans-Serif\" font-size=\"14.00\">False</text>\n</g>\n<!-- 2 -->\n<g id=\"node3\" class=\"node\">\n<title>2</title>\n<path fill=\"#50a8e8\" stroke=\"black\" d=\"M1011.5,-544C1011.5,-544 913.5,-544 913.5,-544 907.5,-544 901.5,-538 901.5,-532 901.5,-532 901.5,-473 901.5,-473 901.5,-467 907.5,-461 913.5,-461 913.5,-461 1011.5,-461 1011.5,-461 1017.5,-461 1023.5,-467 1023.5,-473 1023.5,-473 1023.5,-532 1023.5,-532 1023.5,-538 1017.5,-544 1011.5,-544\"/>\n<text text-anchor=\"middle\" x=\"962.5\" y=\"-528.8\" font-family=\"Helvetica,sans-Serif\" font-size=\"14.00\">당도 &lt;= 1.375</text>\n<text text-anchor=\"middle\" x=\"962.5\" y=\"-513.8\" font-family=\"Helvetica,sans-Serif\" font-size=\"14.00\">gini = 0.187</text>\n<text text-anchor=\"middle\" x=\"962.5\" y=\"-498.8\" font-family=\"Helvetica,sans-Serif\" font-size=\"14.00\">samples = 930</text>\n<text text-anchor=\"middle\" x=\"962.5\" y=\"-483.8\" font-family=\"Helvetica,sans-Serif\" font-size=\"14.00\">value = [97, 833]</text>\n<text text-anchor=\"middle\" x=\"962.5\" y=\"-468.8\" font-family=\"Helvetica,sans-Serif\" font-size=\"14.00\">class = 1</text>\n</g>\n<!-- 1&#45;&gt;2 -->\n<g id=\"edge2\" class=\"edge\">\n<title>1&#45;&gt;2</title>\n<path fill=\"none\" stroke=\"black\" d=\"M2472.06,-615.07C2206.74,-595.46 1299.53,-528.41 1035.28,-508.88\"/>\n<polygon fill=\"black\" stroke=\"black\" points=\"1035.66,-505.4 1025.43,-508.15 1035.15,-512.38 1035.66,-505.4\"/>\n</g>\n<!-- 27 -->\n<g id=\"node28\" class=\"node\">\n<title>27</title>\n<path fill=\"#f8dbc7\" stroke=\"black\" d=\"M2598.5,-544C2598.5,-544 2492.5,-544 2492.5,-544 2486.5,-544 2480.5,-538 2480.5,-532 2480.5,-532 2480.5,-473 2480.5,-473 2480.5,-467 2486.5,-461 2492.5,-461 2492.5,-461 2598.5,-461 2598.5,-461 2604.5,-461 2610.5,-467 2610.5,-473 2610.5,-473 2610.5,-532 2610.5,-532 2610.5,-538 2604.5,-544 2598.5,-544\"/>\n<text text-anchor=\"middle\" x=\"2545.5\" y=\"-528.8\" font-family=\"Helvetica,sans-Serif\" font-size=\"14.00\">도수 &lt;= 11.025</text>\n<text text-anchor=\"middle\" x=\"2545.5\" y=\"-513.8\" font-family=\"Helvetica,sans-Serif\" font-size=\"14.00\">gini = 0.486</text>\n<text text-anchor=\"middle\" x=\"2545.5\" y=\"-498.8\" font-family=\"Helvetica,sans-Serif\" font-size=\"14.00\">samples = 1575</text>\n<text text-anchor=\"middle\" x=\"2545.5\" y=\"-483.8\" font-family=\"Helvetica,sans-Serif\" font-size=\"14.00\">value = [918, 657]</text>\n<text text-anchor=\"middle\" x=\"2545.5\" y=\"-468.8\" font-family=\"Helvetica,sans-Serif\" font-size=\"14.00\">class = 0</text>\n</g>\n<!-- 1&#45;&gt;27 -->\n<g id=\"edge27\" class=\"edge\">\n<title>1&#45;&gt;27</title>\n<path fill=\"none\" stroke=\"black\" d=\"M2545.5,-579.58C2545.5,-571.79 2545.5,-563.53 2545.5,-555.45\"/>\n<polygon fill=\"black\" stroke=\"black\" points=\"2549,-555.71 2545.5,-545.71 2542,-555.71 2549,-555.71\"/>\n</g>\n<!-- 3 -->\n<g id=\"node4\" class=\"node\">\n<title>3</title>\n<path fill=\"#3d9fe5\" stroke=\"black\" d=\"M810,-425C810,-425 721,-425 721,-425 715,-425 709,-419 709,-413 709,-413 709,-354 709,-354 709,-348 715,-342 721,-342 721,-342 810,-342 810,-342 816,-342 822,-348 822,-354 822,-354 822,-413 822,-413 822,-419 816,-425 810,-425\"/>\n<text text-anchor=\"middle\" x=\"765.5\" y=\"-409.8\" font-family=\"Helvetica,sans-Serif\" font-size=\"14.00\">산도 &lt;= 3.765</text>\n<text text-anchor=\"middle\" x=\"765.5\" y=\"-394.8\" font-family=\"Helvetica,sans-Serif\" font-size=\"14.00\">gini = 0.036</text>\n<text text-anchor=\"middle\" x=\"765.5\" y=\"-379.8\" font-family=\"Helvetica,sans-Serif\" font-size=\"14.00\">samples = 485</text>\n<text text-anchor=\"middle\" x=\"765.5\" y=\"-364.8\" font-family=\"Helvetica,sans-Serif\" font-size=\"14.00\">value = [9, 476]</text>\n<text text-anchor=\"middle\" x=\"765.5\" y=\"-349.8\" font-family=\"Helvetica,sans-Serif\" font-size=\"14.00\">class = 1</text>\n</g>\n<!-- 2&#45;&gt;3 -->\n<g id=\"edge3\" class=\"edge\">\n<title>2&#45;&gt;3</title>\n<path fill=\"none\" stroke=\"black\" d=\"M901.25,-465.12C879.31,-452.09 854.47,-437.34 832.1,-424.06\"/>\n<polygon fill=\"black\" stroke=\"black\" points=\"834.04,-421.13 823.65,-419.04 830.46,-427.15 834.04,-421.13\"/>\n</g>\n<!-- 12 -->\n<g id=\"node13\" class=\"node\">\n<title>12</title>\n<path fill=\"#6ab5eb\" stroke=\"black\" d=\"M1011.5,-425C1011.5,-425 913.5,-425 913.5,-425 907.5,-425 901.5,-419 901.5,-413 901.5,-413 901.5,-354 901.5,-354 901.5,-348 907.5,-342 913.5,-342 913.5,-342 1011.5,-342 1011.5,-342 1017.5,-342 1023.5,-348 1023.5,-354 1023.5,-354 1023.5,-413 1023.5,-413 1023.5,-419 1017.5,-425 1011.5,-425\"/>\n<text text-anchor=\"middle\" x=\"962.5\" y=\"-409.8\" font-family=\"Helvetica,sans-Serif\" font-size=\"14.00\">도수 &lt;= 10.067</text>\n<text text-anchor=\"middle\" x=\"962.5\" y=\"-394.8\" font-family=\"Helvetica,sans-Serif\" font-size=\"14.00\">gini = 0.317</text>\n<text text-anchor=\"middle\" x=\"962.5\" y=\"-379.8\" font-family=\"Helvetica,sans-Serif\" font-size=\"14.00\">samples = 445</text>\n<text text-anchor=\"middle\" x=\"962.5\" y=\"-364.8\" font-family=\"Helvetica,sans-Serif\" font-size=\"14.00\">value = [88, 357]</text>\n<text text-anchor=\"middle\" x=\"962.5\" y=\"-349.8\" font-family=\"Helvetica,sans-Serif\" font-size=\"14.00\">class = 1</text>\n</g>\n<!-- 2&#45;&gt;12 -->\n<g id=\"edge12\" class=\"edge\">\n<title>2&#45;&gt;12</title>\n<path fill=\"none\" stroke=\"black\" d=\"M962.5,-460.58C962.5,-452.79 962.5,-444.53 962.5,-436.45\"/>\n<polygon fill=\"black\" stroke=\"black\" points=\"966,-436.71 962.5,-426.71 959,-436.71 966,-436.71\"/>\n</g>\n<!-- 4 -->\n<g id=\"node5\" class=\"node\">\n<title>4</title>\n<path fill=\"#3c9ee5\" stroke=\"black\" d=\"M399,-306C399,-306 310,-306 310,-306 304,-306 298,-300 298,-294 298,-294 298,-235 298,-235 298,-229 304,-223 310,-223 310,-223 399,-223 399,-223 405,-223 411,-229 411,-235 411,-235 411,-294 411,-294 411,-300 405,-306 399,-306\"/>\n<text text-anchor=\"middle\" x=\"354.5\" y=\"-290.8\" font-family=\"Helvetica,sans-Serif\" font-size=\"14.00\">산도 &lt;= 2.895</text>\n<text text-anchor=\"middle\" x=\"354.5\" y=\"-275.8\" font-family=\"Helvetica,sans-Serif\" font-size=\"14.00\">gini = 0.029</text>\n<text text-anchor=\"middle\" x=\"354.5\" y=\"-260.8\" font-family=\"Helvetica,sans-Serif\" font-size=\"14.00\">samples = 480</text>\n<text text-anchor=\"middle\" x=\"354.5\" y=\"-245.8\" font-family=\"Helvetica,sans-Serif\" font-size=\"14.00\">value = [7, 473]</text>\n<text text-anchor=\"middle\" x=\"354.5\" y=\"-230.8\" font-family=\"Helvetica,sans-Serif\" font-size=\"14.00\">class = 1</text>\n</g>\n<!-- 3&#45;&gt;4 -->\n<g id=\"edge4\" class=\"edge\">\n<title>3&#45;&gt;4</title>\n<path fill=\"none\" stroke=\"black\" d=\"M708.78,-366.35C633.91,-345.04 502.24,-307.56 422.23,-284.78\"/>\n<polygon fill=\"black\" stroke=\"black\" points=\"423.33,-281.45 412.75,-282.08 421.41,-288.19 423.33,-281.45\"/>\n</g>\n<!-- 11 -->\n<g id=\"node12\" class=\"node\">\n<title>11</title>\n<path fill=\"#bddef6\" stroke=\"black\" d=\"M802,-298.5C802,-298.5 729,-298.5 729,-298.5 723,-298.5 717,-292.5 717,-286.5 717,-286.5 717,-242.5 717,-242.5 717,-236.5 723,-230.5 729,-230.5 729,-230.5 802,-230.5 802,-230.5 808,-230.5 814,-236.5 814,-242.5 814,-242.5 814,-286.5 814,-286.5 814,-292.5 808,-298.5 802,-298.5\"/>\n<text text-anchor=\"middle\" x=\"765.5\" y=\"-283.3\" font-family=\"Helvetica,sans-Serif\" font-size=\"14.00\">gini = 0.48</text>\n<text text-anchor=\"middle\" x=\"765.5\" y=\"-268.3\" font-family=\"Helvetica,sans-Serif\" font-size=\"14.00\">samples = 5</text>\n<text text-anchor=\"middle\" x=\"765.5\" y=\"-253.3\" font-family=\"Helvetica,sans-Serif\" font-size=\"14.00\">value = [2, 3]</text>\n<text text-anchor=\"middle\" x=\"765.5\" y=\"-238.3\" font-family=\"Helvetica,sans-Serif\" font-size=\"14.00\">class = 1</text>\n</g>\n<!-- 3&#45;&gt;11 -->\n<g id=\"edge11\" class=\"edge\">\n<title>3&#45;&gt;11</title>\n<path fill=\"none\" stroke=\"black\" d=\"M765.5,-341.58C765.5,-331.43 765.5,-320.5 765.5,-310.18\"/>\n<polygon fill=\"black\" stroke=\"black\" points=\"769,-310.37 765.5,-300.37 762,-310.37 769,-310.37\"/>\n</g>\n<!-- 5 -->\n<g id=\"node6\" class=\"node\">\n<title>5</title>\n<path fill=\"#55abe9\" stroke=\"black\" d=\"M203.5,-187C203.5,-187 123.5,-187 123.5,-187 117.5,-187 111.5,-181 111.5,-175 111.5,-175 111.5,-116 111.5,-116 111.5,-110 117.5,-104 123.5,-104 123.5,-104 203.5,-104 203.5,-104 209.5,-104 215.5,-110 215.5,-116 215.5,-116 215.5,-175 215.5,-175 215.5,-181 209.5,-187 203.5,-187\"/>\n<text text-anchor=\"middle\" x=\"163.5\" y=\"-171.8\" font-family=\"Helvetica,sans-Serif\" font-size=\"14.00\">도수 &lt;= 11.0</text>\n<text text-anchor=\"middle\" x=\"163.5\" y=\"-156.8\" font-family=\"Helvetica,sans-Serif\" font-size=\"14.00\">gini = 0.219</text>\n<text text-anchor=\"middle\" x=\"163.5\" y=\"-141.8\" font-family=\"Helvetica,sans-Serif\" font-size=\"14.00\">samples = 8</text>\n<text text-anchor=\"middle\" x=\"163.5\" y=\"-126.8\" font-family=\"Helvetica,sans-Serif\" font-size=\"14.00\">value = [1, 7]</text>\n<text text-anchor=\"middle\" x=\"163.5\" y=\"-111.8\" font-family=\"Helvetica,sans-Serif\" font-size=\"14.00\">class = 1</text>\n</g>\n<!-- 4&#45;&gt;5 -->\n<g id=\"edge5\" class=\"edge\">\n<title>4&#45;&gt;5</title>\n<path fill=\"none\" stroke=\"black\" d=\"M297.71,-228.71C275,-214.8 248.78,-198.74 225.57,-184.52\"/>\n<polygon fill=\"black\" stroke=\"black\" points=\"227.48,-181.58 217.12,-179.35 223.82,-187.55 227.48,-181.58\"/>\n</g>\n<!-- 8 -->\n<g id=\"node9\" class=\"node\">\n<title>8</title>\n<path fill=\"#3c9ee5\" stroke=\"black\" d=\"M399,-187C399,-187 310,-187 310,-187 304,-187 298,-181 298,-175 298,-175 298,-116 298,-116 298,-110 304,-104 310,-104 310,-104 399,-104 399,-104 405,-104 411,-110 411,-116 411,-116 411,-175 411,-175 411,-181 405,-187 399,-187\"/>\n<text text-anchor=\"middle\" x=\"354.5\" y=\"-171.8\" font-family=\"Helvetica,sans-Serif\" font-size=\"14.00\">당도 &lt;= 1.175</text>\n<text text-anchor=\"middle\" x=\"354.5\" y=\"-156.8\" font-family=\"Helvetica,sans-Serif\" font-size=\"14.00\">gini = 0.025</text>\n<text text-anchor=\"middle\" x=\"354.5\" y=\"-141.8\" font-family=\"Helvetica,sans-Serif\" font-size=\"14.00\">samples = 472</text>\n<text text-anchor=\"middle\" x=\"354.5\" y=\"-126.8\" font-family=\"Helvetica,sans-Serif\" font-size=\"14.00\">value = [6, 466]</text>\n<text text-anchor=\"middle\" x=\"354.5\" y=\"-111.8\" font-family=\"Helvetica,sans-Serif\" font-size=\"14.00\">class = 1</text>\n</g>\n<!-- 4&#45;&gt;8 -->\n<g id=\"edge8\" class=\"edge\">\n<title>4&#45;&gt;8</title>\n<path fill=\"none\" stroke=\"black\" d=\"M354.5,-222.58C354.5,-214.79 354.5,-206.53 354.5,-198.45\"/>\n<polygon fill=\"black\" stroke=\"black\" points=\"358,-198.71 354.5,-188.71 351,-198.71 358,-198.71\"/>\n</g>\n<!-- 6 -->\n<g id=\"node7\" class=\"node\">\n<title>6</title>\n<path fill=\"#399de5\" stroke=\"black\" d=\"M85,-68C85,-68 12,-68 12,-68 6,-68 0,-62 0,-56 0,-56 0,-12 0,-12 0,-6 6,0 12,0 12,0 85,0 85,0 91,0 97,-6 97,-12 97,-12 97,-56 97,-56 97,-62 91,-68 85,-68\"/>\n<text text-anchor=\"middle\" x=\"48.5\" y=\"-52.8\" font-family=\"Helvetica,sans-Serif\" font-size=\"14.00\">gini = 0.0</text>\n<text text-anchor=\"middle\" x=\"48.5\" y=\"-37.8\" font-family=\"Helvetica,sans-Serif\" font-size=\"14.00\">samples = 4</text>\n<text text-anchor=\"middle\" x=\"48.5\" y=\"-22.8\" font-family=\"Helvetica,sans-Serif\" font-size=\"14.00\">value = [0, 4]</text>\n<text text-anchor=\"middle\" x=\"48.5\" y=\"-7.8\" font-family=\"Helvetica,sans-Serif\" font-size=\"14.00\">class = 1</text>\n</g>\n<!-- 5&#45;&gt;6 -->\n<g id=\"edge6\" class=\"edge\">\n<title>5&#45;&gt;6</title>\n<path fill=\"none\" stroke=\"black\" d=\"M120.68,-103.73C111.2,-94.7 101.14,-85.12 91.65,-76.08\"/>\n<polygon fill=\"black\" stroke=\"black\" points=\"94.22,-73.7 84.57,-69.34 89.4,-78.77 94.22,-73.7\"/>\n</g>\n<!-- 7 -->\n<g id=\"node8\" class=\"node\">\n<title>7</title>\n<path fill=\"#7bbeee\" stroke=\"black\" d=\"M200,-68C200,-68 127,-68 127,-68 121,-68 115,-62 115,-56 115,-56 115,-12 115,-12 115,-6 121,0 127,0 127,0 200,0 200,0 206,0 212,-6 212,-12 212,-12 212,-56 212,-56 212,-62 206,-68 200,-68\"/>\n<text text-anchor=\"middle\" x=\"163.5\" y=\"-52.8\" font-family=\"Helvetica,sans-Serif\" font-size=\"14.00\">gini = 0.375</text>\n<text text-anchor=\"middle\" x=\"163.5\" y=\"-37.8\" font-family=\"Helvetica,sans-Serif\" font-size=\"14.00\">samples = 4</text>\n<text text-anchor=\"middle\" x=\"163.5\" y=\"-22.8\" font-family=\"Helvetica,sans-Serif\" font-size=\"14.00\">value = [1, 3]</text>\n<text text-anchor=\"middle\" x=\"163.5\" y=\"-7.8\" font-family=\"Helvetica,sans-Serif\" font-size=\"14.00\">class = 1</text>\n</g>\n<!-- 5&#45;&gt;7 -->\n<g id=\"edge7\" class=\"edge\">\n<title>5&#45;&gt;7</title>\n<path fill=\"none\" stroke=\"black\" d=\"M163.5,-103.73C163.5,-95.88 163.5,-87.63 163.5,-79.67\"/>\n<polygon fill=\"black\" stroke=\"black\" points=\"167,-79.81 163.5,-69.81 160,-79.81 167,-79.81\"/>\n</g>\n<!-- 9 -->\n<g id=\"node10\" class=\"node\">\n<title>9</title>\n<path fill=\"#399de5\" stroke=\"black\" d=\"M331,-68C331,-68 242,-68 242,-68 236,-68 230,-62 230,-56 230,-56 230,-12 230,-12 230,-6 236,0 242,0 242,0 331,0 331,0 337,0 343,-6 343,-12 343,-12 343,-56 343,-56 343,-62 337,-68 331,-68\"/>\n<text text-anchor=\"middle\" x=\"286.5\" y=\"-52.8\" font-family=\"Helvetica,sans-Serif\" font-size=\"14.00\">gini = 0.0</text>\n<text text-anchor=\"middle\" x=\"286.5\" y=\"-37.8\" font-family=\"Helvetica,sans-Serif\" font-size=\"14.00\">samples = 234</text>\n<text text-anchor=\"middle\" x=\"286.5\" y=\"-22.8\" font-family=\"Helvetica,sans-Serif\" font-size=\"14.00\">value = [0, 234]</text>\n<text text-anchor=\"middle\" x=\"286.5\" y=\"-7.8\" font-family=\"Helvetica,sans-Serif\" font-size=\"14.00\">class = 1</text>\n</g>\n<!-- 8&#45;&gt;9 -->\n<g id=\"edge9\" class=\"edge\">\n<title>8&#45;&gt;9</title>\n<path fill=\"none\" stroke=\"black\" d=\"M329.18,-103.73C323.97,-95.34 318.47,-86.47 313.21,-78.01\"/>\n<polygon fill=\"black\" stroke=\"black\" points=\"316.23,-76.23 307.98,-69.59 310.28,-79.93 316.23,-76.23\"/>\n</g>\n<!-- 10 -->\n<g id=\"node11\" class=\"node\">\n<title>10</title>\n<path fill=\"#3ea0e6\" stroke=\"black\" d=\"M462,-68C462,-68 373,-68 373,-68 367,-68 361,-62 361,-56 361,-56 361,-12 361,-12 361,-6 367,0 373,0 373,0 462,0 462,0 468,0 474,-6 474,-12 474,-12 474,-56 474,-56 474,-62 468,-68 462,-68\"/>\n<text text-anchor=\"middle\" x=\"417.5\" y=\"-52.8\" font-family=\"Helvetica,sans-Serif\" font-size=\"14.00\">gini = 0.049</text>\n<text text-anchor=\"middle\" x=\"417.5\" y=\"-37.8\" font-family=\"Helvetica,sans-Serif\" font-size=\"14.00\">samples = 238</text>\n<text text-anchor=\"middle\" x=\"417.5\" y=\"-22.8\" font-family=\"Helvetica,sans-Serif\" font-size=\"14.00\">value = [6, 232]</text>\n<text text-anchor=\"middle\" x=\"417.5\" y=\"-7.8\" font-family=\"Helvetica,sans-Serif\" font-size=\"14.00\">class = 1</text>\n</g>\n<!-- 8&#45;&gt;10 -->\n<g id=\"edge10\" class=\"edge\">\n<title>8&#45;&gt;10</title>\n<path fill=\"none\" stroke=\"black\" d=\"M377.96,-103.73C382.79,-95.34 387.88,-86.47 392.76,-78.01\"/>\n<polygon fill=\"black\" stroke=\"black\" points=\"395.63,-80.02 397.59,-69.61 389.57,-76.53 395.63,-80.02\"/>\n</g>\n<!-- 13 -->\n<g id=\"node14\" class=\"node\">\n<title>13</title>\n<path fill=\"#b3d9f5\" stroke=\"black\" d=\"M970,-306C970,-306 881,-306 881,-306 875,-306 869,-300 869,-294 869,-294 869,-235 869,-235 869,-229 875,-223 881,-223 881,-223 970,-223 970,-223 976,-223 982,-229 982,-235 982,-235 982,-294 982,-294 982,-300 976,-306 970,-306\"/>\n<text text-anchor=\"middle\" x=\"925.5\" y=\"-290.8\" font-family=\"Helvetica,sans-Serif\" font-size=\"14.00\">산도 &lt;= 3.245</text>\n<text text-anchor=\"middle\" x=\"925.5\" y=\"-275.8\" font-family=\"Helvetica,sans-Serif\" font-size=\"14.00\">gini = 0.472</text>\n<text text-anchor=\"middle\" x=\"925.5\" y=\"-260.8\" font-family=\"Helvetica,sans-Serif\" font-size=\"14.00\">samples = 139</text>\n<text text-anchor=\"middle\" x=\"925.5\" y=\"-245.8\" font-family=\"Helvetica,sans-Serif\" font-size=\"14.00\">value = [53, 86]</text>\n<text text-anchor=\"middle\" x=\"925.5\" y=\"-230.8\" font-family=\"Helvetica,sans-Serif\" font-size=\"14.00\">class = 1</text>\n</g>\n<!-- 12&#45;&gt;13 -->\n<g id=\"edge13\" class=\"edge\">\n<title>12&#45;&gt;13</title>\n<path fill=\"none\" stroke=\"black\" d=\"M949.56,-341.58C947.07,-333.7 944.42,-325.34 941.84,-317.17\"/>\n<polygon fill=\"black\" stroke=\"black\" points=\"945.18,-316.12 938.83,-307.64 938.51,-318.23 945.18,-316.12\"/>\n</g>\n<!-- 20 -->\n<g id=\"node21\" class=\"node\">\n<title>20</title>\n<path fill=\"#53aae8\" stroke=\"black\" d=\"M1169.5,-306C1169.5,-306 1071.5,-306 1071.5,-306 1065.5,-306 1059.5,-300 1059.5,-294 1059.5,-294 1059.5,-235 1059.5,-235 1059.5,-229 1065.5,-223 1071.5,-223 1071.5,-223 1169.5,-223 1169.5,-223 1175.5,-223 1181.5,-229 1181.5,-235 1181.5,-235 1181.5,-294 1181.5,-294 1181.5,-300 1175.5,-306 1169.5,-306\"/>\n<text text-anchor=\"middle\" x=\"1120.5\" y=\"-290.8\" font-family=\"Helvetica,sans-Serif\" font-size=\"14.00\">산도 &lt;= 3.445</text>\n<text text-anchor=\"middle\" x=\"1120.5\" y=\"-275.8\" font-family=\"Helvetica,sans-Serif\" font-size=\"14.00\">gini = 0.203</text>\n<text text-anchor=\"middle\" x=\"1120.5\" y=\"-260.8\" font-family=\"Helvetica,sans-Serif\" font-size=\"14.00\">samples = 306</text>\n<text text-anchor=\"middle\" x=\"1120.5\" y=\"-245.8\" font-family=\"Helvetica,sans-Serif\" font-size=\"14.00\">value = [35, 271]</text>\n<text text-anchor=\"middle\" x=\"1120.5\" y=\"-230.8\" font-family=\"Helvetica,sans-Serif\" font-size=\"14.00\">class = 1</text>\n</g>\n<!-- 12&#45;&gt;20 -->\n<g id=\"edge20\" class=\"edge\">\n<title>12&#45;&gt;20</title>\n<path fill=\"none\" stroke=\"black\" d=\"M1017.76,-341.58C1030.15,-332.41 1043.4,-322.6 1056.12,-313.17\"/>\n<polygon fill=\"black\" stroke=\"black\" points=\"1058.1,-316.06 1064.05,-307.3 1053.93,-310.44 1058.1,-316.06\"/>\n</g>\n<!-- 14 -->\n<g id=\"node15\" class=\"node\">\n<title>14</title>\n<path fill=\"#73baed\" stroke=\"black\" d=\"M720,-187C720,-187 631,-187 631,-187 625,-187 619,-181 619,-175 619,-175 619,-116 619,-116 619,-110 625,-104 631,-104 631,-104 720,-104 720,-104 726,-104 732,-110 732,-116 732,-116 732,-175 732,-175 732,-181 726,-187 720,-187\"/>\n<text text-anchor=\"middle\" x=\"675.5\" y=\"-171.8\" font-family=\"Helvetica,sans-Serif\" font-size=\"14.00\">산도 &lt;= 3.175</text>\n<text text-anchor=\"middle\" x=\"675.5\" y=\"-156.8\" font-family=\"Helvetica,sans-Serif\" font-size=\"14.00\">gini = 0.349</text>\n<text text-anchor=\"middle\" x=\"675.5\" y=\"-141.8\" font-family=\"Helvetica,sans-Serif\" font-size=\"14.00\">samples = 71</text>\n<text text-anchor=\"middle\" x=\"675.5\" y=\"-126.8\" font-family=\"Helvetica,sans-Serif\" font-size=\"14.00\">value = [16, 55]</text>\n<text text-anchor=\"middle\" x=\"675.5\" y=\"-111.8\" font-family=\"Helvetica,sans-Serif\" font-size=\"14.00\">class = 1</text>\n</g>\n<!-- 13&#45;&gt;14 -->\n<g id=\"edge14\" class=\"edge\">\n<title>13&#45;&gt;14</title>\n<path fill=\"none\" stroke=\"black\" d=\"M868.77,-236.95C831.35,-219.44 782.14,-196.41 742.75,-177.97\"/>\n<polygon fill=\"black\" stroke=\"black\" points=\"744.35,-174.86 733.81,-173.79 741.38,-181.2 744.35,-174.86\"/>\n</g>\n<!-- 17 -->\n<g id=\"node18\" class=\"node\">\n<title>17</title>\n<path fill=\"#fbebdf\" stroke=\"black\" d=\"M970,-187C970,-187 881,-187 881,-187 875,-187 869,-181 869,-175 869,-175 869,-116 869,-116 869,-110 875,-104 881,-104 881,-104 970,-104 970,-104 976,-104 982,-110 982,-116 982,-116 982,-175 982,-175 982,-181 976,-187 970,-187\"/>\n<text text-anchor=\"middle\" x=\"925.5\" y=\"-171.8\" font-family=\"Helvetica,sans-Serif\" font-size=\"14.00\">도수 &lt;= 9.575</text>\n<text text-anchor=\"middle\" x=\"925.5\" y=\"-156.8\" font-family=\"Helvetica,sans-Serif\" font-size=\"14.00\">gini = 0.496</text>\n<text text-anchor=\"middle\" x=\"925.5\" y=\"-141.8\" font-family=\"Helvetica,sans-Serif\" font-size=\"14.00\">samples = 68</text>\n<text text-anchor=\"middle\" x=\"925.5\" y=\"-126.8\" font-family=\"Helvetica,sans-Serif\" font-size=\"14.00\">value = [37, 31]</text>\n<text text-anchor=\"middle\" x=\"925.5\" y=\"-111.8\" font-family=\"Helvetica,sans-Serif\" font-size=\"14.00\">class = 0</text>\n</g>\n<!-- 13&#45;&gt;17 -->\n<g id=\"edge17\" class=\"edge\">\n<title>13&#45;&gt;17</title>\n<path fill=\"none\" stroke=\"black\" d=\"M925.5,-222.58C925.5,-214.79 925.5,-206.53 925.5,-198.45\"/>\n<polygon fill=\"black\" stroke=\"black\" points=\"929,-198.71 925.5,-188.71 922,-198.71 929,-198.71\"/>\n</g>\n<!-- 15 -->\n<g id=\"node16\" class=\"node\">\n<title>15</title>\n<path fill=\"#86c3ef\" stroke=\"black\" d=\"M593,-68C593,-68 504,-68 504,-68 498,-68 492,-62 492,-56 492,-56 492,-12 492,-12 492,-6 498,0 504,0 504,0 593,0 593,0 599,0 605,-6 605,-12 605,-12 605,-56 605,-56 605,-62 599,-68 593,-68\"/>\n<text text-anchor=\"middle\" x=\"548.5\" y=\"-52.8\" font-family=\"Helvetica,sans-Serif\" font-size=\"14.00\">gini = 0.403</text>\n<text text-anchor=\"middle\" x=\"548.5\" y=\"-37.8\" font-family=\"Helvetica,sans-Serif\" font-size=\"14.00\">samples = 50</text>\n<text text-anchor=\"middle\" x=\"548.5\" y=\"-22.8\" font-family=\"Helvetica,sans-Serif\" font-size=\"14.00\">value = [14, 36]</text>\n<text text-anchor=\"middle\" x=\"548.5\" y=\"-7.8\" font-family=\"Helvetica,sans-Serif\" font-size=\"14.00\">class = 1</text>\n</g>\n<!-- 14&#45;&gt;15 -->\n<g id=\"edge15\" class=\"edge\">\n<title>14&#45;&gt;15</title>\n<path fill=\"none\" stroke=\"black\" d=\"M628.21,-103.73C617.63,-94.61 606.41,-84.93 595.83,-75.81\"/>\n<polygon fill=\"black\" stroke=\"black\" points=\"598.13,-73.17 588.27,-69.29 593.56,-78.47 598.13,-73.17\"/>\n</g>\n<!-- 16 -->\n<g id=\"node17\" class=\"node\">\n<title>16</title>\n<path fill=\"#4ea7e8\" stroke=\"black\" d=\"M716,-68C716,-68 635,-68 635,-68 629,-68 623,-62 623,-56 623,-56 623,-12 623,-12 623,-6 629,0 635,0 635,0 716,0 716,0 722,0 728,-6 728,-12 728,-12 728,-56 728,-56 728,-62 722,-68 716,-68\"/>\n<text text-anchor=\"middle\" x=\"675.5\" y=\"-52.8\" font-family=\"Helvetica,sans-Serif\" font-size=\"14.00\">gini = 0.172</text>\n<text text-anchor=\"middle\" x=\"675.5\" y=\"-37.8\" font-family=\"Helvetica,sans-Serif\" font-size=\"14.00\">samples = 21</text>\n<text text-anchor=\"middle\" x=\"675.5\" y=\"-22.8\" font-family=\"Helvetica,sans-Serif\" font-size=\"14.00\">value = [2, 19]</text>\n<text text-anchor=\"middle\" x=\"675.5\" y=\"-7.8\" font-family=\"Helvetica,sans-Serif\" font-size=\"14.00\">class = 1</text>\n</g>\n<!-- 14&#45;&gt;16 -->\n<g id=\"edge16\" class=\"edge\">\n<title>14&#45;&gt;16</title>\n<path fill=\"none\" stroke=\"black\" d=\"M675.5,-103.73C675.5,-95.88 675.5,-87.63 675.5,-79.67\"/>\n<polygon fill=\"black\" stroke=\"black\" points=\"679,-79.81 675.5,-69.81 672,-79.81 679,-79.81\"/>\n</g>\n<!-- 18 -->\n<g id=\"node19\" class=\"node\">\n<title>18</title>\n<path fill=\"#eeab7b\" stroke=\"black\" d=\"M839,-68C839,-68 758,-68 758,-68 752,-68 746,-62 746,-56 746,-56 746,-12 746,-12 746,-6 752,0 758,0 758,0 839,0 839,0 845,0 851,-6 851,-12 851,-12 851,-56 851,-56 851,-62 845,-68 839,-68\"/>\n<text text-anchor=\"middle\" x=\"798.5\" y=\"-52.8\" font-family=\"Helvetica,sans-Serif\" font-size=\"14.00\">gini = 0.375</text>\n<text text-anchor=\"middle\" x=\"798.5\" y=\"-37.8\" font-family=\"Helvetica,sans-Serif\" font-size=\"14.00\">samples = 28</text>\n<text text-anchor=\"middle\" x=\"798.5\" y=\"-22.8\" font-family=\"Helvetica,sans-Serif\" font-size=\"14.00\">value = [21, 7]</text>\n<text text-anchor=\"middle\" x=\"798.5\" y=\"-7.8\" font-family=\"Helvetica,sans-Serif\" font-size=\"14.00\">class = 0</text>\n</g>\n<!-- 17&#45;&gt;18 -->\n<g id=\"edge18\" class=\"edge\">\n<title>17&#45;&gt;18</title>\n<path fill=\"none\" stroke=\"black\" d=\"M878.21,-103.73C867.63,-94.61 856.41,-84.93 845.83,-75.81\"/>\n<polygon fill=\"black\" stroke=\"black\" points=\"848.13,-73.17 838.27,-69.29 843.56,-78.47 848.13,-73.17\"/>\n</g>\n<!-- 19 -->\n<g id=\"node20\" class=\"node\">\n<title>19</title>\n<path fill=\"#bddef6\" stroke=\"black\" d=\"M970,-68C970,-68 881,-68 881,-68 875,-68 869,-62 869,-56 869,-56 869,-12 869,-12 869,-6 875,0 881,0 881,0 970,0 970,0 976,0 982,-6 982,-12 982,-12 982,-56 982,-56 982,-62 976,-68 970,-68\"/>\n<text text-anchor=\"middle\" x=\"925.5\" y=\"-52.8\" font-family=\"Helvetica,sans-Serif\" font-size=\"14.00\">gini = 0.48</text>\n<text text-anchor=\"middle\" x=\"925.5\" y=\"-37.8\" font-family=\"Helvetica,sans-Serif\" font-size=\"14.00\">samples = 40</text>\n<text text-anchor=\"middle\" x=\"925.5\" y=\"-22.8\" font-family=\"Helvetica,sans-Serif\" font-size=\"14.00\">value = [16, 24]</text>\n<text text-anchor=\"middle\" x=\"925.5\" y=\"-7.8\" font-family=\"Helvetica,sans-Serif\" font-size=\"14.00\">class = 1</text>\n</g>\n<!-- 17&#45;&gt;19 -->\n<g id=\"edge19\" class=\"edge\">\n<title>17&#45;&gt;19</title>\n<path fill=\"none\" stroke=\"black\" d=\"M925.5,-103.73C925.5,-95.88 925.5,-87.63 925.5,-79.67\"/>\n<polygon fill=\"black\" stroke=\"black\" points=\"929,-79.81 925.5,-69.81 922,-79.81 929,-79.81\"/>\n</g>\n<!-- 21 -->\n<g id=\"node22\" class=\"node\">\n<title>21</title>\n<path fill=\"#49a5e7\" stroke=\"black\" d=\"M1169.5,-187C1169.5,-187 1071.5,-187 1071.5,-187 1065.5,-187 1059.5,-181 1059.5,-175 1059.5,-175 1059.5,-116 1059.5,-116 1059.5,-110 1065.5,-104 1071.5,-104 1071.5,-104 1169.5,-104 1169.5,-104 1175.5,-104 1181.5,-110 1181.5,-116 1181.5,-116 1181.5,-175 1181.5,-175 1181.5,-181 1175.5,-187 1169.5,-187\"/>\n<text text-anchor=\"middle\" x=\"1120.5\" y=\"-171.8\" font-family=\"Helvetica,sans-Serif\" font-size=\"14.00\">도수 &lt;= 11.95</text>\n<text text-anchor=\"middle\" x=\"1120.5\" y=\"-156.8\" font-family=\"Helvetica,sans-Serif\" font-size=\"14.00\">gini = 0.141</text>\n<text text-anchor=\"middle\" x=\"1120.5\" y=\"-141.8\" font-family=\"Helvetica,sans-Serif\" font-size=\"14.00\">samples = 263</text>\n<text text-anchor=\"middle\" x=\"1120.5\" y=\"-126.8\" font-family=\"Helvetica,sans-Serif\" font-size=\"14.00\">value = [20, 243]</text>\n<text text-anchor=\"middle\" x=\"1120.5\" y=\"-111.8\" font-family=\"Helvetica,sans-Serif\" font-size=\"14.00\">class = 1</text>\n</g>\n<!-- 20&#45;&gt;21 -->\n<g id=\"edge21\" class=\"edge\">\n<title>20&#45;&gt;21</title>\n<path fill=\"none\" stroke=\"black\" d=\"M1120.5,-222.58C1120.5,-214.79 1120.5,-206.53 1120.5,-198.45\"/>\n<polygon fill=\"black\" stroke=\"black\" points=\"1124,-198.71 1120.5,-188.71 1117,-198.71 1124,-198.71\"/>\n</g>\n<!-- 24 -->\n<g id=\"node25\" class=\"node\">\n<title>24</title>\n<path fill=\"#a3d2f3\" stroke=\"black\" d=\"M1361,-187C1361,-187 1272,-187 1272,-187 1266,-187 1260,-181 1260,-175 1260,-175 1260,-116 1260,-116 1260,-110 1266,-104 1272,-104 1272,-104 1361,-104 1361,-104 1367,-104 1373,-110 1373,-116 1373,-116 1373,-175 1373,-175 1373,-181 1367,-187 1361,-187\"/>\n<text text-anchor=\"middle\" x=\"1316.5\" y=\"-171.8\" font-family=\"Helvetica,sans-Serif\" font-size=\"14.00\">도수 &lt;= 10.85</text>\n<text text-anchor=\"middle\" x=\"1316.5\" y=\"-156.8\" font-family=\"Helvetica,sans-Serif\" font-size=\"14.00\">gini = 0.454</text>\n<text text-anchor=\"middle\" x=\"1316.5\" y=\"-141.8\" font-family=\"Helvetica,sans-Serif\" font-size=\"14.00\">samples = 43</text>\n<text text-anchor=\"middle\" x=\"1316.5\" y=\"-126.8\" font-family=\"Helvetica,sans-Serif\" font-size=\"14.00\">value = [15, 28]</text>\n<text text-anchor=\"middle\" x=\"1316.5\" y=\"-111.8\" font-family=\"Helvetica,sans-Serif\" font-size=\"14.00\">class = 1</text>\n</g>\n<!-- 20&#45;&gt;24 -->\n<g id=\"edge24\" class=\"edge\">\n<title>20&#45;&gt;24</title>\n<path fill=\"none\" stroke=\"black\" d=\"M1181.98,-226.8C1203.59,-213.9 1227.97,-199.35 1249.98,-186.21\"/>\n<polygon fill=\"black\" stroke=\"black\" points=\"1251.48,-189.39 1258.28,-181.26 1247.9,-183.38 1251.48,-189.39\"/>\n</g>\n<!-- 22 -->\n<g id=\"node23\" class=\"node\">\n<title>22</title>\n<path fill=\"#4fa8e8\" stroke=\"black\" d=\"M1110.5,-68C1110.5,-68 1012.5,-68 1012.5,-68 1006.5,-68 1000.5,-62 1000.5,-56 1000.5,-56 1000.5,-12 1000.5,-12 1000.5,-6 1006.5,0 1012.5,0 1012.5,0 1110.5,0 1110.5,0 1116.5,0 1122.5,-6 1122.5,-12 1122.5,-12 1122.5,-56 1122.5,-56 1122.5,-62 1116.5,-68 1110.5,-68\"/>\n<text text-anchor=\"middle\" x=\"1061.5\" y=\"-52.8\" font-family=\"Helvetica,sans-Serif\" font-size=\"14.00\">gini = 0.181</text>\n<text text-anchor=\"middle\" x=\"1061.5\" y=\"-37.8\" font-family=\"Helvetica,sans-Serif\" font-size=\"14.00\">samples = 199</text>\n<text text-anchor=\"middle\" x=\"1061.5\" y=\"-22.8\" font-family=\"Helvetica,sans-Serif\" font-size=\"14.00\">value = [20, 179]</text>\n<text text-anchor=\"middle\" x=\"1061.5\" y=\"-7.8\" font-family=\"Helvetica,sans-Serif\" font-size=\"14.00\">class = 1</text>\n</g>\n<!-- 21&#45;&gt;22 -->\n<g id=\"edge22\" class=\"edge\">\n<title>21&#45;&gt;22</title>\n<path fill=\"none\" stroke=\"black\" d=\"M1098.53,-103.73C1094.06,-95.43 1089.34,-86.67 1084.82,-78.28\"/>\n<polygon fill=\"black\" stroke=\"black\" points=\"1087.98,-76.78 1080.16,-69.63 1081.82,-80.1 1087.98,-76.78\"/>\n</g>\n<!-- 23 -->\n<g id=\"node24\" class=\"node\">\n<title>23</title>\n<path fill=\"#399de5\" stroke=\"black\" d=\"M1234,-68C1234,-68 1153,-68 1153,-68 1147,-68 1141,-62 1141,-56 1141,-56 1141,-12 1141,-12 1141,-6 1147,0 1153,0 1153,0 1234,0 1234,0 1240,0 1246,-6 1246,-12 1246,-12 1246,-56 1246,-56 1246,-62 1240,-68 1234,-68\"/>\n<text text-anchor=\"middle\" x=\"1193.5\" y=\"-52.8\" font-family=\"Helvetica,sans-Serif\" font-size=\"14.00\">gini = 0.0</text>\n<text text-anchor=\"middle\" x=\"1193.5\" y=\"-37.8\" font-family=\"Helvetica,sans-Serif\" font-size=\"14.00\">samples = 64</text>\n<text text-anchor=\"middle\" x=\"1193.5\" y=\"-22.8\" font-family=\"Helvetica,sans-Serif\" font-size=\"14.00\">value = [0, 64]</text>\n<text text-anchor=\"middle\" x=\"1193.5\" y=\"-7.8\" font-family=\"Helvetica,sans-Serif\" font-size=\"14.00\">class = 1</text>\n</g>\n<!-- 21&#45;&gt;23 -->\n<g id=\"edge23\" class=\"edge\">\n<title>21&#45;&gt;23</title>\n<path fill=\"none\" stroke=\"black\" d=\"M1147.68,-103.73C1153.34,-95.24 1159.31,-86.28 1165.01,-77.73\"/>\n<polygon fill=\"black\" stroke=\"black\" points=\"1167.83,-79.82 1170.46,-69.56 1162,-75.94 1167.83,-79.82\"/>\n</g>\n<!-- 25 -->\n<g id=\"node26\" class=\"node\">\n<title>25</title>\n<path fill=\"#4ea7e8\" stroke=\"black\" d=\"M1357,-68C1357,-68 1276,-68 1276,-68 1270,-68 1264,-62 1264,-56 1264,-56 1264,-12 1264,-12 1264,-6 1270,0 1276,0 1276,0 1357,0 1357,0 1363,0 1369,-6 1369,-12 1369,-12 1369,-56 1369,-56 1369,-62 1363,-68 1357,-68\"/>\n<text text-anchor=\"middle\" x=\"1316.5\" y=\"-52.8\" font-family=\"Helvetica,sans-Serif\" font-size=\"14.00\">gini = 0.172</text>\n<text text-anchor=\"middle\" x=\"1316.5\" y=\"-37.8\" font-family=\"Helvetica,sans-Serif\" font-size=\"14.00\">samples = 21</text>\n<text text-anchor=\"middle\" x=\"1316.5\" y=\"-22.8\" font-family=\"Helvetica,sans-Serif\" font-size=\"14.00\">value = [2, 19]</text>\n<text text-anchor=\"middle\" x=\"1316.5\" y=\"-7.8\" font-family=\"Helvetica,sans-Serif\" font-size=\"14.00\">class = 1</text>\n</g>\n<!-- 24&#45;&gt;25 -->\n<g id=\"edge25\" class=\"edge\">\n<title>24&#45;&gt;25</title>\n<path fill=\"none\" stroke=\"black\" d=\"M1316.5,-103.73C1316.5,-95.88 1316.5,-87.63 1316.5,-79.67\"/>\n<polygon fill=\"black\" stroke=\"black\" points=\"1320,-79.81 1316.5,-69.81 1313,-79.81 1320,-79.81\"/>\n</g>\n<!-- 26 -->\n<g id=\"node27\" class=\"node\">\n<title>26</title>\n<path fill=\"#f7d8c2\" stroke=\"black\" d=\"M1480,-68C1480,-68 1399,-68 1399,-68 1393,-68 1387,-62 1387,-56 1387,-56 1387,-12 1387,-12 1387,-6 1393,0 1399,0 1399,0 1480,0 1480,0 1486,0 1492,-6 1492,-12 1492,-12 1492,-56 1492,-56 1492,-62 1486,-68 1480,-68\"/>\n<text text-anchor=\"middle\" x=\"1439.5\" y=\"-52.8\" font-family=\"Helvetica,sans-Serif\" font-size=\"14.00\">gini = 0.483</text>\n<text text-anchor=\"middle\" x=\"1439.5\" y=\"-37.8\" font-family=\"Helvetica,sans-Serif\" font-size=\"14.00\">samples = 22</text>\n<text text-anchor=\"middle\" x=\"1439.5\" y=\"-22.8\" font-family=\"Helvetica,sans-Serif\" font-size=\"14.00\">value = [13, 9]</text>\n<text text-anchor=\"middle\" x=\"1439.5\" y=\"-7.8\" font-family=\"Helvetica,sans-Serif\" font-size=\"14.00\">class = 0</text>\n</g>\n<!-- 24&#45;&gt;26 -->\n<g id=\"edge26\" class=\"edge\">\n<title>24&#45;&gt;26</title>\n<path fill=\"none\" stroke=\"black\" d=\"M1362.3,-103.73C1372.55,-94.61 1383.41,-84.93 1393.66,-75.81\"/>\n<polygon fill=\"black\" stroke=\"black\" points=\"1395.82,-78.57 1400.96,-69.31 1391.17,-73.34 1395.82,-78.57\"/>\n</g>\n<!-- 28 -->\n<g id=\"node29\" class=\"node\">\n<title>28</title>\n<path fill=\"#f0b58a\" stroke=\"black\" d=\"M2335.5,-425C2335.5,-425 2229.5,-425 2229.5,-425 2223.5,-425 2217.5,-419 2217.5,-413 2217.5,-413 2217.5,-354 2217.5,-354 2217.5,-348 2223.5,-342 2229.5,-342 2229.5,-342 2335.5,-342 2335.5,-342 2341.5,-342 2347.5,-348 2347.5,-354 2347.5,-354 2347.5,-413 2347.5,-413 2347.5,-419 2341.5,-425 2335.5,-425\"/>\n<text text-anchor=\"middle\" x=\"2282.5\" y=\"-409.8\" font-family=\"Helvetica,sans-Serif\" font-size=\"14.00\">산도 &lt;= 3.235</text>\n<text text-anchor=\"middle\" x=\"2282.5\" y=\"-394.8\" font-family=\"Helvetica,sans-Serif\" font-size=\"14.00\">gini = 0.412</text>\n<text text-anchor=\"middle\" x=\"2282.5\" y=\"-379.8\" font-family=\"Helvetica,sans-Serif\" font-size=\"14.00\">samples = 984</text>\n<text text-anchor=\"middle\" x=\"2282.5\" y=\"-364.8\" font-family=\"Helvetica,sans-Serif\" font-size=\"14.00\">value = [698, 286]</text>\n<text text-anchor=\"middle\" x=\"2282.5\" y=\"-349.8\" font-family=\"Helvetica,sans-Serif\" font-size=\"14.00\">class = 0</text>\n</g>\n<!-- 27&#45;&gt;28 -->\n<g id=\"edge28\" class=\"edge\">\n<title>27&#45;&gt;28</title>\n<path fill=\"none\" stroke=\"black\" d=\"M2480.15,-472.43C2443.14,-455.96 2396.68,-435.3 2358.11,-418.14\"/>\n<polygon fill=\"black\" stroke=\"black\" points=\"2359.91,-415.11 2349.35,-414.24 2357.07,-421.5 2359.91,-415.11\"/>\n</g>\n<!-- 43 -->\n<g id=\"node44\" class=\"node\">\n<title>43</title>\n<path fill=\"#aed7f4\" stroke=\"black\" d=\"M2861.5,-425C2861.5,-425 2755.5,-425 2755.5,-425 2749.5,-425 2743.5,-419 2743.5,-413 2743.5,-413 2743.5,-354 2743.5,-354 2743.5,-348 2749.5,-342 2755.5,-342 2755.5,-342 2861.5,-342 2861.5,-342 2867.5,-342 2873.5,-348 2873.5,-354 2873.5,-354 2873.5,-413 2873.5,-413 2873.5,-419 2867.5,-425 2861.5,-425\"/>\n<text text-anchor=\"middle\" x=\"2808.5\" y=\"-409.8\" font-family=\"Helvetica,sans-Serif\" font-size=\"14.00\">산도 &lt;= 3.325</text>\n<text text-anchor=\"middle\" x=\"2808.5\" y=\"-394.8\" font-family=\"Helvetica,sans-Serif\" font-size=\"14.00\">gini = 0.467</text>\n<text text-anchor=\"middle\" x=\"2808.5\" y=\"-379.8\" font-family=\"Helvetica,sans-Serif\" font-size=\"14.00\">samples = 591</text>\n<text text-anchor=\"middle\" x=\"2808.5\" y=\"-364.8\" font-family=\"Helvetica,sans-Serif\" font-size=\"14.00\">value = [220, 371]</text>\n<text text-anchor=\"middle\" x=\"2808.5\" y=\"-349.8\" font-family=\"Helvetica,sans-Serif\" font-size=\"14.00\">class = 1</text>\n</g>\n<!-- 27&#45;&gt;43 -->\n<g id=\"edge43\" class=\"edge\">\n<title>27&#45;&gt;43</title>\n<path fill=\"none\" stroke=\"black\" d=\"M2610.85,-472.43C2647.86,-455.96 2694.32,-435.3 2732.89,-418.14\"/>\n<polygon fill=\"black\" stroke=\"black\" points=\"2733.93,-421.5 2741.65,-414.24 2731.09,-415.11 2733.93,-421.5\"/>\n</g>\n<!-- 29 -->\n<g id=\"node30\" class=\"node\">\n<title>29</title>\n<path fill=\"#fae5d6\" stroke=\"black\" d=\"M1953.5,-306C1953.5,-306 1847.5,-306 1847.5,-306 1841.5,-306 1835.5,-300 1835.5,-294 1835.5,-294 1835.5,-235 1835.5,-235 1835.5,-229 1841.5,-223 1847.5,-223 1847.5,-223 1953.5,-223 1953.5,-223 1959.5,-223 1965.5,-229 1965.5,-235 1965.5,-235 1965.5,-294 1965.5,-294 1965.5,-300 1959.5,-306 1953.5,-306\"/>\n<text text-anchor=\"middle\" x=\"1900.5\" y=\"-290.8\" font-family=\"Helvetica,sans-Serif\" font-size=\"14.00\">당도 &lt;= 3.25</text>\n<text text-anchor=\"middle\" x=\"1900.5\" y=\"-275.8\" font-family=\"Helvetica,sans-Serif\" font-size=\"14.00\">gini = 0.493</text>\n<text text-anchor=\"middle\" x=\"1900.5\" y=\"-260.8\" font-family=\"Helvetica,sans-Serif\" font-size=\"14.00\">samples = 387</text>\n<text text-anchor=\"middle\" x=\"1900.5\" y=\"-245.8\" font-family=\"Helvetica,sans-Serif\" font-size=\"14.00\">value = [216, 171]</text>\n<text text-anchor=\"middle\" x=\"1900.5\" y=\"-230.8\" font-family=\"Helvetica,sans-Serif\" font-size=\"14.00\">class = 0</text>\n</g>\n<!-- 28&#45;&gt;29 -->\n<g id=\"edge29\" class=\"edge\">\n<title>28&#45;&gt;29</title>\n<path fill=\"none\" stroke=\"black\" d=\"M2217.27,-362.52C2150.62,-342.11 2047.19,-310.43 1976.79,-288.87\"/>\n<polygon fill=\"black\" stroke=\"black\" points=\"1977.82,-285.52 1967.23,-285.94 1975.77,-292.21 1977.82,-285.52\"/>\n</g>\n<!-- 36 -->\n<g id=\"node37\" class=\"node\">\n<title>36</title>\n<path fill=\"#eb9f68\" stroke=\"black\" d=\"M2335.5,-306C2335.5,-306 2229.5,-306 2229.5,-306 2223.5,-306 2217.5,-300 2217.5,-294 2217.5,-294 2217.5,-235 2217.5,-235 2217.5,-229 2223.5,-223 2229.5,-223 2229.5,-223 2335.5,-223 2335.5,-223 2341.5,-223 2347.5,-229 2347.5,-235 2347.5,-235 2347.5,-294 2347.5,-294 2347.5,-300 2341.5,-306 2335.5,-306\"/>\n<text text-anchor=\"middle\" x=\"2282.5\" y=\"-290.8\" font-family=\"Helvetica,sans-Serif\" font-size=\"14.00\">도수 &lt;= 9.975</text>\n<text text-anchor=\"middle\" x=\"2282.5\" y=\"-275.8\" font-family=\"Helvetica,sans-Serif\" font-size=\"14.00\">gini = 0.311</text>\n<text text-anchor=\"middle\" x=\"2282.5\" y=\"-260.8\" font-family=\"Helvetica,sans-Serif\" font-size=\"14.00\">samples = 597</text>\n<text text-anchor=\"middle\" x=\"2282.5\" y=\"-245.8\" font-family=\"Helvetica,sans-Serif\" font-size=\"14.00\">value = [482, 115]</text>\n<text text-anchor=\"middle\" x=\"2282.5\" y=\"-230.8\" font-family=\"Helvetica,sans-Serif\" font-size=\"14.00\">class = 0</text>\n</g>\n<!-- 28&#45;&gt;36 -->\n<g id=\"edge36\" class=\"edge\">\n<title>28&#45;&gt;36</title>\n<path fill=\"none\" stroke=\"black\" d=\"M2282.5,-341.58C2282.5,-333.79 2282.5,-325.53 2282.5,-317.45\"/>\n<polygon fill=\"black\" stroke=\"black\" points=\"2286,-317.71 2282.5,-307.71 2279,-317.71 2286,-317.71\"/>\n</g>\n<!-- 30 -->\n<g id=\"node31\" class=\"node\">\n<title>30</title>\n<path fill=\"#f6d4bc\" stroke=\"black\" d=\"M1760.5,-187C1760.5,-187 1654.5,-187 1654.5,-187 1648.5,-187 1642.5,-181 1642.5,-175 1642.5,-175 1642.5,-116 1642.5,-116 1642.5,-110 1648.5,-104 1654.5,-104 1654.5,-104 1760.5,-104 1760.5,-104 1766.5,-104 1772.5,-110 1772.5,-116 1772.5,-116 1772.5,-175 1772.5,-175 1772.5,-181 1766.5,-187 1760.5,-187\"/>\n<text text-anchor=\"middle\" x=\"1707.5\" y=\"-171.8\" font-family=\"Helvetica,sans-Serif\" font-size=\"14.00\">도수 &lt;= 9.85</text>\n<text text-anchor=\"middle\" x=\"1707.5\" y=\"-156.8\" font-family=\"Helvetica,sans-Serif\" font-size=\"14.00\">gini = 0.479</text>\n<text text-anchor=\"middle\" x=\"1707.5\" y=\"-141.8\" font-family=\"Helvetica,sans-Serif\" font-size=\"14.00\">samples = 342</text>\n<text text-anchor=\"middle\" x=\"1707.5\" y=\"-126.8\" font-family=\"Helvetica,sans-Serif\" font-size=\"14.00\">value = [206, 136]</text>\n<text text-anchor=\"middle\" x=\"1707.5\" y=\"-111.8\" font-family=\"Helvetica,sans-Serif\" font-size=\"14.00\">class = 0</text>\n</g>\n<!-- 29&#45;&gt;30 -->\n<g id=\"edge30\" class=\"edge\">\n<title>29&#45;&gt;30</title>\n<path fill=\"none\" stroke=\"black\" d=\"M1835.16,-223.89C1818.18,-213.6 1799.76,-202.43 1782.34,-191.87\"/>\n<polygon fill=\"black\" stroke=\"black\" points=\"1784.43,-189.05 1774.07,-186.85 1780.8,-195.03 1784.43,-189.05\"/>\n</g>\n<!-- 33 -->\n<g id=\"node34\" class=\"node\">\n<title>33</title>\n<path fill=\"#72b9ec\" stroke=\"black\" d=\"M1945,-187C1945,-187 1856,-187 1856,-187 1850,-187 1844,-181 1844,-175 1844,-175 1844,-116 1844,-116 1844,-110 1850,-104 1856,-104 1856,-104 1945,-104 1945,-104 1951,-104 1957,-110 1957,-116 1957,-116 1957,-175 1957,-175 1957,-181 1951,-187 1945,-187\"/>\n<text text-anchor=\"middle\" x=\"1900.5\" y=\"-171.8\" font-family=\"Helvetica,sans-Serif\" font-size=\"14.00\">산도 &lt;= 3.19</text>\n<text text-anchor=\"middle\" x=\"1900.5\" y=\"-156.8\" font-family=\"Helvetica,sans-Serif\" font-size=\"14.00\">gini = 0.346</text>\n<text text-anchor=\"middle\" x=\"1900.5\" y=\"-141.8\" font-family=\"Helvetica,sans-Serif\" font-size=\"14.00\">samples = 45</text>\n<text text-anchor=\"middle\" x=\"1900.5\" y=\"-126.8\" font-family=\"Helvetica,sans-Serif\" font-size=\"14.00\">value = [10, 35]</text>\n<text text-anchor=\"middle\" x=\"1900.5\" y=\"-111.8\" font-family=\"Helvetica,sans-Serif\" font-size=\"14.00\">class = 1</text>\n</g>\n<!-- 29&#45;&gt;33 -->\n<g id=\"edge33\" class=\"edge\">\n<title>29&#45;&gt;33</title>\n<path fill=\"none\" stroke=\"black\" d=\"M1900.5,-222.58C1900.5,-214.79 1900.5,-206.53 1900.5,-198.45\"/>\n<polygon fill=\"black\" stroke=\"black\" points=\"1904,-198.71 1900.5,-188.71 1897,-198.71 1904,-198.71\"/>\n</g>\n<!-- 31 -->\n<g id=\"node32\" class=\"node\">\n<title>31</title>\n<path fill=\"#efb083\" stroke=\"black\" d=\"M1620.5,-68C1620.5,-68 1522.5,-68 1522.5,-68 1516.5,-68 1510.5,-62 1510.5,-56 1510.5,-56 1510.5,-12 1510.5,-12 1510.5,-6 1516.5,0 1522.5,0 1522.5,0 1620.5,0 1620.5,0 1626.5,0 1632.5,-6 1632.5,-12 1632.5,-12 1632.5,-56 1632.5,-56 1632.5,-62 1626.5,-68 1620.5,-68\"/>\n<text text-anchor=\"middle\" x=\"1571.5\" y=\"-52.8\" font-family=\"Helvetica,sans-Serif\" font-size=\"14.00\">gini = 0.397</text>\n<text text-anchor=\"middle\" x=\"1571.5\" y=\"-37.8\" font-family=\"Helvetica,sans-Serif\" font-size=\"14.00\">samples = 165</text>\n<text text-anchor=\"middle\" x=\"1571.5\" y=\"-22.8\" font-family=\"Helvetica,sans-Serif\" font-size=\"14.00\">value = [120, 45]</text>\n<text text-anchor=\"middle\" x=\"1571.5\" y=\"-7.8\" font-family=\"Helvetica,sans-Serif\" font-size=\"14.00\">class = 0</text>\n</g>\n<!-- 30&#45;&gt;31 -->\n<g id=\"edge31\" class=\"edge\">\n<title>30&#45;&gt;31</title>\n<path fill=\"none\" stroke=\"black\" d=\"M1656.86,-103.73C1645.3,-94.42 1633.03,-84.54 1621.5,-75.26\"/>\n<polygon fill=\"black\" stroke=\"black\" points=\"1624.02,-72.79 1614.04,-69.25 1619.63,-78.25 1624.02,-72.79\"/>\n</g>\n<!-- 32 -->\n<g id=\"node33\" class=\"node\">\n<title>32</title>\n<path fill=\"#f4fafe\" stroke=\"black\" d=\"M1752,-68C1752,-68 1663,-68 1663,-68 1657,-68 1651,-62 1651,-56 1651,-56 1651,-12 1651,-12 1651,-6 1657,0 1663,0 1663,0 1752,0 1752,0 1758,0 1764,-6 1764,-12 1764,-12 1764,-56 1764,-56 1764,-62 1758,-68 1752,-68\"/>\n<text text-anchor=\"middle\" x=\"1707.5\" y=\"-52.8\" font-family=\"Helvetica,sans-Serif\" font-size=\"14.00\">gini = 0.5</text>\n<text text-anchor=\"middle\" x=\"1707.5\" y=\"-37.8\" font-family=\"Helvetica,sans-Serif\" font-size=\"14.00\">samples = 177</text>\n<text text-anchor=\"middle\" x=\"1707.5\" y=\"-22.8\" font-family=\"Helvetica,sans-Serif\" font-size=\"14.00\">value = [86, 91]</text>\n<text text-anchor=\"middle\" x=\"1707.5\" y=\"-7.8\" font-family=\"Helvetica,sans-Serif\" font-size=\"14.00\">class = 1</text>\n</g>\n<!-- 30&#45;&gt;32 -->\n<g id=\"edge32\" class=\"edge\">\n<title>30&#45;&gt;32</title>\n<path fill=\"none\" stroke=\"black\" d=\"M1707.5,-103.73C1707.5,-95.88 1707.5,-87.63 1707.5,-79.67\"/>\n<polygon fill=\"black\" stroke=\"black\" points=\"1711,-79.81 1707.5,-69.81 1704,-79.81 1711,-79.81\"/>\n</g>\n<!-- 34 -->\n<g id=\"node35\" class=\"node\">\n<title>34</title>\n<path fill=\"#5dafea\" stroke=\"black\" d=\"M1875,-68C1875,-68 1794,-68 1794,-68 1788,-68 1782,-62 1782,-56 1782,-56 1782,-12 1782,-12 1782,-6 1788,0 1794,0 1794,0 1875,0 1875,0 1881,0 1887,-6 1887,-12 1887,-12 1887,-56 1887,-56 1887,-62 1881,-68 1875,-68\"/>\n<text text-anchor=\"middle\" x=\"1834.5\" y=\"-52.8\" font-family=\"Helvetica,sans-Serif\" font-size=\"14.00\">gini = 0.26</text>\n<text text-anchor=\"middle\" x=\"1834.5\" y=\"-37.8\" font-family=\"Helvetica,sans-Serif\" font-size=\"14.00\">samples = 39</text>\n<text text-anchor=\"middle\" x=\"1834.5\" y=\"-22.8\" font-family=\"Helvetica,sans-Serif\" font-size=\"14.00\">value = [6, 33]</text>\n<text text-anchor=\"middle\" x=\"1834.5\" y=\"-7.8\" font-family=\"Helvetica,sans-Serif\" font-size=\"14.00\">class = 1</text>\n</g>\n<!-- 33&#45;&gt;34 -->\n<g id=\"edge34\" class=\"edge\">\n<title>33&#45;&gt;34</title>\n<path fill=\"none\" stroke=\"black\" d=\"M1875.92,-103.73C1870.87,-95.34 1865.53,-86.47 1860.42,-78.01\"/>\n<polygon fill=\"black\" stroke=\"black\" points=\"1863.51,-76.35 1855.35,-69.6 1857.52,-79.97 1863.51,-76.35\"/>\n</g>\n<!-- 35 -->\n<g id=\"node36\" class=\"node\">\n<title>35</title>\n<path fill=\"#f2c09c\" stroke=\"black\" d=\"M1990,-68C1990,-68 1917,-68 1917,-68 1911,-68 1905,-62 1905,-56 1905,-56 1905,-12 1905,-12 1905,-6 1911,0 1917,0 1917,0 1990,0 1990,0 1996,0 2002,-6 2002,-12 2002,-12 2002,-56 2002,-56 2002,-62 1996,-68 1990,-68\"/>\n<text text-anchor=\"middle\" x=\"1953.5\" y=\"-52.8\" font-family=\"Helvetica,sans-Serif\" font-size=\"14.00\">gini = 0.444</text>\n<text text-anchor=\"middle\" x=\"1953.5\" y=\"-37.8\" font-family=\"Helvetica,sans-Serif\" font-size=\"14.00\">samples = 6</text>\n<text text-anchor=\"middle\" x=\"1953.5\" y=\"-22.8\" font-family=\"Helvetica,sans-Serif\" font-size=\"14.00\">value = [4, 2]</text>\n<text text-anchor=\"middle\" x=\"1953.5\" y=\"-7.8\" font-family=\"Helvetica,sans-Serif\" font-size=\"14.00\">class = 0</text>\n</g>\n<!-- 33&#45;&gt;35 -->\n<g id=\"edge35\" class=\"edge\">\n<title>33&#45;&gt;35</title>\n<path fill=\"none\" stroke=\"black\" d=\"M1920.24,-103.73C1924.21,-95.52 1928.4,-86.86 1932.42,-78.56\"/>\n<polygon fill=\"black\" stroke=\"black\" points=\"1935.52,-80.19 1936.72,-69.66 1929.22,-77.14 1935.52,-80.19\"/>\n</g>\n<!-- 37 -->\n<g id=\"node38\" class=\"node\">\n<title>37</title>\n<path fill=\"#e88f4f\" stroke=\"black\" d=\"M2261.5,-187C2261.5,-187 2163.5,-187 2163.5,-187 2157.5,-187 2151.5,-181 2151.5,-175 2151.5,-175 2151.5,-116 2151.5,-116 2151.5,-110 2157.5,-104 2163.5,-104 2163.5,-104 2261.5,-104 2261.5,-104 2267.5,-104 2273.5,-110 2273.5,-116 2273.5,-116 2273.5,-175 2273.5,-175 2273.5,-181 2267.5,-187 2261.5,-187\"/>\n<text text-anchor=\"middle\" x=\"2212.5\" y=\"-171.8\" font-family=\"Helvetica,sans-Serif\" font-size=\"14.00\">당도 &lt;= 2.65</text>\n<text text-anchor=\"middle\" x=\"2212.5\" y=\"-156.8\" font-family=\"Helvetica,sans-Serif\" font-size=\"14.00\">gini = 0.177</text>\n<text text-anchor=\"middle\" x=\"2212.5\" y=\"-141.8\" font-family=\"Helvetica,sans-Serif\" font-size=\"14.00\">samples = 285</text>\n<text text-anchor=\"middle\" x=\"2212.5\" y=\"-126.8\" font-family=\"Helvetica,sans-Serif\" font-size=\"14.00\">value = [257, 28]</text>\n<text text-anchor=\"middle\" x=\"2212.5\" y=\"-111.8\" font-family=\"Helvetica,sans-Serif\" font-size=\"14.00\">class = 0</text>\n</g>\n<!-- 36&#45;&gt;37 -->\n<g id=\"edge37\" class=\"edge\">\n<title>36&#45;&gt;37</title>\n<path fill=\"none\" stroke=\"black\" d=\"M2258.02,-222.58C2253.09,-214.34 2247.85,-205.58 2242.75,-197.06\"/>\n<polygon fill=\"black\" stroke=\"black\" points=\"2245.77,-195.28 2237.63,-188.5 2239.76,-198.88 2245.77,-195.28\"/>\n</g>\n<!-- 40 -->\n<g id=\"node41\" class=\"node\">\n<title>40</title>\n<path fill=\"#efb286\" stroke=\"black\" d=\"M2401.5,-187C2401.5,-187 2303.5,-187 2303.5,-187 2297.5,-187 2291.5,-181 2291.5,-175 2291.5,-175 2291.5,-116 2291.5,-116 2291.5,-110 2297.5,-104 2303.5,-104 2303.5,-104 2401.5,-104 2401.5,-104 2407.5,-104 2413.5,-110 2413.5,-116 2413.5,-116 2413.5,-175 2413.5,-175 2413.5,-181 2407.5,-187 2401.5,-187\"/>\n<text text-anchor=\"middle\" x=\"2352.5\" y=\"-171.8\" font-family=\"Helvetica,sans-Serif\" font-size=\"14.00\">산도 &lt;= 3.285</text>\n<text text-anchor=\"middle\" x=\"2352.5\" y=\"-156.8\" font-family=\"Helvetica,sans-Serif\" font-size=\"14.00\">gini = 0.402</text>\n<text text-anchor=\"middle\" x=\"2352.5\" y=\"-141.8\" font-family=\"Helvetica,sans-Serif\" font-size=\"14.00\">samples = 312</text>\n<text text-anchor=\"middle\" x=\"2352.5\" y=\"-126.8\" font-family=\"Helvetica,sans-Serif\" font-size=\"14.00\">value = [225, 87]</text>\n<text text-anchor=\"middle\" x=\"2352.5\" y=\"-111.8\" font-family=\"Helvetica,sans-Serif\" font-size=\"14.00\">class = 0</text>\n</g>\n<!-- 36&#45;&gt;40 -->\n<g id=\"edge40\" class=\"edge\">\n<title>36&#45;&gt;40</title>\n<path fill=\"none\" stroke=\"black\" d=\"M2306.98,-222.58C2311.91,-214.34 2317.15,-205.58 2322.25,-197.06\"/>\n<polygon fill=\"black\" stroke=\"black\" points=\"2325.24,-198.88 2327.37,-188.5 2319.23,-195.28 2325.24,-198.88\"/>\n</g>\n<!-- 38 -->\n<g id=\"node39\" class=\"node\">\n<title>38</title>\n<path fill=\"#e78946\" stroke=\"black\" d=\"M2130.5,-68C2130.5,-68 2032.5,-68 2032.5,-68 2026.5,-68 2020.5,-62 2020.5,-56 2020.5,-56 2020.5,-12 2020.5,-12 2020.5,-6 2026.5,0 2032.5,0 2032.5,0 2130.5,0 2130.5,0 2136.5,0 2142.5,-6 2142.5,-12 2142.5,-12 2142.5,-56 2142.5,-56 2142.5,-62 2136.5,-68 2130.5,-68\"/>\n<text text-anchor=\"middle\" x=\"2081.5\" y=\"-52.8\" font-family=\"Helvetica,sans-Serif\" font-size=\"14.00\">gini = 0.112</text>\n<text text-anchor=\"middle\" x=\"2081.5\" y=\"-37.8\" font-family=\"Helvetica,sans-Serif\" font-size=\"14.00\">samples = 235</text>\n<text text-anchor=\"middle\" x=\"2081.5\" y=\"-22.8\" font-family=\"Helvetica,sans-Serif\" font-size=\"14.00\">value = [221, 14]</text>\n<text text-anchor=\"middle\" x=\"2081.5\" y=\"-7.8\" font-family=\"Helvetica,sans-Serif\" font-size=\"14.00\">class = 0</text>\n</g>\n<!-- 37&#45;&gt;38 -->\n<g id=\"edge38\" class=\"edge\">\n<title>37&#45;&gt;38</title>\n<path fill=\"none\" stroke=\"black\" d=\"M2163.72,-103.73C2152.7,-94.51 2141,-84.74 2129.99,-75.53\"/>\n<polygon fill=\"black\" stroke=\"black\" points=\"2132.42,-73 2122.5,-69.27 2127.93,-78.37 2132.42,-73\"/>\n</g>\n<!-- 39 -->\n<g id=\"node40\" class=\"node\">\n<title>39</title>\n<path fill=\"#efb286\" stroke=\"black\" d=\"M2262,-68C2262,-68 2173,-68 2173,-68 2167,-68 2161,-62 2161,-56 2161,-56 2161,-12 2161,-12 2161,-6 2167,0 2173,0 2173,0 2262,0 2262,0 2268,0 2274,-6 2274,-12 2274,-12 2274,-56 2274,-56 2274,-62 2268,-68 2262,-68\"/>\n<text text-anchor=\"middle\" x=\"2217.5\" y=\"-52.8\" font-family=\"Helvetica,sans-Serif\" font-size=\"14.00\">gini = 0.403</text>\n<text text-anchor=\"middle\" x=\"2217.5\" y=\"-37.8\" font-family=\"Helvetica,sans-Serif\" font-size=\"14.00\">samples = 50</text>\n<text text-anchor=\"middle\" x=\"2217.5\" y=\"-22.8\" font-family=\"Helvetica,sans-Serif\" font-size=\"14.00\">value = [36, 14]</text>\n<text text-anchor=\"middle\" x=\"2217.5\" y=\"-7.8\" font-family=\"Helvetica,sans-Serif\" font-size=\"14.00\">class = 0</text>\n</g>\n<!-- 37&#45;&gt;39 -->\n<g id=\"edge39\" class=\"edge\">\n<title>37&#45;&gt;39</title>\n<path fill=\"none\" stroke=\"black\" d=\"M2214.36,-103.73C2214.72,-95.88 2215.1,-87.63 2215.46,-79.67\"/>\n<polygon fill=\"black\" stroke=\"black\" points=\"2218.95,-79.96 2215.91,-69.81 2211.96,-79.64 2218.95,-79.96\"/>\n</g>\n<!-- 41 -->\n<g id=\"node42\" class=\"node\">\n<title>41</title>\n<path fill=\"#fefaf8\" stroke=\"black\" d=\"M2393,-68C2393,-68 2304,-68 2304,-68 2298,-68 2292,-62 2292,-56 2292,-56 2292,-12 2292,-12 2292,-6 2298,0 2304,0 2304,0 2393,0 2393,0 2399,0 2405,-6 2405,-12 2405,-12 2405,-56 2405,-56 2405,-62 2399,-68 2393,-68\"/>\n<text text-anchor=\"middle\" x=\"2348.5\" y=\"-52.8\" font-family=\"Helvetica,sans-Serif\" font-size=\"14.00\">gini = 0.5</text>\n<text text-anchor=\"middle\" x=\"2348.5\" y=\"-37.8\" font-family=\"Helvetica,sans-Serif\" font-size=\"14.00\">samples = 53</text>\n<text text-anchor=\"middle\" x=\"2348.5\" y=\"-22.8\" font-family=\"Helvetica,sans-Serif\" font-size=\"14.00\">value = [27, 26]</text>\n<text text-anchor=\"middle\" x=\"2348.5\" y=\"-7.8\" font-family=\"Helvetica,sans-Serif\" font-size=\"14.00\">class = 0</text>\n</g>\n<!-- 40&#45;&gt;41 -->\n<g id=\"edge41\" class=\"edge\">\n<title>40&#45;&gt;41</title>\n<path fill=\"none\" stroke=\"black\" d=\"M2351.01,-103.73C2350.72,-95.88 2350.42,-87.63 2350.13,-79.67\"/>\n<polygon fill=\"black\" stroke=\"black\" points=\"2353.63,-79.68 2349.77,-69.81 2346.64,-79.93 2353.63,-79.68\"/>\n</g>\n<!-- 42 -->\n<g id=\"node43\" class=\"node\">\n<title>42</title>\n<path fill=\"#eda876\" stroke=\"black\" d=\"M2533.5,-68C2533.5,-68 2435.5,-68 2435.5,-68 2429.5,-68 2423.5,-62 2423.5,-56 2423.5,-56 2423.5,-12 2423.5,-12 2423.5,-6 2429.5,0 2435.5,0 2435.5,0 2533.5,0 2533.5,0 2539.5,0 2545.5,-6 2545.5,-12 2545.5,-12 2545.5,-56 2545.5,-56 2545.5,-62 2539.5,-68 2533.5,-68\"/>\n<text text-anchor=\"middle\" x=\"2484.5\" y=\"-52.8\" font-family=\"Helvetica,sans-Serif\" font-size=\"14.00\">gini = 0.36</text>\n<text text-anchor=\"middle\" x=\"2484.5\" y=\"-37.8\" font-family=\"Helvetica,sans-Serif\" font-size=\"14.00\">samples = 259</text>\n<text text-anchor=\"middle\" x=\"2484.5\" y=\"-22.8\" font-family=\"Helvetica,sans-Serif\" font-size=\"14.00\">value = [198, 61]</text>\n<text text-anchor=\"middle\" x=\"2484.5\" y=\"-7.8\" font-family=\"Helvetica,sans-Serif\" font-size=\"14.00\">class = 0</text>\n</g>\n<!-- 40&#45;&gt;42 -->\n<g id=\"edge42\" class=\"edge\">\n<title>40&#45;&gt;42</title>\n<path fill=\"none\" stroke=\"black\" d=\"M2401.65,-103.73C2412.76,-94.51 2424.54,-84.74 2435.64,-75.53\"/>\n<polygon fill=\"black\" stroke=\"black\" points=\"2437.73,-78.34 2443.19,-69.27 2433.26,-72.96 2437.73,-78.34\"/>\n</g>\n<!-- 44 -->\n<g id=\"node45\" class=\"node\">\n<title>44</title>\n<path fill=\"#77bced\" stroke=\"black\" d=\"M2857.5,-306C2857.5,-306 2759.5,-306 2759.5,-306 2753.5,-306 2747.5,-300 2747.5,-294 2747.5,-294 2747.5,-235 2747.5,-235 2747.5,-229 2753.5,-223 2759.5,-223 2759.5,-223 2857.5,-223 2857.5,-223 2863.5,-223 2869.5,-229 2869.5,-235 2869.5,-235 2869.5,-294 2869.5,-294 2869.5,-300 2863.5,-306 2857.5,-306\"/>\n<text text-anchor=\"middle\" x=\"2808.5\" y=\"-290.8\" font-family=\"Helvetica,sans-Serif\" font-size=\"14.00\">산도 &lt;= 3.115</text>\n<text text-anchor=\"middle\" x=\"2808.5\" y=\"-275.8\" font-family=\"Helvetica,sans-Serif\" font-size=\"14.00\">gini = 0.363</text>\n<text text-anchor=\"middle\" x=\"2808.5\" y=\"-260.8\" font-family=\"Helvetica,sans-Serif\" font-size=\"14.00\">samples = 407</text>\n<text text-anchor=\"middle\" x=\"2808.5\" y=\"-245.8\" font-family=\"Helvetica,sans-Serif\" font-size=\"14.00\">value = [97, 310]</text>\n<text text-anchor=\"middle\" x=\"2808.5\" y=\"-230.8\" font-family=\"Helvetica,sans-Serif\" font-size=\"14.00\">class = 1</text>\n</g>\n<!-- 43&#45;&gt;44 -->\n<g id=\"edge44\" class=\"edge\">\n<title>43&#45;&gt;44</title>\n<path fill=\"none\" stroke=\"black\" d=\"M2808.5,-341.58C2808.5,-333.79 2808.5,-325.53 2808.5,-317.45\"/>\n<polygon fill=\"black\" stroke=\"black\" points=\"2812,-317.71 2808.5,-307.71 2805,-317.71 2812,-317.71\"/>\n</g>\n<!-- 51 -->\n<g id=\"node52\" class=\"node\">\n<title>51</title>\n<path fill=\"#f2bf9b\" stroke=\"black\" d=\"M3254.5,-306C3254.5,-306 3156.5,-306 3156.5,-306 3150.5,-306 3144.5,-300 3144.5,-294 3144.5,-294 3144.5,-235 3144.5,-235 3144.5,-229 3150.5,-223 3156.5,-223 3156.5,-223 3254.5,-223 3254.5,-223 3260.5,-223 3266.5,-229 3266.5,-235 3266.5,-235 3266.5,-294 3266.5,-294 3266.5,-300 3260.5,-306 3254.5,-306\"/>\n<text text-anchor=\"middle\" x=\"3205.5\" y=\"-290.8\" font-family=\"Helvetica,sans-Serif\" font-size=\"14.00\">당도 &lt;= 3.05</text>\n<text text-anchor=\"middle\" x=\"3205.5\" y=\"-275.8\" font-family=\"Helvetica,sans-Serif\" font-size=\"14.00\">gini = 0.443</text>\n<text text-anchor=\"middle\" x=\"3205.5\" y=\"-260.8\" font-family=\"Helvetica,sans-Serif\" font-size=\"14.00\">samples = 184</text>\n<text text-anchor=\"middle\" x=\"3205.5\" y=\"-245.8\" font-family=\"Helvetica,sans-Serif\" font-size=\"14.00\">value = [123, 61]</text>\n<text text-anchor=\"middle\" x=\"3205.5\" y=\"-230.8\" font-family=\"Helvetica,sans-Serif\" font-size=\"14.00\">class = 0</text>\n</g>\n<!-- 43&#45;&gt;51 -->\n<g id=\"edge51\" class=\"edge\">\n<title>43&#45;&gt;51</title>\n<path fill=\"none\" stroke=\"black\" d=\"M2873.61,-363.31C2945.11,-342.24 3059.57,-308.51 3133.64,-286.68\"/>\n<polygon fill=\"black\" stroke=\"black\" points=\"3134.21,-290.16 3142.82,-283.97 3132.24,-283.44 3134.21,-290.16\"/>\n</g>\n<!-- 45 -->\n<g id=\"node46\" class=\"node\">\n<title>45</title>\n<path fill=\"#4aa5e7\" stroke=\"black\" d=\"M2787.5,-187C2787.5,-187 2689.5,-187 2689.5,-187 2683.5,-187 2677.5,-181 2677.5,-175 2677.5,-175 2677.5,-116 2677.5,-116 2677.5,-110 2683.5,-104 2689.5,-104 2689.5,-104 2787.5,-104 2787.5,-104 2793.5,-104 2799.5,-110 2799.5,-116 2799.5,-116 2799.5,-175 2799.5,-175 2799.5,-181 2793.5,-187 2787.5,-187\"/>\n<text text-anchor=\"middle\" x=\"2738.5\" y=\"-171.8\" font-family=\"Helvetica,sans-Serif\" font-size=\"14.00\">당도 &lt;= 2.05</text>\n<text text-anchor=\"middle\" x=\"2738.5\" y=\"-156.8\" font-family=\"Helvetica,sans-Serif\" font-size=\"14.00\">gini = 0.146</text>\n<text text-anchor=\"middle\" x=\"2738.5\" y=\"-141.8\" font-family=\"Helvetica,sans-Serif\" font-size=\"14.00\">samples = 126</text>\n<text text-anchor=\"middle\" x=\"2738.5\" y=\"-126.8\" font-family=\"Helvetica,sans-Serif\" font-size=\"14.00\">value = [10, 116]</text>\n<text text-anchor=\"middle\" x=\"2738.5\" y=\"-111.8\" font-family=\"Helvetica,sans-Serif\" font-size=\"14.00\">class = 1</text>\n</g>\n<!-- 44&#45;&gt;45 -->\n<g id=\"edge45\" class=\"edge\">\n<title>44&#45;&gt;45</title>\n<path fill=\"none\" stroke=\"black\" d=\"M2784.02,-222.58C2779.09,-214.34 2773.85,-205.58 2768.75,-197.06\"/>\n<polygon fill=\"black\" stroke=\"black\" points=\"2771.77,-195.28 2763.63,-188.5 2765.76,-198.88 2771.77,-195.28\"/>\n</g>\n<!-- 48 -->\n<g id=\"node49\" class=\"node\">\n<title>48</title>\n<path fill=\"#92c9f1\" stroke=\"black\" d=\"M2927.5,-187C2927.5,-187 2829.5,-187 2829.5,-187 2823.5,-187 2817.5,-181 2817.5,-175 2817.5,-175 2817.5,-116 2817.5,-116 2817.5,-110 2823.5,-104 2829.5,-104 2829.5,-104 2927.5,-104 2927.5,-104 2933.5,-104 2939.5,-110 2939.5,-116 2939.5,-116 2939.5,-175 2939.5,-175 2939.5,-181 2933.5,-187 2927.5,-187\"/>\n<text text-anchor=\"middle\" x=\"2878.5\" y=\"-171.8\" font-family=\"Helvetica,sans-Serif\" font-size=\"14.00\">도수 &lt;= 12.15</text>\n<text text-anchor=\"middle\" x=\"2878.5\" y=\"-156.8\" font-family=\"Helvetica,sans-Serif\" font-size=\"14.00\">gini = 0.428</text>\n<text text-anchor=\"middle\" x=\"2878.5\" y=\"-141.8\" font-family=\"Helvetica,sans-Serif\" font-size=\"14.00\">samples = 281</text>\n<text text-anchor=\"middle\" x=\"2878.5\" y=\"-126.8\" font-family=\"Helvetica,sans-Serif\" font-size=\"14.00\">value = [87, 194]</text>\n<text text-anchor=\"middle\" x=\"2878.5\" y=\"-111.8\" font-family=\"Helvetica,sans-Serif\" font-size=\"14.00\">class = 1</text>\n</g>\n<!-- 44&#45;&gt;48 -->\n<g id=\"edge48\" class=\"edge\">\n<title>44&#45;&gt;48</title>\n<path fill=\"none\" stroke=\"black\" d=\"M2832.98,-222.58C2837.91,-214.34 2843.15,-205.58 2848.25,-197.06\"/>\n<polygon fill=\"black\" stroke=\"black\" points=\"2851.24,-198.88 2853.37,-188.5 2845.23,-195.28 2851.24,-198.88\"/>\n</g>\n<!-- 46 -->\n<g id=\"node47\" class=\"node\">\n<title>46</title>\n<path fill=\"#399de5\" stroke=\"black\" d=\"M2657,-68C2657,-68 2576,-68 2576,-68 2570,-68 2564,-62 2564,-56 2564,-56 2564,-12 2564,-12 2564,-6 2570,0 2576,0 2576,0 2657,0 2657,0 2663,0 2669,-6 2669,-12 2669,-12 2669,-56 2669,-56 2669,-62 2663,-68 2657,-68\"/>\n<text text-anchor=\"middle\" x=\"2616.5\" y=\"-52.8\" font-family=\"Helvetica,sans-Serif\" font-size=\"14.00\">gini = 0.0</text>\n<text text-anchor=\"middle\" x=\"2616.5\" y=\"-37.8\" font-family=\"Helvetica,sans-Serif\" font-size=\"14.00\">samples = 34</text>\n<text text-anchor=\"middle\" x=\"2616.5\" y=\"-22.8\" font-family=\"Helvetica,sans-Serif\" font-size=\"14.00\">value = [0, 34]</text>\n<text text-anchor=\"middle\" x=\"2616.5\" y=\"-7.8\" font-family=\"Helvetica,sans-Serif\" font-size=\"14.00\">class = 1</text>\n</g>\n<!-- 45&#45;&gt;46 -->\n<g id=\"edge46\" class=\"edge\">\n<title>45&#45;&gt;46</title>\n<path fill=\"none\" stroke=\"black\" d=\"M2693.07,-103.73C2682.91,-94.61 2672.13,-84.93 2661.97,-75.81\"/>\n<polygon fill=\"black\" stroke=\"black\" points=\"2664.51,-73.39 2654.73,-69.31 2659.83,-78.59 2664.51,-73.39\"/>\n</g>\n<!-- 47 -->\n<g id=\"node48\" class=\"node\">\n<title>47</title>\n<path fill=\"#51a9e8\" stroke=\"black\" d=\"M2788,-68C2788,-68 2699,-68 2699,-68 2693,-68 2687,-62 2687,-56 2687,-56 2687,-12 2687,-12 2687,-6 2693,0 2699,0 2699,0 2788,0 2788,0 2794,0 2800,-6 2800,-12 2800,-12 2800,-56 2800,-56 2800,-62 2794,-68 2788,-68\"/>\n<text text-anchor=\"middle\" x=\"2743.5\" y=\"-52.8\" font-family=\"Helvetica,sans-Serif\" font-size=\"14.00\">gini = 0.194</text>\n<text text-anchor=\"middle\" x=\"2743.5\" y=\"-37.8\" font-family=\"Helvetica,sans-Serif\" font-size=\"14.00\">samples = 92</text>\n<text text-anchor=\"middle\" x=\"2743.5\" y=\"-22.8\" font-family=\"Helvetica,sans-Serif\" font-size=\"14.00\">value = [10, 82]</text>\n<text text-anchor=\"middle\" x=\"2743.5\" y=\"-7.8\" font-family=\"Helvetica,sans-Serif\" font-size=\"14.00\">class = 1</text>\n</g>\n<!-- 45&#45;&gt;47 -->\n<g id=\"edge47\" class=\"edge\">\n<title>45&#45;&gt;47</title>\n<path fill=\"none\" stroke=\"black\" d=\"M2740.36,-103.73C2740.72,-95.88 2741.1,-87.63 2741.46,-79.67\"/>\n<polygon fill=\"black\" stroke=\"black\" points=\"2744.95,-79.96 2741.91,-69.81 2737.96,-79.64 2744.95,-79.96\"/>\n</g>\n<!-- 49 -->\n<g id=\"node50\" class=\"node\">\n<title>49</title>\n<path fill=\"#cfe7f9\" stroke=\"black\" d=\"M2919,-68C2919,-68 2830,-68 2830,-68 2824,-68 2818,-62 2818,-56 2818,-56 2818,-12 2818,-12 2818,-6 2824,0 2830,0 2830,0 2919,0 2919,0 2925,0 2931,-6 2931,-12 2931,-12 2931,-56 2931,-56 2931,-62 2925,-68 2919,-68\"/>\n<text text-anchor=\"middle\" x=\"2874.5\" y=\"-52.8\" font-family=\"Helvetica,sans-Serif\" font-size=\"14.00\">gini = 0.49</text>\n<text text-anchor=\"middle\" x=\"2874.5\" y=\"-37.8\" font-family=\"Helvetica,sans-Serif\" font-size=\"14.00\">samples = 151</text>\n<text text-anchor=\"middle\" x=\"2874.5\" y=\"-22.8\" font-family=\"Helvetica,sans-Serif\" font-size=\"14.00\">value = [65, 86]</text>\n<text text-anchor=\"middle\" x=\"2874.5\" y=\"-7.8\" font-family=\"Helvetica,sans-Serif\" font-size=\"14.00\">class = 1</text>\n</g>\n<!-- 48&#45;&gt;49 -->\n<g id=\"edge49\" class=\"edge\">\n<title>48&#45;&gt;49</title>\n<path fill=\"none\" stroke=\"black\" d=\"M2877.01,-103.73C2876.72,-95.88 2876.42,-87.63 2876.13,-79.67\"/>\n<polygon fill=\"black\" stroke=\"black\" points=\"2879.63,-79.68 2875.77,-69.81 2872.64,-79.93 2879.63,-79.68\"/>\n</g>\n<!-- 50 -->\n<g id=\"node51\" class=\"node\">\n<title>50</title>\n<path fill=\"#61b1ea\" stroke=\"black\" d=\"M3059.5,-68C3059.5,-68 2961.5,-68 2961.5,-68 2955.5,-68 2949.5,-62 2949.5,-56 2949.5,-56 2949.5,-12 2949.5,-12 2949.5,-6 2955.5,0 2961.5,0 2961.5,0 3059.5,0 3059.5,0 3065.5,0 3071.5,-6 3071.5,-12 3071.5,-12 3071.5,-56 3071.5,-56 3071.5,-62 3065.5,-68 3059.5,-68\"/>\n<text text-anchor=\"middle\" x=\"3010.5\" y=\"-52.8\" font-family=\"Helvetica,sans-Serif\" font-size=\"14.00\">gini = 0.281</text>\n<text text-anchor=\"middle\" x=\"3010.5\" y=\"-37.8\" font-family=\"Helvetica,sans-Serif\" font-size=\"14.00\">samples = 130</text>\n<text text-anchor=\"middle\" x=\"3010.5\" y=\"-22.8\" font-family=\"Helvetica,sans-Serif\" font-size=\"14.00\">value = [22, 108]</text>\n<text text-anchor=\"middle\" x=\"3010.5\" y=\"-7.8\" font-family=\"Helvetica,sans-Serif\" font-size=\"14.00\">class = 1</text>\n</g>\n<!-- 48&#45;&gt;50 -->\n<g id=\"edge50\" class=\"edge\">\n<title>48&#45;&gt;50</title>\n<path fill=\"none\" stroke=\"black\" d=\"M2927.65,-103.73C2938.76,-94.51 2950.54,-84.74 2961.64,-75.53\"/>\n<polygon fill=\"black\" stroke=\"black\" points=\"2963.73,-78.34 2969.19,-69.27 2959.26,-72.96 2963.73,-78.34\"/>\n</g>\n<!-- 52 -->\n<g id=\"node53\" class=\"node\">\n<title>52</title>\n<path fill=\"#efb286\" stroke=\"black\" d=\"M3254.5,-187C3254.5,-187 3156.5,-187 3156.5,-187 3150.5,-187 3144.5,-181 3144.5,-175 3144.5,-175 3144.5,-116 3144.5,-116 3144.5,-110 3150.5,-104 3156.5,-104 3156.5,-104 3254.5,-104 3254.5,-104 3260.5,-104 3266.5,-110 3266.5,-116 3266.5,-116 3266.5,-175 3266.5,-175 3266.5,-181 3260.5,-187 3254.5,-187\"/>\n<text text-anchor=\"middle\" x=\"3205.5\" y=\"-171.8\" font-family=\"Helvetica,sans-Serif\" font-size=\"14.00\">도수 &lt;= 11.95</text>\n<text text-anchor=\"middle\" x=\"3205.5\" y=\"-156.8\" font-family=\"Helvetica,sans-Serif\" font-size=\"14.00\">gini = 0.404</text>\n<text text-anchor=\"middle\" x=\"3205.5\" y=\"-141.8\" font-family=\"Helvetica,sans-Serif\" font-size=\"14.00\">samples = 160</text>\n<text text-anchor=\"middle\" x=\"3205.5\" y=\"-126.8\" font-family=\"Helvetica,sans-Serif\" font-size=\"14.00\">value = [115, 45]</text>\n<text text-anchor=\"middle\" x=\"3205.5\" y=\"-111.8\" font-family=\"Helvetica,sans-Serif\" font-size=\"14.00\">class = 0</text>\n</g>\n<!-- 51&#45;&gt;52 -->\n<g id=\"edge52\" class=\"edge\">\n<title>51&#45;&gt;52</title>\n<path fill=\"none\" stroke=\"black\" d=\"M3205.5,-222.58C3205.5,-214.79 3205.5,-206.53 3205.5,-198.45\"/>\n<polygon fill=\"black\" stroke=\"black\" points=\"3209,-198.71 3205.5,-188.71 3202,-198.71 3209,-198.71\"/>\n</g>\n<!-- 55 -->\n<g id=\"node56\" class=\"node\">\n<title>55</title>\n<path fill=\"#9ccef2\" stroke=\"black\" d=\"M3444.5,-187C3444.5,-187 3356.5,-187 3356.5,-187 3350.5,-187 3344.5,-181 3344.5,-175 3344.5,-175 3344.5,-116 3344.5,-116 3344.5,-110 3350.5,-104 3356.5,-104 3356.5,-104 3444.5,-104 3444.5,-104 3450.5,-104 3456.5,-110 3456.5,-116 3456.5,-116 3456.5,-175 3456.5,-175 3456.5,-181 3450.5,-187 3444.5,-187\"/>\n<text text-anchor=\"middle\" x=\"3400.5\" y=\"-171.8\" font-family=\"Helvetica,sans-Serif\" font-size=\"14.00\">도수 &lt;= 11.55</text>\n<text text-anchor=\"middle\" x=\"3400.5\" y=\"-156.8\" font-family=\"Helvetica,sans-Serif\" font-size=\"14.00\">gini = 0.444</text>\n<text text-anchor=\"middle\" x=\"3400.5\" y=\"-141.8\" font-family=\"Helvetica,sans-Serif\" font-size=\"14.00\">samples = 24</text>\n<text text-anchor=\"middle\" x=\"3400.5\" y=\"-126.8\" font-family=\"Helvetica,sans-Serif\" font-size=\"14.00\">value = [8, 16]</text>\n<text text-anchor=\"middle\" x=\"3400.5\" y=\"-111.8\" font-family=\"Helvetica,sans-Serif\" font-size=\"14.00\">class = 1</text>\n</g>\n<!-- 51&#45;&gt;55 -->\n<g id=\"edge55\" class=\"edge\">\n<title>51&#45;&gt;55</title>\n<path fill=\"none\" stroke=\"black\" d=\"M3266.93,-226.64C3288.33,-213.8 3312.42,-199.35 3334.19,-186.28\"/>\n<polygon fill=\"black\" stroke=\"black\" points=\"3335.94,-189.32 3342.72,-181.17 3332.34,-183.31 3335.94,-189.32\"/>\n</g>\n<!-- 53 -->\n<g id=\"node54\" class=\"node\">\n<title>53</title>\n<path fill=\"#ea975c\" stroke=\"black\" d=\"M3191,-68C3191,-68 3102,-68 3102,-68 3096,-68 3090,-62 3090,-56 3090,-56 3090,-12 3090,-12 3090,-6 3096,0 3102,0 3102,0 3191,0 3191,0 3197,0 3203,-6 3203,-12 3203,-12 3203,-56 3203,-56 3203,-62 3197,-68 3191,-68\"/>\n<text text-anchor=\"middle\" x=\"3146.5\" y=\"-52.8\" font-family=\"Helvetica,sans-Serif\" font-size=\"14.00\">gini = 0.257</text>\n<text text-anchor=\"middle\" x=\"3146.5\" y=\"-37.8\" font-family=\"Helvetica,sans-Serif\" font-size=\"14.00\">samples = 86</text>\n<text text-anchor=\"middle\" x=\"3146.5\" y=\"-22.8\" font-family=\"Helvetica,sans-Serif\" font-size=\"14.00\">value = [73, 13]</text>\n<text text-anchor=\"middle\" x=\"3146.5\" y=\"-7.8\" font-family=\"Helvetica,sans-Serif\" font-size=\"14.00\">class = 0</text>\n</g>\n<!-- 52&#45;&gt;53 -->\n<g id=\"edge53\" class=\"edge\">\n<title>52&#45;&gt;53</title>\n<path fill=\"none\" stroke=\"black\" d=\"M3183.53,-103.73C3179.06,-95.43 3174.34,-86.67 3169.82,-78.28\"/>\n<polygon fill=\"black\" stroke=\"black\" points=\"3172.98,-76.78 3165.16,-69.63 3166.82,-80.1 3172.98,-76.78\"/>\n</g>\n<!-- 54 -->\n<g id=\"node55\" class=\"node\">\n<title>54</title>\n<path fill=\"#f9e1d0\" stroke=\"black\" d=\"M3322,-68C3322,-68 3233,-68 3233,-68 3227,-68 3221,-62 3221,-56 3221,-56 3221,-12 3221,-12 3221,-6 3227,0 3233,0 3233,0 3322,0 3322,0 3328,0 3334,-6 3334,-12 3334,-12 3334,-56 3334,-56 3334,-62 3328,-68 3322,-68\"/>\n<text text-anchor=\"middle\" x=\"3277.5\" y=\"-52.8\" font-family=\"Helvetica,sans-Serif\" font-size=\"14.00\">gini = 0.491</text>\n<text text-anchor=\"middle\" x=\"3277.5\" y=\"-37.8\" font-family=\"Helvetica,sans-Serif\" font-size=\"14.00\">samples = 74</text>\n<text text-anchor=\"middle\" x=\"3277.5\" y=\"-22.8\" font-family=\"Helvetica,sans-Serif\" font-size=\"14.00\">value = [42, 32]</text>\n<text text-anchor=\"middle\" x=\"3277.5\" y=\"-7.8\" font-family=\"Helvetica,sans-Serif\" font-size=\"14.00\">class = 0</text>\n</g>\n<!-- 52&#45;&gt;54 -->\n<g id=\"edge54\" class=\"edge\">\n<title>52&#45;&gt;54</title>\n<path fill=\"none\" stroke=\"black\" d=\"M3232.31,-103.73C3237.89,-95.24 3243.78,-86.28 3249.4,-77.73\"/>\n<polygon fill=\"black\" stroke=\"black\" points=\"3252.2,-79.84 3254.77,-69.56 3246.35,-76 3252.2,-79.84\"/>\n</g>\n<!-- 56 -->\n<g id=\"node57\" class=\"node\">\n<title>56</title>\n<path fill=\"#fae6d7\" stroke=\"black\" d=\"M3437,-68C3437,-68 3364,-68 3364,-68 3358,-68 3352,-62 3352,-56 3352,-56 3352,-12 3352,-12 3352,-6 3358,0 3364,0 3364,0 3437,0 3437,0 3443,0 3449,-6 3449,-12 3449,-12 3449,-56 3449,-56 3449,-62 3443,-68 3437,-68\"/>\n<text text-anchor=\"middle\" x=\"3400.5\" y=\"-52.8\" font-family=\"Helvetica,sans-Serif\" font-size=\"14.00\">gini = 0.494</text>\n<text text-anchor=\"middle\" x=\"3400.5\" y=\"-37.8\" font-family=\"Helvetica,sans-Serif\" font-size=\"14.00\">samples = 9</text>\n<text text-anchor=\"middle\" x=\"3400.5\" y=\"-22.8\" font-family=\"Helvetica,sans-Serif\" font-size=\"14.00\">value = [5, 4]</text>\n<text text-anchor=\"middle\" x=\"3400.5\" y=\"-7.8\" font-family=\"Helvetica,sans-Serif\" font-size=\"14.00\">class = 0</text>\n</g>\n<!-- 55&#45;&gt;56 -->\n<g id=\"edge56\" class=\"edge\">\n<title>55&#45;&gt;56</title>\n<path fill=\"none\" stroke=\"black\" d=\"M3400.5,-103.73C3400.5,-95.88 3400.5,-87.63 3400.5,-79.67\"/>\n<polygon fill=\"black\" stroke=\"black\" points=\"3404,-79.81 3400.5,-69.81 3397,-79.81 3404,-79.81\"/>\n</g>\n<!-- 57 -->\n<g id=\"node58\" class=\"node\">\n<title>57</title>\n<path fill=\"#6ab6ec\" stroke=\"black\" d=\"M3560,-68C3560,-68 3479,-68 3479,-68 3473,-68 3467,-62 3467,-56 3467,-56 3467,-12 3467,-12 3467,-6 3473,0 3479,0 3479,0 3560,0 3560,0 3566,0 3572,-6 3572,-12 3572,-12 3572,-56 3572,-56 3572,-62 3566,-68 3560,-68\"/>\n<text text-anchor=\"middle\" x=\"3519.5\" y=\"-52.8\" font-family=\"Helvetica,sans-Serif\" font-size=\"14.00\">gini = 0.32</text>\n<text text-anchor=\"middle\" x=\"3519.5\" y=\"-37.8\" font-family=\"Helvetica,sans-Serif\" font-size=\"14.00\">samples = 15</text>\n<text text-anchor=\"middle\" x=\"3519.5\" y=\"-22.8\" font-family=\"Helvetica,sans-Serif\" font-size=\"14.00\">value = [3, 12]</text>\n<text text-anchor=\"middle\" x=\"3519.5\" y=\"-7.8\" font-family=\"Helvetica,sans-Serif\" font-size=\"14.00\">class = 1</text>\n</g>\n<!-- 55&#45;&gt;57 -->\n<g id=\"edge57\" class=\"edge\">\n<title>55&#45;&gt;57</title>\n<path fill=\"none\" stroke=\"black\" d=\"M3444.81,-103.73C3454.62,-94.7 3465.03,-85.12 3474.85,-76.08\"/>\n<polygon fill=\"black\" stroke=\"black\" points=\"3477.21,-78.67 3482.2,-69.32 3472.47,-73.52 3477.21,-78.67\"/>\n</g>\n<!-- 59 -->\n<g id=\"node60\" class=\"node\">\n<title>59</title>\n<path fill=\"#53aae8\" stroke=\"black\" d=\"M4541.5,-544C4541.5,-544 4443.5,-544 4443.5,-544 4437.5,-544 4431.5,-538 4431.5,-532 4431.5,-532 4431.5,-473 4431.5,-473 4431.5,-467 4437.5,-461 4443.5,-461 4443.5,-461 4541.5,-461 4541.5,-461 4547.5,-461 4553.5,-467 4553.5,-473 4553.5,-473 4553.5,-532 4553.5,-532 4553.5,-538 4547.5,-544 4541.5,-544\"/>\n<text text-anchor=\"middle\" x=\"4492.5\" y=\"-528.8\" font-family=\"Helvetica,sans-Serif\" font-size=\"14.00\">산도 &lt;= 3.265</text>\n<text text-anchor=\"middle\" x=\"4492.5\" y=\"-513.8\" font-family=\"Helvetica,sans-Serif\" font-size=\"14.00\">gini = 0.204</text>\n<text text-anchor=\"middle\" x=\"4492.5\" y=\"-498.8\" font-family=\"Helvetica,sans-Serif\" font-size=\"14.00\">samples = 519</text>\n<text text-anchor=\"middle\" x=\"4492.5\" y=\"-483.8\" font-family=\"Helvetica,sans-Serif\" font-size=\"14.00\">value = [60, 459]</text>\n<text text-anchor=\"middle\" x=\"4492.5\" y=\"-468.8\" font-family=\"Helvetica,sans-Serif\" font-size=\"14.00\">class = 1</text>\n</g>\n<!-- 58&#45;&gt;59 -->\n<g id=\"edge59\" class=\"edge\">\n<title>58&#45;&gt;59</title>\n<path fill=\"none\" stroke=\"black\" d=\"M4492.5,-579.58C4492.5,-571.79 4492.5,-563.53 4492.5,-555.45\"/>\n<polygon fill=\"black\" stroke=\"black\" points=\"4496,-555.71 4492.5,-545.71 4489,-555.71 4496,-555.71\"/>\n</g>\n<!-- 90 -->\n<g id=\"node91\" class=\"node\">\n<title>90</title>\n<path fill=\"#3c9ee5\" stroke=\"black\" d=\"M6089.5,-544C6089.5,-544 5983.5,-544 5983.5,-544 5977.5,-544 5971.5,-538 5971.5,-532 5971.5,-532 5971.5,-473 5971.5,-473 5971.5,-467 5977.5,-461 5983.5,-461 5983.5,-461 6089.5,-461 6089.5,-461 6095.5,-461 6101.5,-467 6101.5,-473 6101.5,-473 6101.5,-532 6101.5,-532 6101.5,-538 6095.5,-544 6089.5,-544\"/>\n<text text-anchor=\"middle\" x=\"6036.5\" y=\"-528.8\" font-family=\"Helvetica,sans-Serif\" font-size=\"14.00\">산도 &lt;= 3.365</text>\n<text text-anchor=\"middle\" x=\"6036.5\" y=\"-513.8\" font-family=\"Helvetica,sans-Serif\" font-size=\"14.00\">gini = 0.028</text>\n<text text-anchor=\"middle\" x=\"6036.5\" y=\"-498.8\" font-family=\"Helvetica,sans-Serif\" font-size=\"14.00\">samples = 1523</text>\n<text text-anchor=\"middle\" x=\"6036.5\" y=\"-483.8\" font-family=\"Helvetica,sans-Serif\" font-size=\"14.00\">value = [22, 1501]</text>\n<text text-anchor=\"middle\" x=\"6036.5\" y=\"-468.8\" font-family=\"Helvetica,sans-Serif\" font-size=\"14.00\">class = 1</text>\n</g>\n<!-- 58&#45;&gt;90 -->\n<g id=\"edge90\" class=\"edge\">\n<title>58&#45;&gt;90</title>\n<path fill=\"none\" stroke=\"black\" d=\"M4557.86,-615.55C4806.55,-596.7 5693.23,-529.51 5960.02,-509.3\"/>\n<polygon fill=\"black\" stroke=\"black\" points=\"5959.91,-512.81 5969.62,-508.57 5959.38,-505.83 5959.91,-512.81\"/>\n</g>\n<!-- 60 -->\n<g id=\"node61\" class=\"node\">\n<title>60</title>\n<path fill=\"#46a4e7\" stroke=\"black\" d=\"M4359.5,-425C4359.5,-425 4261.5,-425 4261.5,-425 4255.5,-425 4249.5,-419 4249.5,-413 4249.5,-413 4249.5,-354 4249.5,-354 4249.5,-348 4255.5,-342 4261.5,-342 4261.5,-342 4359.5,-342 4359.5,-342 4365.5,-342 4371.5,-348 4371.5,-354 4371.5,-354 4371.5,-413 4371.5,-413 4371.5,-419 4365.5,-425 4359.5,-425\"/>\n<text text-anchor=\"middle\" x=\"4310.5\" y=\"-409.8\" font-family=\"Helvetica,sans-Serif\" font-size=\"14.00\">당도 &lt;= 4.65</text>\n<text text-anchor=\"middle\" x=\"4310.5\" y=\"-394.8\" font-family=\"Helvetica,sans-Serif\" font-size=\"14.00\">gini = 0.119</text>\n<text text-anchor=\"middle\" x=\"4310.5\" y=\"-379.8\" font-family=\"Helvetica,sans-Serif\" font-size=\"14.00\">samples = 331</text>\n<text text-anchor=\"middle\" x=\"4310.5\" y=\"-364.8\" font-family=\"Helvetica,sans-Serif\" font-size=\"14.00\">value = [21, 310]</text>\n<text text-anchor=\"middle\" x=\"4310.5\" y=\"-349.8\" font-family=\"Helvetica,sans-Serif\" font-size=\"14.00\">class = 1</text>\n</g>\n<!-- 59&#45;&gt;60 -->\n<g id=\"edge60\" class=\"edge\">\n<title>59&#45;&gt;60</title>\n<path fill=\"none\" stroke=\"black\" d=\"M4431.14,-462.05C4415.18,-451.79 4397.85,-440.66 4381.44,-430.11\"/>\n<polygon fill=\"black\" stroke=\"black\" points=\"4383.48,-427.26 4373.18,-424.79 4379.7,-433.15 4383.48,-427.26\"/>\n</g>\n<!-- 75 -->\n<g id=\"node76\" class=\"node\">\n<title>75</title>\n<path fill=\"#6db7ec\" stroke=\"black\" d=\"M4850.5,-425C4850.5,-425 4752.5,-425 4752.5,-425 4746.5,-425 4740.5,-419 4740.5,-413 4740.5,-413 4740.5,-354 4740.5,-354 4740.5,-348 4746.5,-342 4752.5,-342 4752.5,-342 4850.5,-342 4850.5,-342 4856.5,-342 4862.5,-348 4862.5,-354 4862.5,-354 4862.5,-413 4862.5,-413 4862.5,-419 4856.5,-425 4850.5,-425\"/>\n<text text-anchor=\"middle\" x=\"4801.5\" y=\"-409.8\" font-family=\"Helvetica,sans-Serif\" font-size=\"14.00\">도수 &lt;= 10.15</text>\n<text text-anchor=\"middle\" x=\"4801.5\" y=\"-394.8\" font-family=\"Helvetica,sans-Serif\" font-size=\"14.00\">gini = 0.329</text>\n<text text-anchor=\"middle\" x=\"4801.5\" y=\"-379.8\" font-family=\"Helvetica,sans-Serif\" font-size=\"14.00\">samples = 188</text>\n<text text-anchor=\"middle\" x=\"4801.5\" y=\"-364.8\" font-family=\"Helvetica,sans-Serif\" font-size=\"14.00\">value = [39, 149]</text>\n<text text-anchor=\"middle\" x=\"4801.5\" y=\"-349.8\" font-family=\"Helvetica,sans-Serif\" font-size=\"14.00\">class = 1</text>\n</g>\n<!-- 59&#45;&gt;75 -->\n<g id=\"edge75\" class=\"edge\">\n<title>59&#45;&gt;75</title>\n<path fill=\"none\" stroke=\"black\" d=\"M4553.92,-478.24C4604.47,-459.1 4676.21,-431.94 4729.47,-411.77\"/>\n<polygon fill=\"black\" stroke=\"black\" points=\"4730.67,-415.06 4738.78,-408.25 4728.19,-408.52 4730.67,-415.06\"/>\n</g>\n<!-- 61 -->\n<g id=\"node62\" class=\"node\">\n<title>61</title>\n<path fill=\"#56abe9\" stroke=\"black\" d=\"M3989,-306C3989,-306 3900,-306 3900,-306 3894,-306 3888,-300 3888,-294 3888,-294 3888,-235 3888,-235 3888,-229 3894,-223 3900,-223 3900,-223 3989,-223 3989,-223 3995,-223 4001,-229 4001,-235 4001,-235 4001,-294 4001,-294 4001,-300 3995,-306 3989,-306\"/>\n<text text-anchor=\"middle\" x=\"3944.5\" y=\"-290.8\" font-family=\"Helvetica,sans-Serif\" font-size=\"14.00\">산도 &lt;= 3.075</text>\n<text text-anchor=\"middle\" x=\"3944.5\" y=\"-275.8\" font-family=\"Helvetica,sans-Serif\" font-size=\"14.00\">gini = 0.224</text>\n<text text-anchor=\"middle\" x=\"3944.5\" y=\"-260.8\" font-family=\"Helvetica,sans-Serif\" font-size=\"14.00\">samples = 78</text>\n<text text-anchor=\"middle\" x=\"3944.5\" y=\"-245.8\" font-family=\"Helvetica,sans-Serif\" font-size=\"14.00\">value = [10, 68]</text>\n<text text-anchor=\"middle\" x=\"3944.5\" y=\"-230.8\" font-family=\"Helvetica,sans-Serif\" font-size=\"14.00\">class = 1</text>\n</g>\n<!-- 60&#45;&gt;61 -->\n<g id=\"edge61\" class=\"edge\">\n<title>60&#45;&gt;61</title>\n<path fill=\"none\" stroke=\"black\" d=\"M4249.24,-362.92C4183.66,-341.95 4079.91,-308.79 4012.02,-287.08\"/>\n<polygon fill=\"black\" stroke=\"black\" points=\"4013.47,-283.87 4002.88,-284.16 4011.34,-290.54 4013.47,-283.87\"/>\n</g>\n<!-- 68 -->\n<g id=\"node69\" class=\"node\">\n<title>68</title>\n<path fill=\"#42a1e6\" stroke=\"black\" d=\"M4359.5,-306C4359.5,-306 4261.5,-306 4261.5,-306 4255.5,-306 4249.5,-300 4249.5,-294 4249.5,-294 4249.5,-235 4249.5,-235 4249.5,-229 4255.5,-223 4261.5,-223 4261.5,-223 4359.5,-223 4359.5,-223 4365.5,-223 4371.5,-229 4371.5,-235 4371.5,-235 4371.5,-294 4371.5,-294 4371.5,-300 4365.5,-306 4359.5,-306\"/>\n<text text-anchor=\"middle\" x=\"4310.5\" y=\"-290.8\" font-family=\"Helvetica,sans-Serif\" font-size=\"14.00\">산도 &lt;= 3.155</text>\n<text text-anchor=\"middle\" x=\"4310.5\" y=\"-275.8\" font-family=\"Helvetica,sans-Serif\" font-size=\"14.00\">gini = 0.083</text>\n<text text-anchor=\"middle\" x=\"4310.5\" y=\"-260.8\" font-family=\"Helvetica,sans-Serif\" font-size=\"14.00\">samples = 253</text>\n<text text-anchor=\"middle\" x=\"4310.5\" y=\"-245.8\" font-family=\"Helvetica,sans-Serif\" font-size=\"14.00\">value = [11, 242]</text>\n<text text-anchor=\"middle\" x=\"4310.5\" y=\"-230.8\" font-family=\"Helvetica,sans-Serif\" font-size=\"14.00\">class = 1</text>\n</g>\n<!-- 60&#45;&gt;68 -->\n<g id=\"edge68\" class=\"edge\">\n<title>60&#45;&gt;68</title>\n<path fill=\"none\" stroke=\"black\" d=\"M4310.5,-341.58C4310.5,-333.79 4310.5,-325.53 4310.5,-317.45\"/>\n<polygon fill=\"black\" stroke=\"black\" points=\"4314,-317.71 4310.5,-307.71 4307,-317.71 4314,-317.71\"/>\n</g>\n<!-- 62 -->\n<g id=\"node63\" class=\"node\">\n<title>62</title>\n<path fill=\"#a4d2f3\" stroke=\"black\" d=\"M3803.5,-187C3803.5,-187 3715.5,-187 3715.5,-187 3709.5,-187 3703.5,-181 3703.5,-175 3703.5,-175 3703.5,-116 3703.5,-116 3703.5,-110 3709.5,-104 3715.5,-104 3715.5,-104 3803.5,-104 3803.5,-104 3809.5,-104 3815.5,-110 3815.5,-116 3815.5,-116 3815.5,-175 3815.5,-175 3815.5,-181 3809.5,-187 3803.5,-187\"/>\n<text text-anchor=\"middle\" x=\"3759.5\" y=\"-171.8\" font-family=\"Helvetica,sans-Serif\" font-size=\"14.00\">도수 &lt;= 11.85</text>\n<text text-anchor=\"middle\" x=\"3759.5\" y=\"-156.8\" font-family=\"Helvetica,sans-Serif\" font-size=\"14.00\">gini = 0.455</text>\n<text text-anchor=\"middle\" x=\"3759.5\" y=\"-141.8\" font-family=\"Helvetica,sans-Serif\" font-size=\"14.00\">samples = 20</text>\n<text text-anchor=\"middle\" x=\"3759.5\" y=\"-126.8\" font-family=\"Helvetica,sans-Serif\" font-size=\"14.00\">value = [7, 13]</text>\n<text text-anchor=\"middle\" x=\"3759.5\" y=\"-111.8\" font-family=\"Helvetica,sans-Serif\" font-size=\"14.00\">class = 1</text>\n</g>\n<!-- 61&#45;&gt;62 -->\n<g id=\"edge62\" class=\"edge\">\n<title>61&#45;&gt;62</title>\n<path fill=\"none\" stroke=\"black\" d=\"M3887.74,-227.6C3868.02,-215.13 3845.75,-201.05 3825.36,-188.15\"/>\n<polygon fill=\"black\" stroke=\"black\" points=\"3827.44,-185.33 3817.12,-182.94 3823.7,-191.24 3827.44,-185.33\"/>\n</g>\n<!-- 65 -->\n<g id=\"node66\" class=\"node\">\n<title>65</title>\n<path fill=\"#44a2e6\" stroke=\"black\" d=\"M3985,-187C3985,-187 3904,-187 3904,-187 3898,-187 3892,-181 3892,-175 3892,-175 3892,-116 3892,-116 3892,-110 3898,-104 3904,-104 3904,-104 3985,-104 3985,-104 3991,-104 3997,-110 3997,-116 3997,-116 3997,-175 3997,-175 3997,-181 3991,-187 3985,-187\"/>\n<text text-anchor=\"middle\" x=\"3944.5\" y=\"-171.8\" font-family=\"Helvetica,sans-Serif\" font-size=\"14.00\">당도 &lt;= 4.35</text>\n<text text-anchor=\"middle\" x=\"3944.5\" y=\"-156.8\" font-family=\"Helvetica,sans-Serif\" font-size=\"14.00\">gini = 0.098</text>\n<text text-anchor=\"middle\" x=\"3944.5\" y=\"-141.8\" font-family=\"Helvetica,sans-Serif\" font-size=\"14.00\">samples = 58</text>\n<text text-anchor=\"middle\" x=\"3944.5\" y=\"-126.8\" font-family=\"Helvetica,sans-Serif\" font-size=\"14.00\">value = [3, 55]</text>\n<text text-anchor=\"middle\" x=\"3944.5\" y=\"-111.8\" font-family=\"Helvetica,sans-Serif\" font-size=\"14.00\">class = 1</text>\n</g>\n<!-- 61&#45;&gt;65 -->\n<g id=\"edge65\" class=\"edge\">\n<title>61&#45;&gt;65</title>\n<path fill=\"none\" stroke=\"black\" d=\"M3944.5,-222.58C3944.5,-214.79 3944.5,-206.53 3944.5,-198.45\"/>\n<polygon fill=\"black\" stroke=\"black\" points=\"3948,-198.71 3944.5,-188.71 3941,-198.71 3948,-198.71\"/>\n</g>\n<!-- 63 -->\n<g id=\"node64\" class=\"node\">\n<title>63</title>\n<path fill=\"#e6f3fc\" stroke=\"black\" d=\"M3681,-68C3681,-68 3602,-68 3602,-68 3596,-68 3590,-62 3590,-56 3590,-56 3590,-12 3590,-12 3590,-6 3596,0 3602,0 3602,0 3681,0 3681,0 3687,0 3693,-6 3693,-12 3693,-12 3693,-56 3693,-56 3693,-62 3687,-68 3681,-68\"/>\n<text text-anchor=\"middle\" x=\"3641.5\" y=\"-52.8\" font-family=\"Helvetica,sans-Serif\" font-size=\"14.00\">gini = 0.498</text>\n<text text-anchor=\"middle\" x=\"3641.5\" y=\"-37.8\" font-family=\"Helvetica,sans-Serif\" font-size=\"14.00\">samples = 15</text>\n<text text-anchor=\"middle\" x=\"3641.5\" y=\"-22.8\" font-family=\"Helvetica,sans-Serif\" font-size=\"14.00\">value = [7, 8]</text>\n<text text-anchor=\"middle\" x=\"3641.5\" y=\"-7.8\" font-family=\"Helvetica,sans-Serif\" font-size=\"14.00\">class = 1</text>\n</g>\n<!-- 62&#45;&gt;63 -->\n<g id=\"edge63\" class=\"edge\">\n<title>62&#45;&gt;63</title>\n<path fill=\"none\" stroke=\"black\" d=\"M3715.56,-103.73C3705.83,-94.7 3695.51,-85.12 3685.77,-76.08\"/>\n<polygon fill=\"black\" stroke=\"black\" points=\"3688.2,-73.57 3678.49,-69.33 3683.44,-78.7 3688.2,-73.57\"/>\n</g>\n<!-- 64 -->\n<g id=\"node65\" class=\"node\">\n<title>64</title>\n<path fill=\"#399de5\" stroke=\"black\" d=\"M3796,-68C3796,-68 3723,-68 3723,-68 3717,-68 3711,-62 3711,-56 3711,-56 3711,-12 3711,-12 3711,-6 3717,0 3723,0 3723,0 3796,0 3796,0 3802,0 3808,-6 3808,-12 3808,-12 3808,-56 3808,-56 3808,-62 3802,-68 3796,-68\"/>\n<text text-anchor=\"middle\" x=\"3759.5\" y=\"-52.8\" font-family=\"Helvetica,sans-Serif\" font-size=\"14.00\">gini = 0.0</text>\n<text text-anchor=\"middle\" x=\"3759.5\" y=\"-37.8\" font-family=\"Helvetica,sans-Serif\" font-size=\"14.00\">samples = 5</text>\n<text text-anchor=\"middle\" x=\"3759.5\" y=\"-22.8\" font-family=\"Helvetica,sans-Serif\" font-size=\"14.00\">value = [0, 5]</text>\n<text text-anchor=\"middle\" x=\"3759.5\" y=\"-7.8\" font-family=\"Helvetica,sans-Serif\" font-size=\"14.00\">class = 1</text>\n</g>\n<!-- 62&#45;&gt;64 -->\n<g id=\"edge64\" class=\"edge\">\n<title>62&#45;&gt;64</title>\n<path fill=\"none\" stroke=\"black\" d=\"M3759.5,-103.73C3759.5,-95.88 3759.5,-87.63 3759.5,-79.67\"/>\n<polygon fill=\"black\" stroke=\"black\" points=\"3763,-79.81 3759.5,-69.81 3756,-79.81 3763,-79.81\"/>\n</g>\n<!-- 66 -->\n<g id=\"node67\" class=\"node\">\n<title>66</title>\n<path fill=\"#54aae9\" stroke=\"black\" d=\"M3919,-68C3919,-68 3838,-68 3838,-68 3832,-68 3826,-62 3826,-56 3826,-56 3826,-12 3826,-12 3826,-6 3832,0 3838,0 3838,0 3919,0 3919,0 3925,0 3931,-6 3931,-12 3931,-12 3931,-56 3931,-56 3931,-62 3925,-68 3919,-68\"/>\n<text text-anchor=\"middle\" x=\"3878.5\" y=\"-52.8\" font-family=\"Helvetica,sans-Serif\" font-size=\"14.00\">gini = 0.211</text>\n<text text-anchor=\"middle\" x=\"3878.5\" y=\"-37.8\" font-family=\"Helvetica,sans-Serif\" font-size=\"14.00\">samples = 25</text>\n<text text-anchor=\"middle\" x=\"3878.5\" y=\"-22.8\" font-family=\"Helvetica,sans-Serif\" font-size=\"14.00\">value = [3, 22]</text>\n<text text-anchor=\"middle\" x=\"3878.5\" y=\"-7.8\" font-family=\"Helvetica,sans-Serif\" font-size=\"14.00\">class = 1</text>\n</g>\n<!-- 65&#45;&gt;66 -->\n<g id=\"edge66\" class=\"edge\">\n<title>65&#45;&gt;66</title>\n<path fill=\"none\" stroke=\"black\" d=\"M3919.92,-103.73C3914.87,-95.34 3909.53,-86.47 3904.42,-78.01\"/>\n<polygon fill=\"black\" stroke=\"black\" points=\"3907.51,-76.35 3899.35,-69.6 3901.52,-79.97 3907.51,-76.35\"/>\n</g>\n<!-- 67 -->\n<g id=\"node68\" class=\"node\">\n<title>67</title>\n<path fill=\"#399de5\" stroke=\"black\" d=\"M4042,-68C4042,-68 3961,-68 3961,-68 3955,-68 3949,-62 3949,-56 3949,-56 3949,-12 3949,-12 3949,-6 3955,0 3961,0 3961,0 4042,0 4042,0 4048,0 4054,-6 4054,-12 4054,-12 4054,-56 4054,-56 4054,-62 4048,-68 4042,-68\"/>\n<text text-anchor=\"middle\" x=\"4001.5\" y=\"-52.8\" font-family=\"Helvetica,sans-Serif\" font-size=\"14.00\">gini = 0.0</text>\n<text text-anchor=\"middle\" x=\"4001.5\" y=\"-37.8\" font-family=\"Helvetica,sans-Serif\" font-size=\"14.00\">samples = 33</text>\n<text text-anchor=\"middle\" x=\"4001.5\" y=\"-22.8\" font-family=\"Helvetica,sans-Serif\" font-size=\"14.00\">value = [0, 33]</text>\n<text text-anchor=\"middle\" x=\"4001.5\" y=\"-7.8\" font-family=\"Helvetica,sans-Serif\" font-size=\"14.00\">class = 1</text>\n</g>\n<!-- 65&#45;&gt;67 -->\n<g id=\"edge67\" class=\"edge\">\n<title>65&#45;&gt;67</title>\n<path fill=\"none\" stroke=\"black\" d=\"M3965.72,-103.73C3970.05,-95.43 3974.6,-86.67 3978.97,-78.28\"/>\n<polygon fill=\"black\" stroke=\"black\" points=\"3981.95,-80.13 3983.47,-69.64 3975.75,-76.9 3981.95,-80.13\"/>\n</g>\n<!-- 69 -->\n<g id=\"node70\" class=\"node\">\n<title>69</title>\n<path fill=\"#3c9fe5\" stroke=\"black\" d=\"M4290,-187C4290,-187 4201,-187 4201,-187 4195,-187 4189,-181 4189,-175 4189,-175 4189,-116 4189,-116 4189,-110 4195,-104 4201,-104 4201,-104 4290,-104 4290,-104 4296,-104 4302,-110 4302,-116 4302,-116 4302,-175 4302,-175 4302,-181 4296,-187 4290,-187\"/>\n<text text-anchor=\"middle\" x=\"4245.5\" y=\"-171.8\" font-family=\"Helvetica,sans-Serif\" font-size=\"14.00\">당도 &lt;= 5.75</text>\n<text text-anchor=\"middle\" x=\"4245.5\" y=\"-156.8\" font-family=\"Helvetica,sans-Serif\" font-size=\"14.00\">gini = 0.031</text>\n<text text-anchor=\"middle\" x=\"4245.5\" y=\"-141.8\" font-family=\"Helvetica,sans-Serif\" font-size=\"14.00\">samples = 125</text>\n<text text-anchor=\"middle\" x=\"4245.5\" y=\"-126.8\" font-family=\"Helvetica,sans-Serif\" font-size=\"14.00\">value = [2, 123]</text>\n<text text-anchor=\"middle\" x=\"4245.5\" y=\"-111.8\" font-family=\"Helvetica,sans-Serif\" font-size=\"14.00\">class = 1</text>\n</g>\n<!-- 68&#45;&gt;69 -->\n<g id=\"edge69\" class=\"edge\">\n<title>68&#45;&gt;69</title>\n<path fill=\"none\" stroke=\"black\" d=\"M4287.77,-222.58C4283.19,-214.34 4278.32,-205.58 4273.59,-197.06\"/>\n<polygon fill=\"black\" stroke=\"black\" points=\"4276.76,-195.57 4268.85,-188.52 4270.64,-198.96 4276.76,-195.57\"/>\n</g>\n<!-- 72 -->\n<g id=\"node73\" class=\"node\">\n<title>72</title>\n<path fill=\"#48a4e7\" stroke=\"black\" d=\"M4421,-187C4421,-187 4332,-187 4332,-187 4326,-187 4320,-181 4320,-175 4320,-175 4320,-116 4320,-116 4320,-110 4326,-104 4332,-104 4332,-104 4421,-104 4421,-104 4427,-104 4433,-110 4433,-116 4433,-116 4433,-175 4433,-175 4433,-181 4427,-187 4421,-187\"/>\n<text text-anchor=\"middle\" x=\"4376.5\" y=\"-171.8\" font-family=\"Helvetica,sans-Serif\" font-size=\"14.00\">도수 &lt;= 12.45</text>\n<text text-anchor=\"middle\" x=\"4376.5\" y=\"-156.8\" font-family=\"Helvetica,sans-Serif\" font-size=\"14.00\">gini = 0.131</text>\n<text text-anchor=\"middle\" x=\"4376.5\" y=\"-141.8\" font-family=\"Helvetica,sans-Serif\" font-size=\"14.00\">samples = 128</text>\n<text text-anchor=\"middle\" x=\"4376.5\" y=\"-126.8\" font-family=\"Helvetica,sans-Serif\" font-size=\"14.00\">value = [9, 119]</text>\n<text text-anchor=\"middle\" x=\"4376.5\" y=\"-111.8\" font-family=\"Helvetica,sans-Serif\" font-size=\"14.00\">class = 1</text>\n</g>\n<!-- 68&#45;&gt;72 -->\n<g id=\"edge72\" class=\"edge\">\n<title>68&#45;&gt;72</title>\n<path fill=\"none\" stroke=\"black\" d=\"M4333.58,-222.58C4338.23,-214.34 4343.17,-205.58 4347.98,-197.06\"/>\n<polygon fill=\"black\" stroke=\"black\" points=\"4350.93,-198.95 4352.8,-188.52 4344.84,-195.51 4350.93,-198.95\"/>\n</g>\n<!-- 70 -->\n<g id=\"node71\" class=\"node\">\n<title>70</title>\n<path fill=\"#399de5\" stroke=\"black\" d=\"M4165,-68C4165,-68 4084,-68 4084,-68 4078,-68 4072,-62 4072,-56 4072,-56 4072,-12 4072,-12 4072,-6 4078,0 4084,0 4084,0 4165,0 4165,0 4171,0 4177,-6 4177,-12 4177,-12 4177,-56 4177,-56 4177,-62 4171,-68 4165,-68\"/>\n<text text-anchor=\"middle\" x=\"4124.5\" y=\"-52.8\" font-family=\"Helvetica,sans-Serif\" font-size=\"14.00\">gini = 0.0</text>\n<text text-anchor=\"middle\" x=\"4124.5\" y=\"-37.8\" font-family=\"Helvetica,sans-Serif\" font-size=\"14.00\">samples = 79</text>\n<text text-anchor=\"middle\" x=\"4124.5\" y=\"-22.8\" font-family=\"Helvetica,sans-Serif\" font-size=\"14.00\">value = [0, 79]</text>\n<text text-anchor=\"middle\" x=\"4124.5\" y=\"-7.8\" font-family=\"Helvetica,sans-Serif\" font-size=\"14.00\">class = 1</text>\n</g>\n<!-- 69&#45;&gt;70 -->\n<g id=\"edge70\" class=\"edge\">\n<title>69&#45;&gt;70</title>\n<path fill=\"none\" stroke=\"black\" d=\"M4200.44,-103.73C4190.37,-94.61 4179.67,-84.93 4169.59,-75.81\"/>\n<polygon fill=\"black\" stroke=\"black\" points=\"4172.18,-73.43 4162.42,-69.32 4167.49,-78.62 4172.18,-73.43\"/>\n</g>\n<!-- 71 -->\n<g id=\"node72\" class=\"node\">\n<title>71</title>\n<path fill=\"#42a1e6\" stroke=\"black\" d=\"M4288,-68C4288,-68 4207,-68 4207,-68 4201,-68 4195,-62 4195,-56 4195,-56 4195,-12 4195,-12 4195,-6 4201,0 4207,0 4207,0 4288,0 4288,0 4294,0 4300,-6 4300,-12 4300,-12 4300,-56 4300,-56 4300,-62 4294,-68 4288,-68\"/>\n<text text-anchor=\"middle\" x=\"4247.5\" y=\"-52.8\" font-family=\"Helvetica,sans-Serif\" font-size=\"14.00\">gini = 0.083</text>\n<text text-anchor=\"middle\" x=\"4247.5\" y=\"-37.8\" font-family=\"Helvetica,sans-Serif\" font-size=\"14.00\">samples = 46</text>\n<text text-anchor=\"middle\" x=\"4247.5\" y=\"-22.8\" font-family=\"Helvetica,sans-Serif\" font-size=\"14.00\">value = [2, 44]</text>\n<text text-anchor=\"middle\" x=\"4247.5\" y=\"-7.8\" font-family=\"Helvetica,sans-Serif\" font-size=\"14.00\">class = 1</text>\n</g>\n<!-- 69&#45;&gt;71 -->\n<g id=\"edge71\" class=\"edge\">\n<title>69&#45;&gt;71</title>\n<path fill=\"none\" stroke=\"black\" d=\"M4246.24,-103.73C4246.39,-95.88 4246.54,-87.63 4246.68,-79.67\"/>\n<polygon fill=\"black\" stroke=\"black\" points=\"4250.18,-79.88 4246.86,-69.81 4243.18,-79.75 4250.18,-79.88\"/>\n</g>\n<!-- 73 -->\n<g id=\"node74\" class=\"node\">\n<title>73</title>\n<path fill=\"#42a2e6\" stroke=\"black\" d=\"M4419,-68C4419,-68 4330,-68 4330,-68 4324,-68 4318,-62 4318,-56 4318,-56 4318,-12 4318,-12 4318,-6 4324,0 4330,0 4330,0 4419,0 4419,0 4425,0 4431,-6 4431,-12 4431,-12 4431,-56 4431,-56 4431,-62 4425,-68 4419,-68\"/>\n<text text-anchor=\"middle\" x=\"4374.5\" y=\"-52.8\" font-family=\"Helvetica,sans-Serif\" font-size=\"14.00\">gini = 0.085</text>\n<text text-anchor=\"middle\" x=\"4374.5\" y=\"-37.8\" font-family=\"Helvetica,sans-Serif\" font-size=\"14.00\">samples = 112</text>\n<text text-anchor=\"middle\" x=\"4374.5\" y=\"-22.8\" font-family=\"Helvetica,sans-Serif\" font-size=\"14.00\">value = [5, 107]</text>\n<text text-anchor=\"middle\" x=\"4374.5\" y=\"-7.8\" font-family=\"Helvetica,sans-Serif\" font-size=\"14.00\">class = 1</text>\n</g>\n<!-- 72&#45;&gt;73 -->\n<g id=\"edge73\" class=\"edge\">\n<title>72&#45;&gt;73</title>\n<path fill=\"none\" stroke=\"black\" d=\"M4375.76,-103.73C4375.61,-95.88 4375.46,-87.63 4375.32,-79.67\"/>\n<polygon fill=\"black\" stroke=\"black\" points=\"4378.82,-79.75 4375.14,-69.81 4371.82,-79.88 4378.82,-79.75\"/>\n</g>\n<!-- 74 -->\n<g id=\"node75\" class=\"node\">\n<title>74</title>\n<path fill=\"#7bbeee\" stroke=\"black\" d=\"M4542,-68C4542,-68 4461,-68 4461,-68 4455,-68 4449,-62 4449,-56 4449,-56 4449,-12 4449,-12 4449,-6 4455,0 4461,0 4461,0 4542,0 4542,0 4548,0 4554,-6 4554,-12 4554,-12 4554,-56 4554,-56 4554,-62 4548,-68 4542,-68\"/>\n<text text-anchor=\"middle\" x=\"4501.5\" y=\"-52.8\" font-family=\"Helvetica,sans-Serif\" font-size=\"14.00\">gini = 0.375</text>\n<text text-anchor=\"middle\" x=\"4501.5\" y=\"-37.8\" font-family=\"Helvetica,sans-Serif\" font-size=\"14.00\">samples = 16</text>\n<text text-anchor=\"middle\" x=\"4501.5\" y=\"-22.8\" font-family=\"Helvetica,sans-Serif\" font-size=\"14.00\">value = [4, 12]</text>\n<text text-anchor=\"middle\" x=\"4501.5\" y=\"-7.8\" font-family=\"Helvetica,sans-Serif\" font-size=\"14.00\">class = 1</text>\n</g>\n<!-- 72&#45;&gt;74 -->\n<g id=\"edge74\" class=\"edge\">\n<title>72&#45;&gt;74</title>\n<path fill=\"none\" stroke=\"black\" d=\"M4423.05,-103.73C4433.46,-94.61 4444.5,-84.93 4454.92,-75.81\"/>\n<polygon fill=\"black\" stroke=\"black\" points=\"4457.13,-78.52 4462.35,-69.3 4452.52,-73.25 4457.13,-78.52\"/>\n</g>\n<!-- 76 -->\n<g id=\"node77\" class=\"node\">\n<title>76</title>\n<path fill=\"#4ba6e7\" stroke=\"black\" d=\"M4842,-306C4842,-306 4761,-306 4761,-306 4755,-306 4749,-300 4749,-294 4749,-294 4749,-235 4749,-235 4749,-229 4755,-223 4761,-223 4761,-223 4842,-223 4842,-223 4848,-223 4854,-229 4854,-235 4854,-235 4854,-294 4854,-294 4854,-300 4848,-306 4842,-306\"/>\n<text text-anchor=\"middle\" x=\"4801.5\" y=\"-290.8\" font-family=\"Helvetica,sans-Serif\" font-size=\"14.00\">당도 &lt;= 5.35</text>\n<text text-anchor=\"middle\" x=\"4801.5\" y=\"-275.8\" font-family=\"Helvetica,sans-Serif\" font-size=\"14.00\">gini = 0.155</text>\n<text text-anchor=\"middle\" x=\"4801.5\" y=\"-260.8\" font-family=\"Helvetica,sans-Serif\" font-size=\"14.00\">samples = 59</text>\n<text text-anchor=\"middle\" x=\"4801.5\" y=\"-245.8\" font-family=\"Helvetica,sans-Serif\" font-size=\"14.00\">value = [5, 54]</text>\n<text text-anchor=\"middle\" x=\"4801.5\" y=\"-230.8\" font-family=\"Helvetica,sans-Serif\" font-size=\"14.00\">class = 1</text>\n</g>\n<!-- 75&#45;&gt;76 -->\n<g id=\"edge76\" class=\"edge\">\n<title>75&#45;&gt;76</title>\n<path fill=\"none\" stroke=\"black\" d=\"M4801.5,-341.58C4801.5,-333.79 4801.5,-325.53 4801.5,-317.45\"/>\n<polygon fill=\"black\" stroke=\"black\" points=\"4805,-317.71 4801.5,-307.71 4798,-317.71 4805,-317.71\"/>\n</g>\n<!-- 83 -->\n<g id=\"node84\" class=\"node\">\n<title>83</title>\n<path fill=\"#80c0ee\" stroke=\"black\" d=\"M5216,-306C5216,-306 5127,-306 5127,-306 5121,-306 5115,-300 5115,-294 5115,-294 5115,-235 5115,-235 5115,-229 5121,-223 5127,-223 5127,-223 5216,-223 5216,-223 5222,-223 5228,-229 5228,-235 5228,-235 5228,-294 5228,-294 5228,-300 5222,-306 5216,-306\"/>\n<text text-anchor=\"middle\" x=\"5171.5\" y=\"-290.8\" font-family=\"Helvetica,sans-Serif\" font-size=\"14.00\">도수 &lt;= 12.25</text>\n<text text-anchor=\"middle\" x=\"5171.5\" y=\"-275.8\" font-family=\"Helvetica,sans-Serif\" font-size=\"14.00\">gini = 0.388</text>\n<text text-anchor=\"middle\" x=\"5171.5\" y=\"-260.8\" font-family=\"Helvetica,sans-Serif\" font-size=\"14.00\">samples = 129</text>\n<text text-anchor=\"middle\" x=\"5171.5\" y=\"-245.8\" font-family=\"Helvetica,sans-Serif\" font-size=\"14.00\">value = [34, 95]</text>\n<text text-anchor=\"middle\" x=\"5171.5\" y=\"-230.8\" font-family=\"Helvetica,sans-Serif\" font-size=\"14.00\">class = 1</text>\n</g>\n<!-- 75&#45;&gt;83 -->\n<g id=\"edge83\" class=\"edge\">\n<title>75&#45;&gt;83</title>\n<path fill=\"none\" stroke=\"black\" d=\"M4862.6,-363.18C4929.04,-342.17 5034.93,-308.69 5103.84,-286.9\"/>\n<polygon fill=\"black\" stroke=\"black\" points=\"5104.65,-290.31 5113.12,-283.96 5102.53,-283.64 5104.65,-290.31\"/>\n</g>\n<!-- 77 -->\n<g id=\"node78\" class=\"node\">\n<title>77</title>\n<path fill=\"#3fa0e6\" stroke=\"black\" d=\"M4780,-187C4780,-187 4699,-187 4699,-187 4693,-187 4687,-181 4687,-175 4687,-175 4687,-116 4687,-116 4687,-110 4693,-104 4699,-104 4699,-104 4780,-104 4780,-104 4786,-104 4792,-110 4792,-116 4792,-116 4792,-175 4792,-175 4792,-181 4786,-187 4780,-187\"/>\n<text text-anchor=\"middle\" x=\"4739.5\" y=\"-171.8\" font-family=\"Helvetica,sans-Serif\" font-size=\"14.00\">당도 &lt;= 4.45</text>\n<text text-anchor=\"middle\" x=\"4739.5\" y=\"-156.8\" font-family=\"Helvetica,sans-Serif\" font-size=\"14.00\">gini = 0.057</text>\n<text text-anchor=\"middle\" x=\"4739.5\" y=\"-141.8\" font-family=\"Helvetica,sans-Serif\" font-size=\"14.00\">samples = 34</text>\n<text text-anchor=\"middle\" x=\"4739.5\" y=\"-126.8\" font-family=\"Helvetica,sans-Serif\" font-size=\"14.00\">value = [1, 33]</text>\n<text text-anchor=\"middle\" x=\"4739.5\" y=\"-111.8\" font-family=\"Helvetica,sans-Serif\" font-size=\"14.00\">class = 1</text>\n</g>\n<!-- 76&#45;&gt;77 -->\n<g id=\"edge77\" class=\"edge\">\n<title>76&#45;&gt;77</title>\n<path fill=\"none\" stroke=\"black\" d=\"M4779.82,-222.58C4775.5,-214.43 4770.91,-205.77 4766.44,-197.34\"/>\n<polygon fill=\"black\" stroke=\"black\" points=\"4769.55,-195.73 4761.78,-188.54 4763.37,-199.01 4769.55,-195.73\"/>\n</g>\n<!-- 80 -->\n<g id=\"node81\" class=\"node\">\n<title>80</title>\n<path fill=\"#5fb0ea\" stroke=\"black\" d=\"M4903,-187C4903,-187 4822,-187 4822,-187 4816,-187 4810,-181 4810,-175 4810,-175 4810,-116 4810,-116 4810,-110 4816,-104 4822,-104 4822,-104 4903,-104 4903,-104 4909,-104 4915,-110 4915,-116 4915,-116 4915,-175 4915,-175 4915,-181 4909,-187 4903,-187\"/>\n<text text-anchor=\"middle\" x=\"4862.5\" y=\"-171.8\" font-family=\"Helvetica,sans-Serif\" font-size=\"14.00\">당도 &lt;= 6.15</text>\n<text text-anchor=\"middle\" x=\"4862.5\" y=\"-156.8\" font-family=\"Helvetica,sans-Serif\" font-size=\"14.00\">gini = 0.269</text>\n<text text-anchor=\"middle\" x=\"4862.5\" y=\"-141.8\" font-family=\"Helvetica,sans-Serif\" font-size=\"14.00\">samples = 25</text>\n<text text-anchor=\"middle\" x=\"4862.5\" y=\"-126.8\" font-family=\"Helvetica,sans-Serif\" font-size=\"14.00\">value = [4, 21]</text>\n<text text-anchor=\"middle\" x=\"4862.5\" y=\"-111.8\" font-family=\"Helvetica,sans-Serif\" font-size=\"14.00\">class = 1</text>\n</g>\n<!-- 76&#45;&gt;80 -->\n<g id=\"edge80\" class=\"edge\">\n<title>76&#45;&gt;80</title>\n<path fill=\"none\" stroke=\"black\" d=\"M4822.83,-222.58C4827.08,-214.43 4831.6,-205.77 4836,-197.34\"/>\n<polygon fill=\"black\" stroke=\"black\" points=\"4839.06,-199.03 4840.58,-188.54 4832.85,-195.79 4839.06,-199.03\"/>\n</g>\n<!-- 78 -->\n<g id=\"node79\" class=\"node\">\n<title>78</title>\n<path fill=\"#7bbeee\" stroke=\"black\" d=\"M4657,-68C4657,-68 4584,-68 4584,-68 4578,-68 4572,-62 4572,-56 4572,-56 4572,-12 4572,-12 4572,-6 4578,0 4584,0 4584,0 4657,0 4657,0 4663,0 4669,-6 4669,-12 4669,-12 4669,-56 4669,-56 4669,-62 4663,-68 4657,-68\"/>\n<text text-anchor=\"middle\" x=\"4620.5\" y=\"-52.8\" font-family=\"Helvetica,sans-Serif\" font-size=\"14.00\">gini = 0.375</text>\n<text text-anchor=\"middle\" x=\"4620.5\" y=\"-37.8\" font-family=\"Helvetica,sans-Serif\" font-size=\"14.00\">samples = 4</text>\n<text text-anchor=\"middle\" x=\"4620.5\" y=\"-22.8\" font-family=\"Helvetica,sans-Serif\" font-size=\"14.00\">value = [1, 3]</text>\n<text text-anchor=\"middle\" x=\"4620.5\" y=\"-7.8\" font-family=\"Helvetica,sans-Serif\" font-size=\"14.00\">class = 1</text>\n</g>\n<!-- 77&#45;&gt;78 -->\n<g id=\"edge78\" class=\"edge\">\n<title>77&#45;&gt;78</title>\n<path fill=\"none\" stroke=\"black\" d=\"M4695.19,-103.73C4685.38,-94.7 4674.97,-85.12 4665.15,-76.08\"/>\n<polygon fill=\"black\" stroke=\"black\" points=\"4667.53,-73.52 4657.8,-69.32 4662.79,-78.67 4667.53,-73.52\"/>\n</g>\n<!-- 79 -->\n<g id=\"node80\" class=\"node\">\n<title>79</title>\n<path fill=\"#399de5\" stroke=\"black\" d=\"M4780,-68C4780,-68 4699,-68 4699,-68 4693,-68 4687,-62 4687,-56 4687,-56 4687,-12 4687,-12 4687,-6 4693,0 4699,0 4699,0 4780,0 4780,0 4786,0 4792,-6 4792,-12 4792,-12 4792,-56 4792,-56 4792,-62 4786,-68 4780,-68\"/>\n<text text-anchor=\"middle\" x=\"4739.5\" y=\"-52.8\" font-family=\"Helvetica,sans-Serif\" font-size=\"14.00\">gini = 0.0</text>\n<text text-anchor=\"middle\" x=\"4739.5\" y=\"-37.8\" font-family=\"Helvetica,sans-Serif\" font-size=\"14.00\">samples = 30</text>\n<text text-anchor=\"middle\" x=\"4739.5\" y=\"-22.8\" font-family=\"Helvetica,sans-Serif\" font-size=\"14.00\">value = [0, 30]</text>\n<text text-anchor=\"middle\" x=\"4739.5\" y=\"-7.8\" font-family=\"Helvetica,sans-Serif\" font-size=\"14.00\">class = 1</text>\n</g>\n<!-- 77&#45;&gt;79 -->\n<g id=\"edge79\" class=\"edge\">\n<title>77&#45;&gt;79</title>\n<path fill=\"none\" stroke=\"black\" d=\"M4739.5,-103.73C4739.5,-95.88 4739.5,-87.63 4739.5,-79.67\"/>\n<polygon fill=\"black\" stroke=\"black\" points=\"4743,-79.81 4739.5,-69.81 4736,-79.81 4743,-79.81\"/>\n</g>\n<!-- 81 -->\n<g id=\"node82\" class=\"node\">\n<title>81</title>\n<path fill=\"#91c9f1\" stroke=\"black\" d=\"M4901,-68C4901,-68 4822,-68 4822,-68 4816,-68 4810,-62 4810,-56 4810,-56 4810,-12 4810,-12 4810,-6 4816,0 4822,0 4822,0 4901,0 4901,0 4907,0 4913,-6 4913,-12 4913,-12 4913,-56 4913,-56 4913,-62 4907,-68 4901,-68\"/>\n<text text-anchor=\"middle\" x=\"4861.5\" y=\"-52.8\" font-family=\"Helvetica,sans-Serif\" font-size=\"14.00\">gini = 0.426</text>\n<text text-anchor=\"middle\" x=\"4861.5\" y=\"-37.8\" font-family=\"Helvetica,sans-Serif\" font-size=\"14.00\">samples = 13</text>\n<text text-anchor=\"middle\" x=\"4861.5\" y=\"-22.8\" font-family=\"Helvetica,sans-Serif\" font-size=\"14.00\">value = [4, 9]</text>\n<text text-anchor=\"middle\" x=\"4861.5\" y=\"-7.8\" font-family=\"Helvetica,sans-Serif\" font-size=\"14.00\">class = 1</text>\n</g>\n<!-- 80&#45;&gt;81 -->\n<g id=\"edge81\" class=\"edge\">\n<title>80&#45;&gt;81</title>\n<path fill=\"none\" stroke=\"black\" d=\"M4862.13,-103.73C4862.06,-95.88 4861.98,-87.63 4861.91,-79.67\"/>\n<polygon fill=\"black\" stroke=\"black\" points=\"4865.41,-79.78 4861.82,-69.81 4858.41,-79.84 4865.41,-79.78\"/>\n</g>\n<!-- 82 -->\n<g id=\"node83\" class=\"node\">\n<title>82</title>\n<path fill=\"#399de5\" stroke=\"black\" d=\"M5024,-68C5024,-68 4943,-68 4943,-68 4937,-68 4931,-62 4931,-56 4931,-56 4931,-12 4931,-12 4931,-6 4937,0 4943,0 4943,0 5024,0 5024,0 5030,0 5036,-6 5036,-12 5036,-12 5036,-56 5036,-56 5036,-62 5030,-68 5024,-68\"/>\n<text text-anchor=\"middle\" x=\"4983.5\" y=\"-52.8\" font-family=\"Helvetica,sans-Serif\" font-size=\"14.00\">gini = 0.0</text>\n<text text-anchor=\"middle\" x=\"4983.5\" y=\"-37.8\" font-family=\"Helvetica,sans-Serif\" font-size=\"14.00\">samples = 12</text>\n<text text-anchor=\"middle\" x=\"4983.5\" y=\"-22.8\" font-family=\"Helvetica,sans-Serif\" font-size=\"14.00\">value = [0, 12]</text>\n<text text-anchor=\"middle\" x=\"4983.5\" y=\"-7.8\" font-family=\"Helvetica,sans-Serif\" font-size=\"14.00\">class = 1</text>\n</g>\n<!-- 80&#45;&gt;82 -->\n<g id=\"edge82\" class=\"edge\">\n<title>80&#45;&gt;82</title>\n<path fill=\"none\" stroke=\"black\" d=\"M4907.56,-103.73C4917.63,-94.61 4928.33,-84.93 4938.41,-75.81\"/>\n<polygon fill=\"black\" stroke=\"black\" points=\"4940.51,-78.62 4945.58,-69.32 4935.82,-73.43 4940.51,-78.62\"/>\n</g>\n<!-- 84 -->\n<g id=\"node85\" class=\"node\">\n<title>84</title>\n<path fill=\"#95caf1\" stroke=\"black\" d=\"M5216,-187C5216,-187 5127,-187 5127,-187 5121,-187 5115,-181 5115,-175 5115,-175 5115,-116 5115,-116 5115,-110 5121,-104 5127,-104 5127,-104 5216,-104 5216,-104 5222,-104 5228,-110 5228,-116 5228,-116 5228,-175 5228,-175 5228,-181 5222,-187 5216,-187\"/>\n<text text-anchor=\"middle\" x=\"5171.5\" y=\"-171.8\" font-family=\"Helvetica,sans-Serif\" font-size=\"14.00\">산도 &lt;= 3.455</text>\n<text text-anchor=\"middle\" x=\"5171.5\" y=\"-156.8\" font-family=\"Helvetica,sans-Serif\" font-size=\"14.00\">gini = 0.433</text>\n<text text-anchor=\"middle\" x=\"5171.5\" y=\"-141.8\" font-family=\"Helvetica,sans-Serif\" font-size=\"14.00\">samples = 101</text>\n<text text-anchor=\"middle\" x=\"5171.5\" y=\"-126.8\" font-family=\"Helvetica,sans-Serif\" font-size=\"14.00\">value = [32, 69]</text>\n<text text-anchor=\"middle\" x=\"5171.5\" y=\"-111.8\" font-family=\"Helvetica,sans-Serif\" font-size=\"14.00\">class = 1</text>\n</g>\n<!-- 83&#45;&gt;84 -->\n<g id=\"edge84\" class=\"edge\">\n<title>83&#45;&gt;84</title>\n<path fill=\"none\" stroke=\"black\" d=\"M5171.5,-222.58C5171.5,-214.79 5171.5,-206.53 5171.5,-198.45\"/>\n<polygon fill=\"black\" stroke=\"black\" points=\"5175,-198.71 5171.5,-188.71 5168,-198.71 5175,-198.71\"/>\n</g>\n<!-- 87 -->\n<g id=\"node88\" class=\"node\">\n<title>87</title>\n<path fill=\"#48a5e7\" stroke=\"black\" d=\"M5400,-187C5400,-187 5319,-187 5319,-187 5313,-187 5307,-181 5307,-175 5307,-175 5307,-116 5307,-116 5307,-110 5313,-104 5319,-104 5319,-104 5400,-104 5400,-104 5406,-104 5412,-110 5412,-116 5412,-116 5412,-175 5412,-175 5412,-181 5406,-187 5400,-187\"/>\n<text text-anchor=\"middle\" x=\"5359.5\" y=\"-171.8\" font-family=\"Helvetica,sans-Serif\" font-size=\"14.00\">당도 &lt;= 4.65</text>\n<text text-anchor=\"middle\" x=\"5359.5\" y=\"-156.8\" font-family=\"Helvetica,sans-Serif\" font-size=\"14.00\">gini = 0.133</text>\n<text text-anchor=\"middle\" x=\"5359.5\" y=\"-141.8\" font-family=\"Helvetica,sans-Serif\" font-size=\"14.00\">samples = 28</text>\n<text text-anchor=\"middle\" x=\"5359.5\" y=\"-126.8\" font-family=\"Helvetica,sans-Serif\" font-size=\"14.00\">value = [2, 26]</text>\n<text text-anchor=\"middle\" x=\"5359.5\" y=\"-111.8\" font-family=\"Helvetica,sans-Serif\" font-size=\"14.00\">class = 1</text>\n</g>\n<!-- 83&#45;&gt;87 -->\n<g id=\"edge87\" class=\"edge\">\n<title>83&#45;&gt;87</title>\n<path fill=\"none\" stroke=\"black\" d=\"M5228.42,-228.08C5250.07,-214.6 5274.85,-199.18 5296.99,-185.4\"/>\n<polygon fill=\"black\" stroke=\"black\" points=\"5298.7,-188.46 5305.34,-180.2 5295,-182.52 5298.7,-188.46\"/>\n</g>\n<!-- 85 -->\n<g id=\"node86\" class=\"node\">\n<title>85</title>\n<path fill=\"#acd6f4\" stroke=\"black\" d=\"M5155,-68C5155,-68 5066,-68 5066,-68 5060,-68 5054,-62 5054,-56 5054,-56 5054,-12 5054,-12 5054,-6 5060,0 5066,0 5066,0 5155,0 5155,0 5161,0 5167,-6 5167,-12 5167,-12 5167,-56 5167,-56 5167,-62 5161,-68 5155,-68\"/>\n<text text-anchor=\"middle\" x=\"5110.5\" y=\"-52.8\" font-family=\"Helvetica,sans-Serif\" font-size=\"14.00\">gini = 0.465</text>\n<text text-anchor=\"middle\" x=\"5110.5\" y=\"-37.8\" font-family=\"Helvetica,sans-Serif\" font-size=\"14.00\">samples = 76</text>\n<text text-anchor=\"middle\" x=\"5110.5\" y=\"-22.8\" font-family=\"Helvetica,sans-Serif\" font-size=\"14.00\">value = [28, 48]</text>\n<text text-anchor=\"middle\" x=\"5110.5\" y=\"-7.8\" font-family=\"Helvetica,sans-Serif\" font-size=\"14.00\">class = 1</text>\n</g>\n<!-- 84&#45;&gt;85 -->\n<g id=\"edge85\" class=\"edge\">\n<title>84&#45;&gt;85</title>\n<path fill=\"none\" stroke=\"black\" d=\"M5148.79,-103.73C5144.16,-95.43 5139.28,-86.67 5134.61,-78.28\"/>\n<polygon fill=\"black\" stroke=\"black\" points=\"5137.71,-76.65 5129.79,-69.62 5131.6,-80.06 5137.71,-76.65\"/>\n</g>\n<!-- 86 -->\n<g id=\"node87\" class=\"node\">\n<title>86</title>\n<path fill=\"#5fb0ea\" stroke=\"black\" d=\"M5278,-68C5278,-68 5197,-68 5197,-68 5191,-68 5185,-62 5185,-56 5185,-56 5185,-12 5185,-12 5185,-6 5191,0 5197,0 5197,0 5278,0 5278,0 5284,0 5290,-6 5290,-12 5290,-12 5290,-56 5290,-56 5290,-62 5284,-68 5278,-68\"/>\n<text text-anchor=\"middle\" x=\"5237.5\" y=\"-52.8\" font-family=\"Helvetica,sans-Serif\" font-size=\"14.00\">gini = 0.269</text>\n<text text-anchor=\"middle\" x=\"5237.5\" y=\"-37.8\" font-family=\"Helvetica,sans-Serif\" font-size=\"14.00\">samples = 25</text>\n<text text-anchor=\"middle\" x=\"5237.5\" y=\"-22.8\" font-family=\"Helvetica,sans-Serif\" font-size=\"14.00\">value = [4, 21]</text>\n<text text-anchor=\"middle\" x=\"5237.5\" y=\"-7.8\" font-family=\"Helvetica,sans-Serif\" font-size=\"14.00\">class = 1</text>\n</g>\n<!-- 84&#45;&gt;86 -->\n<g id=\"edge86\" class=\"edge\">\n<title>84&#45;&gt;86</title>\n<path fill=\"none\" stroke=\"black\" d=\"M5196.08,-103.73C5201.13,-95.34 5206.47,-86.47 5211.58,-78.01\"/>\n<polygon fill=\"black\" stroke=\"black\" points=\"5214.48,-79.97 5216.65,-69.6 5208.49,-76.35 5214.48,-79.97\"/>\n</g>\n<!-- 88 -->\n<g id=\"node89\" class=\"node\">\n<title>88</title>\n<path fill=\"#65b3eb\" stroke=\"black\" d=\"M5399,-68C5399,-68 5320,-68 5320,-68 5314,-68 5308,-62 5308,-56 5308,-56 5308,-12 5308,-12 5308,-6 5314,0 5320,0 5320,0 5399,0 5399,0 5405,0 5411,-6 5411,-12 5411,-12 5411,-56 5411,-56 5411,-62 5405,-68 5399,-68\"/>\n<text text-anchor=\"middle\" x=\"5359.5\" y=\"-52.8\" font-family=\"Helvetica,sans-Serif\" font-size=\"14.00\">gini = 0.298</text>\n<text text-anchor=\"middle\" x=\"5359.5\" y=\"-37.8\" font-family=\"Helvetica,sans-Serif\" font-size=\"14.00\">samples = 11</text>\n<text text-anchor=\"middle\" x=\"5359.5\" y=\"-22.8\" font-family=\"Helvetica,sans-Serif\" font-size=\"14.00\">value = [2, 9]</text>\n<text text-anchor=\"middle\" x=\"5359.5\" y=\"-7.8\" font-family=\"Helvetica,sans-Serif\" font-size=\"14.00\">class = 1</text>\n</g>\n<!-- 87&#45;&gt;88 -->\n<g id=\"edge88\" class=\"edge\">\n<title>87&#45;&gt;88</title>\n<path fill=\"none\" stroke=\"black\" d=\"M5359.5,-103.73C5359.5,-95.88 5359.5,-87.63 5359.5,-79.67\"/>\n<polygon fill=\"black\" stroke=\"black\" points=\"5363,-79.81 5359.5,-69.81 5356,-79.81 5363,-79.81\"/>\n</g>\n<!-- 89 -->\n<g id=\"node90\" class=\"node\">\n<title>89</title>\n<path fill=\"#399de5\" stroke=\"black\" d=\"M5522,-68C5522,-68 5441,-68 5441,-68 5435,-68 5429,-62 5429,-56 5429,-56 5429,-12 5429,-12 5429,-6 5435,0 5441,0 5441,0 5522,0 5522,0 5528,0 5534,-6 5534,-12 5534,-12 5534,-56 5534,-56 5534,-62 5528,-68 5522,-68\"/>\n<text text-anchor=\"middle\" x=\"5481.5\" y=\"-52.8\" font-family=\"Helvetica,sans-Serif\" font-size=\"14.00\">gini = 0.0</text>\n<text text-anchor=\"middle\" x=\"5481.5\" y=\"-37.8\" font-family=\"Helvetica,sans-Serif\" font-size=\"14.00\">samples = 17</text>\n<text text-anchor=\"middle\" x=\"5481.5\" y=\"-22.8\" font-family=\"Helvetica,sans-Serif\" font-size=\"14.00\">value = [0, 17]</text>\n<text text-anchor=\"middle\" x=\"5481.5\" y=\"-7.8\" font-family=\"Helvetica,sans-Serif\" font-size=\"14.00\">class = 1</text>\n</g>\n<!-- 87&#45;&gt;89 -->\n<g id=\"edge89\" class=\"edge\">\n<title>87&#45;&gt;89</title>\n<path fill=\"none\" stroke=\"black\" d=\"M5404.93,-103.73C5415.09,-94.61 5425.87,-84.93 5436.03,-75.81\"/>\n<polygon fill=\"black\" stroke=\"black\" points=\"5438.17,-78.59 5443.27,-69.31 5433.49,-73.39 5438.17,-78.59\"/>\n</g>\n<!-- 91 -->\n<g id=\"node92\" class=\"node\">\n<title>91</title>\n<path fill=\"#3b9ee5\" stroke=\"black\" d=\"M6089.5,-425C6089.5,-425 5983.5,-425 5983.5,-425 5977.5,-425 5971.5,-419 5971.5,-413 5971.5,-413 5971.5,-354 5971.5,-354 5971.5,-348 5977.5,-342 5983.5,-342 5983.5,-342 6089.5,-342 6089.5,-342 6095.5,-342 6101.5,-348 6101.5,-354 6101.5,-354 6101.5,-413 6101.5,-413 6101.5,-419 6095.5,-425 6089.5,-425\"/>\n<text text-anchor=\"middle\" x=\"6036.5\" y=\"-409.8\" font-family=\"Helvetica,sans-Serif\" font-size=\"14.00\">산도 &lt;= 3.155</text>\n<text text-anchor=\"middle\" x=\"6036.5\" y=\"-394.8\" font-family=\"Helvetica,sans-Serif\" font-size=\"14.00\">gini = 0.018</text>\n<text text-anchor=\"middle\" x=\"6036.5\" y=\"-379.8\" font-family=\"Helvetica,sans-Serif\" font-size=\"14.00\">samples = 1395</text>\n<text text-anchor=\"middle\" x=\"6036.5\" y=\"-364.8\" font-family=\"Helvetica,sans-Serif\" font-size=\"14.00\">value = [13, 1382]</text>\n<text text-anchor=\"middle\" x=\"6036.5\" y=\"-349.8\" font-family=\"Helvetica,sans-Serif\" font-size=\"14.00\">class = 1</text>\n</g>\n<!-- 90&#45;&gt;91 -->\n<g id=\"edge91\" class=\"edge\">\n<title>90&#45;&gt;91</title>\n<path fill=\"none\" stroke=\"black\" d=\"M6036.5,-460.58C6036.5,-452.79 6036.5,-444.53 6036.5,-436.45\"/>\n<polygon fill=\"black\" stroke=\"black\" points=\"6040,-436.71 6036.5,-426.71 6033,-436.71 6040,-436.71\"/>\n</g>\n<!-- 106 -->\n<g id=\"node107\" class=\"node\">\n<title>106</title>\n<path fill=\"#48a4e7\" stroke=\"black\" d=\"M6830,-425C6830,-425 6741,-425 6741,-425 6735,-425 6729,-419 6729,-413 6729,-413 6729,-354 6729,-354 6729,-348 6735,-342 6741,-342 6741,-342 6830,-342 6830,-342 6836,-342 6842,-348 6842,-354 6842,-354 6842,-413 6842,-413 6842,-419 6836,-425 6830,-425\"/>\n<text text-anchor=\"middle\" x=\"6785.5\" y=\"-409.8\" font-family=\"Helvetica,sans-Serif\" font-size=\"14.00\">당도 &lt;= 8.85</text>\n<text text-anchor=\"middle\" x=\"6785.5\" y=\"-394.8\" font-family=\"Helvetica,sans-Serif\" font-size=\"14.00\">gini = 0.131</text>\n<text text-anchor=\"middle\" x=\"6785.5\" y=\"-379.8\" font-family=\"Helvetica,sans-Serif\" font-size=\"14.00\">samples = 128</text>\n<text text-anchor=\"middle\" x=\"6785.5\" y=\"-364.8\" font-family=\"Helvetica,sans-Serif\" font-size=\"14.00\">value = [9, 119]</text>\n<text text-anchor=\"middle\" x=\"6785.5\" y=\"-349.8\" font-family=\"Helvetica,sans-Serif\" font-size=\"14.00\">class = 1</text>\n</g>\n<!-- 90&#45;&gt;106 -->\n<g id=\"edge106\" class=\"edge\">\n<title>90&#45;&gt;106</title>\n<path fill=\"none\" stroke=\"black\" d=\"M6101.99,-491.27C6242.97,-469.25 6574.05,-417.53 6717.38,-395.14\"/>\n<polygon fill=\"black\" stroke=\"black\" points=\"6717.77,-398.62 6727.11,-393.62 6716.69,-391.71 6717.77,-398.62\"/>\n</g>\n<!-- 92 -->\n<g id=\"node93\" class=\"node\">\n<title>92</title>\n<path fill=\"#399de5\" stroke=\"black\" d=\"M5964,-306C5964,-306 5875,-306 5875,-306 5869,-306 5863,-300 5863,-294 5863,-294 5863,-235 5863,-235 5863,-229 5869,-223 5875,-223 5875,-223 5964,-223 5964,-223 5970,-223 5976,-229 5976,-235 5976,-235 5976,-294 5976,-294 5976,-300 5970,-306 5964,-306\"/>\n<text text-anchor=\"middle\" x=\"5919.5\" y=\"-290.8\" font-family=\"Helvetica,sans-Serif\" font-size=\"14.00\">도수 &lt;= 12.25</text>\n<text text-anchor=\"middle\" x=\"5919.5\" y=\"-275.8\" font-family=\"Helvetica,sans-Serif\" font-size=\"14.00\">gini = 0.005</text>\n<text text-anchor=\"middle\" x=\"5919.5\" y=\"-260.8\" font-family=\"Helvetica,sans-Serif\" font-size=\"14.00\">samples = 794</text>\n<text text-anchor=\"middle\" x=\"5919.5\" y=\"-245.8\" font-family=\"Helvetica,sans-Serif\" font-size=\"14.00\">value = [2, 792]</text>\n<text text-anchor=\"middle\" x=\"5919.5\" y=\"-230.8\" font-family=\"Helvetica,sans-Serif\" font-size=\"14.00\">class = 1</text>\n</g>\n<!-- 91&#45;&gt;92 -->\n<g id=\"edge92\" class=\"edge\">\n<title>91&#45;&gt;92</title>\n<path fill=\"none\" stroke=\"black\" d=\"M5995.58,-341.58C5986.71,-332.71 5977.25,-323.25 5968.12,-314.12\"/>\n<polygon fill=\"black\" stroke=\"black\" points=\"5970.82,-311.87 5961.27,-307.27 5965.87,-316.82 5970.82,-311.87\"/>\n</g>\n<!-- 99 -->\n<g id=\"node100\" class=\"node\">\n<title>99</title>\n<path fill=\"#3d9fe5\" stroke=\"black\" d=\"M6216.5,-306C6216.5,-306 6118.5,-306 6118.5,-306 6112.5,-306 6106.5,-300 6106.5,-294 6106.5,-294 6106.5,-235 6106.5,-235 6106.5,-229 6112.5,-223 6118.5,-223 6118.5,-223 6216.5,-223 6216.5,-223 6222.5,-223 6228.5,-229 6228.5,-235 6228.5,-235 6228.5,-294 6228.5,-294 6228.5,-300 6222.5,-306 6216.5,-306\"/>\n<text text-anchor=\"middle\" x=\"6167.5\" y=\"-290.8\" font-family=\"Helvetica,sans-Serif\" font-size=\"14.00\">산도 &lt;= 3.185</text>\n<text text-anchor=\"middle\" x=\"6167.5\" y=\"-275.8\" font-family=\"Helvetica,sans-Serif\" font-size=\"14.00\">gini = 0.036</text>\n<text text-anchor=\"middle\" x=\"6167.5\" y=\"-260.8\" font-family=\"Helvetica,sans-Serif\" font-size=\"14.00\">samples = 601</text>\n<text text-anchor=\"middle\" x=\"6167.5\" y=\"-245.8\" font-family=\"Helvetica,sans-Serif\" font-size=\"14.00\">value = [11, 590]</text>\n<text text-anchor=\"middle\" x=\"6167.5\" y=\"-230.8\" font-family=\"Helvetica,sans-Serif\" font-size=\"14.00\">class = 1</text>\n</g>\n<!-- 91&#45;&gt;99 -->\n<g id=\"edge99\" class=\"edge\">\n<title>91&#45;&gt;99</title>\n<path fill=\"none\" stroke=\"black\" d=\"M6082.32,-341.58C6092.35,-332.62 6103.06,-323.06 6113.38,-313.84\"/>\n<polygon fill=\"black\" stroke=\"black\" points=\"6115.67,-316.48 6120.8,-307.21 6111.01,-311.26 6115.67,-316.48\"/>\n</g>\n<!-- 93 -->\n<g id=\"node94\" class=\"node\">\n<title>93</title>\n<path fill=\"#399de5\" stroke=\"black\" d=\"M5784,-187C5784,-187 5695,-187 5695,-187 5689,-187 5683,-181 5683,-175 5683,-175 5683,-116 5683,-116 5683,-110 5689,-104 5695,-104 5695,-104 5784,-104 5784,-104 5790,-104 5796,-110 5796,-116 5796,-116 5796,-175 5796,-175 5796,-181 5790,-187 5784,-187\"/>\n<text text-anchor=\"middle\" x=\"5739.5\" y=\"-171.8\" font-family=\"Helvetica,sans-Serif\" font-size=\"14.00\">당도 &lt;= 15.45</text>\n<text text-anchor=\"middle\" x=\"5739.5\" y=\"-156.8\" font-family=\"Helvetica,sans-Serif\" font-size=\"14.00\">gini = 0.003</text>\n<text text-anchor=\"middle\" x=\"5739.5\" y=\"-141.8\" font-family=\"Helvetica,sans-Serif\" font-size=\"14.00\">samples = 756</text>\n<text text-anchor=\"middle\" x=\"5739.5\" y=\"-126.8\" font-family=\"Helvetica,sans-Serif\" font-size=\"14.00\">value = [1, 755]</text>\n<text text-anchor=\"middle\" x=\"5739.5\" y=\"-111.8\" font-family=\"Helvetica,sans-Serif\" font-size=\"14.00\">class = 1</text>\n</g>\n<!-- 92&#45;&gt;93 -->\n<g id=\"edge93\" class=\"edge\">\n<title>92&#45;&gt;93</title>\n<path fill=\"none\" stroke=\"black\" d=\"M5862.55,-226.48C5844.57,-214.79 5824.54,-201.78 5805.96,-189.7\"/>\n<polygon fill=\"black\" stroke=\"black\" points=\"5807.95,-186.82 5797.66,-184.3 5804.14,-192.69 5807.95,-186.82\"/>\n</g>\n<!-- 96 -->\n<g id=\"node97\" class=\"node\">\n<title>96</title>\n<path fill=\"#3ea0e6\" stroke=\"black\" d=\"M5963.5,-187C5963.5,-187 5875.5,-187 5875.5,-187 5869.5,-187 5863.5,-181 5863.5,-175 5863.5,-175 5863.5,-116 5863.5,-116 5863.5,-110 5869.5,-104 5875.5,-104 5875.5,-104 5963.5,-104 5963.5,-104 5969.5,-104 5975.5,-110 5975.5,-116 5975.5,-116 5975.5,-175 5975.5,-175 5975.5,-181 5969.5,-187 5963.5,-187\"/>\n<text text-anchor=\"middle\" x=\"5919.5\" y=\"-171.8\" font-family=\"Helvetica,sans-Serif\" font-size=\"14.00\">도수 &lt;= 12.35</text>\n<text text-anchor=\"middle\" x=\"5919.5\" y=\"-156.8\" font-family=\"Helvetica,sans-Serif\" font-size=\"14.00\">gini = 0.051</text>\n<text text-anchor=\"middle\" x=\"5919.5\" y=\"-141.8\" font-family=\"Helvetica,sans-Serif\" font-size=\"14.00\">samples = 38</text>\n<text text-anchor=\"middle\" x=\"5919.5\" y=\"-126.8\" font-family=\"Helvetica,sans-Serif\" font-size=\"14.00\">value = [1, 37]</text>\n<text text-anchor=\"middle\" x=\"5919.5\" y=\"-111.8\" font-family=\"Helvetica,sans-Serif\" font-size=\"14.00\">class = 1</text>\n</g>\n<!-- 92&#45;&gt;96 -->\n<g id=\"edge96\" class=\"edge\">\n<title>92&#45;&gt;96</title>\n<path fill=\"none\" stroke=\"black\" d=\"M5919.5,-222.58C5919.5,-214.79 5919.5,-206.53 5919.5,-198.45\"/>\n<polygon fill=\"black\" stroke=\"black\" points=\"5923,-198.71 5919.5,-188.71 5916,-198.71 5923,-198.71\"/>\n</g>\n<!-- 94 -->\n<g id=\"node95\" class=\"node\">\n<title>94</title>\n<path fill=\"#399de5\" stroke=\"black\" d=\"M5653,-68C5653,-68 5564,-68 5564,-68 5558,-68 5552,-62 5552,-56 5552,-56 5552,-12 5552,-12 5552,-6 5558,0 5564,0 5564,0 5653,0 5653,0 5659,0 5665,-6 5665,-12 5665,-12 5665,-56 5665,-56 5665,-62 5659,-68 5653,-68\"/>\n<text text-anchor=\"middle\" x=\"5608.5\" y=\"-52.8\" font-family=\"Helvetica,sans-Serif\" font-size=\"14.00\">gini = 0.0</text>\n<text text-anchor=\"middle\" x=\"5608.5\" y=\"-37.8\" font-family=\"Helvetica,sans-Serif\" font-size=\"14.00\">samples = 645</text>\n<text text-anchor=\"middle\" x=\"5608.5\" y=\"-22.8\" font-family=\"Helvetica,sans-Serif\" font-size=\"14.00\">value = [0, 645]</text>\n<text text-anchor=\"middle\" x=\"5608.5\" y=\"-7.8\" font-family=\"Helvetica,sans-Serif\" font-size=\"14.00\">class = 1</text>\n</g>\n<!-- 93&#45;&gt;94 -->\n<g id=\"edge94\" class=\"edge\">\n<title>93&#45;&gt;94</title>\n<path fill=\"none\" stroke=\"black\" d=\"M5690.72,-103.73C5679.7,-94.51 5668,-84.74 5656.99,-75.53\"/>\n<polygon fill=\"black\" stroke=\"black\" points=\"5659.42,-73 5649.5,-69.27 5654.93,-78.37 5659.42,-73\"/>\n</g>\n<!-- 95 -->\n<g id=\"node96\" class=\"node\">\n<title>95</title>\n<path fill=\"#3b9ee5\" stroke=\"black\" d=\"M5784,-68C5784,-68 5695,-68 5695,-68 5689,-68 5683,-62 5683,-56 5683,-56 5683,-12 5683,-12 5683,-6 5689,0 5695,0 5695,0 5784,0 5784,0 5790,0 5796,-6 5796,-12 5796,-12 5796,-56 5796,-56 5796,-62 5790,-68 5784,-68\"/>\n<text text-anchor=\"middle\" x=\"5739.5\" y=\"-52.8\" font-family=\"Helvetica,sans-Serif\" font-size=\"14.00\">gini = 0.018</text>\n<text text-anchor=\"middle\" x=\"5739.5\" y=\"-37.8\" font-family=\"Helvetica,sans-Serif\" font-size=\"14.00\">samples = 111</text>\n<text text-anchor=\"middle\" x=\"5739.5\" y=\"-22.8\" font-family=\"Helvetica,sans-Serif\" font-size=\"14.00\">value = [1, 110]</text>\n<text text-anchor=\"middle\" x=\"5739.5\" y=\"-7.8\" font-family=\"Helvetica,sans-Serif\" font-size=\"14.00\">class = 1</text>\n</g>\n<!-- 93&#45;&gt;95 -->\n<g id=\"edge95\" class=\"edge\">\n<title>93&#45;&gt;95</title>\n<path fill=\"none\" stroke=\"black\" d=\"M5739.5,-103.73C5739.5,-95.88 5739.5,-87.63 5739.5,-79.67\"/>\n<polygon fill=\"black\" stroke=\"black\" points=\"5743,-79.81 5739.5,-69.81 5736,-79.81 5743,-79.81\"/>\n</g>\n<!-- 97 -->\n<g id=\"node98\" class=\"node\">\n<title>97</title>\n<path fill=\"#52a9e8\" stroke=\"black\" d=\"M5899,-68C5899,-68 5826,-68 5826,-68 5820,-68 5814,-62 5814,-56 5814,-56 5814,-12 5814,-12 5814,-6 5820,0 5826,0 5826,0 5899,0 5899,0 5905,0 5911,-6 5911,-12 5911,-12 5911,-56 5911,-56 5911,-62 5905,-68 5899,-68\"/>\n<text text-anchor=\"middle\" x=\"5862.5\" y=\"-52.8\" font-family=\"Helvetica,sans-Serif\" font-size=\"14.00\">gini = 0.198</text>\n<text text-anchor=\"middle\" x=\"5862.5\" y=\"-37.8\" font-family=\"Helvetica,sans-Serif\" font-size=\"14.00\">samples = 9</text>\n<text text-anchor=\"middle\" x=\"5862.5\" y=\"-22.8\" font-family=\"Helvetica,sans-Serif\" font-size=\"14.00\">value = [1, 8]</text>\n<text text-anchor=\"middle\" x=\"5862.5\" y=\"-7.8\" font-family=\"Helvetica,sans-Serif\" font-size=\"14.00\">class = 1</text>\n</g>\n<!-- 96&#45;&gt;97 -->\n<g id=\"edge97\" class=\"edge\">\n<title>96&#45;&gt;97</title>\n<path fill=\"none\" stroke=\"black\" d=\"M5898.28,-103.73C5893.95,-95.43 5889.4,-86.67 5885.03,-78.28\"/>\n<polygon fill=\"black\" stroke=\"black\" points=\"5888.25,-76.9 5880.53,-69.64 5882.05,-80.13 5888.25,-76.9\"/>\n</g>\n<!-- 98 -->\n<g id=\"node99\" class=\"node\">\n<title>98</title>\n<path fill=\"#399de5\" stroke=\"black\" d=\"M6022,-68C6022,-68 5941,-68 5941,-68 5935,-68 5929,-62 5929,-56 5929,-56 5929,-12 5929,-12 5929,-6 5935,0 5941,0 5941,0 6022,0 6022,0 6028,0 6034,-6 6034,-12 6034,-12 6034,-56 6034,-56 6034,-62 6028,-68 6022,-68\"/>\n<text text-anchor=\"middle\" x=\"5981.5\" y=\"-52.8\" font-family=\"Helvetica,sans-Serif\" font-size=\"14.00\">gini = 0.0</text>\n<text text-anchor=\"middle\" x=\"5981.5\" y=\"-37.8\" font-family=\"Helvetica,sans-Serif\" font-size=\"14.00\">samples = 29</text>\n<text text-anchor=\"middle\" x=\"5981.5\" y=\"-22.8\" font-family=\"Helvetica,sans-Serif\" font-size=\"14.00\">value = [0, 29]</text>\n<text text-anchor=\"middle\" x=\"5981.5\" y=\"-7.8\" font-family=\"Helvetica,sans-Serif\" font-size=\"14.00\">class = 1</text>\n</g>\n<!-- 96&#45;&gt;98 -->\n<g id=\"edge98\" class=\"edge\">\n<title>96&#45;&gt;98</title>\n<path fill=\"none\" stroke=\"black\" d=\"M5942.59,-103.73C5947.29,-95.43 5952.25,-86.67 5956.99,-78.28\"/>\n<polygon fill=\"black\" stroke=\"black\" points=\"5960.02,-80.04 5961.9,-69.62 5953.93,-76.59 5960.02,-80.04\"/>\n</g>\n<!-- 100 -->\n<g id=\"node101\" class=\"node\">\n<title>100</title>\n<path fill=\"#42a1e6\" stroke=\"black\" d=\"M6212,-187C6212,-187 6123,-187 6123,-187 6117,-187 6111,-181 6111,-175 6111,-175 6111,-116 6111,-116 6111,-110 6117,-104 6123,-104 6123,-104 6212,-104 6212,-104 6218,-104 6224,-110 6224,-116 6224,-116 6224,-175 6224,-175 6224,-181 6218,-187 6212,-187\"/>\n<text text-anchor=\"middle\" x=\"6167.5\" y=\"-171.8\" font-family=\"Helvetica,sans-Serif\" font-size=\"14.00\">도수 &lt;= 9.05</text>\n<text text-anchor=\"middle\" x=\"6167.5\" y=\"-156.8\" font-family=\"Helvetica,sans-Serif\" font-size=\"14.00\">gini = 0.079</text>\n<text text-anchor=\"middle\" x=\"6167.5\" y=\"-141.8\" font-family=\"Helvetica,sans-Serif\" font-size=\"14.00\">samples = 145</text>\n<text text-anchor=\"middle\" x=\"6167.5\" y=\"-126.8\" font-family=\"Helvetica,sans-Serif\" font-size=\"14.00\">value = [6, 139]</text>\n<text text-anchor=\"middle\" x=\"6167.5\" y=\"-111.8\" font-family=\"Helvetica,sans-Serif\" font-size=\"14.00\">class = 1</text>\n</g>\n<!-- 99&#45;&gt;100 -->\n<g id=\"edge100\" class=\"edge\">\n<title>99&#45;&gt;100</title>\n<path fill=\"none\" stroke=\"black\" d=\"M6167.5,-222.58C6167.5,-214.79 6167.5,-206.53 6167.5,-198.45\"/>\n<polygon fill=\"black\" stroke=\"black\" points=\"6171,-198.71 6167.5,-188.71 6164,-198.71 6171,-198.71\"/>\n</g>\n<!-- 103 -->\n<g id=\"node104\" class=\"node\">\n<title>103</title>\n<path fill=\"#3b9ee5\" stroke=\"black\" d=\"M6407,-187C6407,-187 6318,-187 6318,-187 6312,-187 6306,-181 6306,-175 6306,-175 6306,-116 6306,-116 6306,-110 6312,-104 6318,-104 6318,-104 6407,-104 6407,-104 6413,-104 6419,-110 6419,-116 6419,-116 6419,-175 6419,-175 6419,-181 6413,-187 6407,-187\"/>\n<text text-anchor=\"middle\" x=\"6362.5\" y=\"-171.8\" font-family=\"Helvetica,sans-Serif\" font-size=\"14.00\">당도 &lt;= 8.95</text>\n<text text-anchor=\"middle\" x=\"6362.5\" y=\"-156.8\" font-family=\"Helvetica,sans-Serif\" font-size=\"14.00\">gini = 0.022</text>\n<text text-anchor=\"middle\" x=\"6362.5\" y=\"-141.8\" font-family=\"Helvetica,sans-Serif\" font-size=\"14.00\">samples = 456</text>\n<text text-anchor=\"middle\" x=\"6362.5\" y=\"-126.8\" font-family=\"Helvetica,sans-Serif\" font-size=\"14.00\">value = [5, 451]</text>\n<text text-anchor=\"middle\" x=\"6362.5\" y=\"-111.8\" font-family=\"Helvetica,sans-Serif\" font-size=\"14.00\">class = 1</text>\n</g>\n<!-- 99&#45;&gt;103 -->\n<g id=\"edge103\" class=\"edge\">\n<title>99&#45;&gt;103</title>\n<path fill=\"none\" stroke=\"black\" d=\"M6228.93,-226.64C6250.23,-213.86 6274.2,-199.48 6295.9,-186.46\"/>\n<polygon fill=\"black\" stroke=\"black\" points=\"6297.61,-189.51 6304.39,-181.37 6294.01,-183.51 6297.61,-189.51\"/>\n</g>\n<!-- 101 -->\n<g id=\"node102\" class=\"node\">\n<title>101</title>\n<path fill=\"#61b1ea\" stroke=\"black\" d=\"M6145,-68C6145,-68 6064,-68 6064,-68 6058,-68 6052,-62 6052,-56 6052,-56 6052,-12 6052,-12 6052,-6 6058,0 6064,0 6064,0 6145,0 6145,0 6151,0 6157,-6 6157,-12 6157,-12 6157,-56 6157,-56 6157,-62 6151,-68 6145,-68\"/>\n<text text-anchor=\"middle\" x=\"6104.5\" y=\"-52.8\" font-family=\"Helvetica,sans-Serif\" font-size=\"14.00\">gini = 0.278</text>\n<text text-anchor=\"middle\" x=\"6104.5\" y=\"-37.8\" font-family=\"Helvetica,sans-Serif\" font-size=\"14.00\">samples = 24</text>\n<text text-anchor=\"middle\" x=\"6104.5\" y=\"-22.8\" font-family=\"Helvetica,sans-Serif\" font-size=\"14.00\">value = [4, 20]</text>\n<text text-anchor=\"middle\" x=\"6104.5\" y=\"-7.8\" font-family=\"Helvetica,sans-Serif\" font-size=\"14.00\">class = 1</text>\n</g>\n<!-- 100&#45;&gt;101 -->\n<g id=\"edge101\" class=\"edge\">\n<title>100&#45;&gt;101</title>\n<path fill=\"none\" stroke=\"black\" d=\"M6144.04,-103.73C6139.21,-95.34 6134.12,-86.47 6129.24,-78.01\"/>\n<polygon fill=\"black\" stroke=\"black\" points=\"6132.43,-76.53 6124.41,-69.61 6126.37,-80.02 6132.43,-76.53\"/>\n</g>\n<!-- 102 -->\n<g id=\"node103\" class=\"node\">\n<title>102</title>\n<path fill=\"#3c9fe5\" stroke=\"black\" d=\"M6276,-68C6276,-68 6187,-68 6187,-68 6181,-68 6175,-62 6175,-56 6175,-56 6175,-12 6175,-12 6175,-6 6181,0 6187,0 6187,0 6276,0 6276,0 6282,0 6288,-6 6288,-12 6288,-12 6288,-56 6288,-56 6288,-62 6282,-68 6276,-68\"/>\n<text text-anchor=\"middle\" x=\"6231.5\" y=\"-52.8\" font-family=\"Helvetica,sans-Serif\" font-size=\"14.00\">gini = 0.033</text>\n<text text-anchor=\"middle\" x=\"6231.5\" y=\"-37.8\" font-family=\"Helvetica,sans-Serif\" font-size=\"14.00\">samples = 121</text>\n<text text-anchor=\"middle\" x=\"6231.5\" y=\"-22.8\" font-family=\"Helvetica,sans-Serif\" font-size=\"14.00\">value = [2, 119]</text>\n<text text-anchor=\"middle\" x=\"6231.5\" y=\"-7.8\" font-family=\"Helvetica,sans-Serif\" font-size=\"14.00\">class = 1</text>\n</g>\n<!-- 100&#45;&gt;102 -->\n<g id=\"edge102\" class=\"edge\">\n<title>100&#45;&gt;102</title>\n<path fill=\"none\" stroke=\"black\" d=\"M6191.33,-103.73C6196.24,-95.34 6201.41,-86.47 6206.36,-78.01\"/>\n<polygon fill=\"black\" stroke=\"black\" points=\"6209.25,-80.01 6211.27,-69.61 6203.21,-76.47 6209.25,-80.01\"/>\n</g>\n<!-- 104 -->\n<g id=\"node105\" class=\"node\">\n<title>104</title>\n<path fill=\"#3e9fe6\" stroke=\"black\" d=\"M6407,-68C6407,-68 6318,-68 6318,-68 6312,-68 6306,-62 6306,-56 6306,-56 6306,-12 6306,-12 6306,-6 6312,0 6318,0 6318,0 6407,0 6407,0 6413,0 6419,-6 6419,-12 6419,-12 6419,-56 6419,-56 6419,-62 6413,-68 6407,-68\"/>\n<text text-anchor=\"middle\" x=\"6362.5\" y=\"-52.8\" font-family=\"Helvetica,sans-Serif\" font-size=\"14.00\">gini = 0.048</text>\n<text text-anchor=\"middle\" x=\"6362.5\" y=\"-37.8\" font-family=\"Helvetica,sans-Serif\" font-size=\"14.00\">samples = 205</text>\n<text text-anchor=\"middle\" x=\"6362.5\" y=\"-22.8\" font-family=\"Helvetica,sans-Serif\" font-size=\"14.00\">value = [5, 200]</text>\n<text text-anchor=\"middle\" x=\"6362.5\" y=\"-7.8\" font-family=\"Helvetica,sans-Serif\" font-size=\"14.00\">class = 1</text>\n</g>\n<!-- 103&#45;&gt;104 -->\n<g id=\"edge104\" class=\"edge\">\n<title>103&#45;&gt;104</title>\n<path fill=\"none\" stroke=\"black\" d=\"M6362.5,-103.73C6362.5,-95.88 6362.5,-87.63 6362.5,-79.67\"/>\n<polygon fill=\"black\" stroke=\"black\" points=\"6366,-79.81 6362.5,-69.81 6359,-79.81 6366,-79.81\"/>\n</g>\n<!-- 105 -->\n<g id=\"node106\" class=\"node\">\n<title>105</title>\n<path fill=\"#399de5\" stroke=\"black\" d=\"M6538,-68C6538,-68 6449,-68 6449,-68 6443,-68 6437,-62 6437,-56 6437,-56 6437,-12 6437,-12 6437,-6 6443,0 6449,0 6449,0 6538,0 6538,0 6544,0 6550,-6 6550,-12 6550,-12 6550,-56 6550,-56 6550,-62 6544,-68 6538,-68\"/>\n<text text-anchor=\"middle\" x=\"6493.5\" y=\"-52.8\" font-family=\"Helvetica,sans-Serif\" font-size=\"14.00\">gini = 0.0</text>\n<text text-anchor=\"middle\" x=\"6493.5\" y=\"-37.8\" font-family=\"Helvetica,sans-Serif\" font-size=\"14.00\">samples = 251</text>\n<text text-anchor=\"middle\" x=\"6493.5\" y=\"-22.8\" font-family=\"Helvetica,sans-Serif\" font-size=\"14.00\">value = [0, 251]</text>\n<text text-anchor=\"middle\" x=\"6493.5\" y=\"-7.8\" font-family=\"Helvetica,sans-Serif\" font-size=\"14.00\">class = 1</text>\n</g>\n<!-- 103&#45;&gt;105 -->\n<g id=\"edge105\" class=\"edge\">\n<title>103&#45;&gt;105</title>\n<path fill=\"none\" stroke=\"black\" d=\"M6411.28,-103.73C6422.3,-94.51 6434,-84.74 6445.01,-75.53\"/>\n<polygon fill=\"black\" stroke=\"black\" points=\"6447.07,-78.37 6452.5,-69.27 6442.58,-73 6447.07,-78.37\"/>\n</g>\n<!-- 107 -->\n<g id=\"node108\" class=\"node\">\n<title>107</title>\n<path fill=\"#57ace9\" stroke=\"black\" d=\"M6829.5,-306C6829.5,-306 6741.5,-306 6741.5,-306 6735.5,-306 6729.5,-300 6729.5,-294 6729.5,-294 6729.5,-235 6729.5,-235 6729.5,-229 6735.5,-223 6741.5,-223 6741.5,-223 6829.5,-223 6829.5,-223 6835.5,-223 6841.5,-229 6841.5,-235 6841.5,-235 6841.5,-294 6841.5,-294 6841.5,-300 6835.5,-306 6829.5,-306\"/>\n<text text-anchor=\"middle\" x=\"6785.5\" y=\"-290.8\" font-family=\"Helvetica,sans-Serif\" font-size=\"14.00\">산도 &lt;= 3.385</text>\n<text text-anchor=\"middle\" x=\"6785.5\" y=\"-275.8\" font-family=\"Helvetica,sans-Serif\" font-size=\"14.00\">gini = 0.231</text>\n<text text-anchor=\"middle\" x=\"6785.5\" y=\"-260.8\" font-family=\"Helvetica,sans-Serif\" font-size=\"14.00\">samples = 60</text>\n<text text-anchor=\"middle\" x=\"6785.5\" y=\"-245.8\" font-family=\"Helvetica,sans-Serif\" font-size=\"14.00\">value = [8, 52]</text>\n<text text-anchor=\"middle\" x=\"6785.5\" y=\"-230.8\" font-family=\"Helvetica,sans-Serif\" font-size=\"14.00\">class = 1</text>\n</g>\n<!-- 106&#45;&gt;107 -->\n<g id=\"edge107\" class=\"edge\">\n<title>106&#45;&gt;107</title>\n<path fill=\"none\" stroke=\"black\" d=\"M6785.5,-341.58C6785.5,-333.79 6785.5,-325.53 6785.5,-317.45\"/>\n<polygon fill=\"black\" stroke=\"black\" points=\"6789,-317.71 6785.5,-307.71 6782,-317.71 6789,-317.71\"/>\n</g>\n<!-- 114 -->\n<g id=\"node115\" class=\"node\">\n<title>114</title>\n<path fill=\"#3c9ee5\" stroke=\"black\" d=\"M7021.5,-306C7021.5,-306 6933.5,-306 6933.5,-306 6927.5,-306 6921.5,-300 6921.5,-294 6921.5,-294 6921.5,-235 6921.5,-235 6921.5,-229 6927.5,-223 6933.5,-223 6933.5,-223 7021.5,-223 7021.5,-223 7027.5,-223 7033.5,-229 7033.5,-235 7033.5,-235 7033.5,-294 7033.5,-294 7033.5,-300 7027.5,-306 7021.5,-306\"/>\n<text text-anchor=\"middle\" x=\"6977.5\" y=\"-290.8\" font-family=\"Helvetica,sans-Serif\" font-size=\"14.00\">도수 &lt;= 10.45</text>\n<text text-anchor=\"middle\" x=\"6977.5\" y=\"-275.8\" font-family=\"Helvetica,sans-Serif\" font-size=\"14.00\">gini = 0.029</text>\n<text text-anchor=\"middle\" x=\"6977.5\" y=\"-260.8\" font-family=\"Helvetica,sans-Serif\" font-size=\"14.00\">samples = 68</text>\n<text text-anchor=\"middle\" x=\"6977.5\" y=\"-245.8\" font-family=\"Helvetica,sans-Serif\" font-size=\"14.00\">value = [1, 67]</text>\n<text text-anchor=\"middle\" x=\"6977.5\" y=\"-230.8\" font-family=\"Helvetica,sans-Serif\" font-size=\"14.00\">class = 1</text>\n</g>\n<!-- 106&#45;&gt;114 -->\n<g id=\"edge114\" class=\"edge\">\n<title>106&#45;&gt;114</title>\n<path fill=\"none\" stroke=\"black\" d=\"M6842.33,-347.87C6864,-334.66 6888.89,-319.5 6911.35,-305.81\"/>\n<polygon fill=\"black\" stroke=\"black\" points=\"6913.14,-308.82 6919.86,-300.63 6909.5,-302.84 6913.14,-308.82\"/>\n</g>\n<!-- 108 -->\n<g id=\"node109\" class=\"node\">\n<title>108</title>\n<path fill=\"#93caf1\" stroke=\"black\" d=\"M6764,-187C6764,-187 6683,-187 6683,-187 6677,-187 6671,-181 6671,-175 6671,-175 6671,-116 6671,-116 6671,-110 6677,-104 6683,-104 6683,-104 6764,-104 6764,-104 6770,-104 6776,-110 6776,-116 6776,-116 6776,-175 6776,-175 6776,-181 6770,-187 6764,-187\"/>\n<text text-anchor=\"middle\" x=\"6723.5\" y=\"-171.8\" font-family=\"Helvetica,sans-Serif\" font-size=\"14.00\">도수 &lt;= 10.2</text>\n<text text-anchor=\"middle\" x=\"6723.5\" y=\"-156.8\" font-family=\"Helvetica,sans-Serif\" font-size=\"14.00\">gini = 0.43</text>\n<text text-anchor=\"middle\" x=\"6723.5\" y=\"-141.8\" font-family=\"Helvetica,sans-Serif\" font-size=\"14.00\">samples = 16</text>\n<text text-anchor=\"middle\" x=\"6723.5\" y=\"-126.8\" font-family=\"Helvetica,sans-Serif\" font-size=\"14.00\">value = [5, 11]</text>\n<text text-anchor=\"middle\" x=\"6723.5\" y=\"-111.8\" font-family=\"Helvetica,sans-Serif\" font-size=\"14.00\">class = 1</text>\n</g>\n<!-- 107&#45;&gt;108 -->\n<g id=\"edge108\" class=\"edge\">\n<title>107&#45;&gt;108</title>\n<path fill=\"none\" stroke=\"black\" d=\"M6763.82,-222.58C6759.5,-214.43 6754.91,-205.77 6750.44,-197.34\"/>\n<polygon fill=\"black\" stroke=\"black\" points=\"6753.55,-195.73 6745.78,-188.54 6747.37,-199.01 6753.55,-195.73\"/>\n</g>\n<!-- 111 -->\n<g id=\"node112\" class=\"node\">\n<title>111</title>\n<path fill=\"#47a4e7\" stroke=\"black\" d=\"M6894.5,-187C6894.5,-187 6806.5,-187 6806.5,-187 6800.5,-187 6794.5,-181 6794.5,-175 6794.5,-175 6794.5,-116 6794.5,-116 6794.5,-110 6800.5,-104 6806.5,-104 6806.5,-104 6894.5,-104 6894.5,-104 6900.5,-104 6906.5,-110 6906.5,-116 6906.5,-116 6906.5,-175 6906.5,-175 6906.5,-181 6900.5,-187 6894.5,-187\"/>\n<text text-anchor=\"middle\" x=\"6850.5\" y=\"-171.8\" font-family=\"Helvetica,sans-Serif\" font-size=\"14.00\">당도 &lt;= 7.875</text>\n<text text-anchor=\"middle\" x=\"6850.5\" y=\"-156.8\" font-family=\"Helvetica,sans-Serif\" font-size=\"14.00\">gini = 0.127</text>\n<text text-anchor=\"middle\" x=\"6850.5\" y=\"-141.8\" font-family=\"Helvetica,sans-Serif\" font-size=\"14.00\">samples = 44</text>\n<text text-anchor=\"middle\" x=\"6850.5\" y=\"-126.8\" font-family=\"Helvetica,sans-Serif\" font-size=\"14.00\">value = [3, 41]</text>\n<text text-anchor=\"middle\" x=\"6850.5\" y=\"-111.8\" font-family=\"Helvetica,sans-Serif\" font-size=\"14.00\">class = 1</text>\n</g>\n<!-- 107&#45;&gt;111 -->\n<g id=\"edge111\" class=\"edge\">\n<title>107&#45;&gt;111</title>\n<path fill=\"none\" stroke=\"black\" d=\"M6808.23,-222.58C6812.81,-214.34 6817.68,-205.58 6822.41,-197.06\"/>\n<polygon fill=\"black\" stroke=\"black\" points=\"6825.36,-198.96 6827.15,-188.52 6819.24,-195.57 6825.36,-198.96\"/>\n</g>\n<!-- 109 -->\n<g id=\"node110\" class=\"node\">\n<title>109</title>\n<path fill=\"#f5cdb0\" stroke=\"black\" d=\"M6653,-68C6653,-68 6580,-68 6580,-68 6574,-68 6568,-62 6568,-56 6568,-56 6568,-12 6568,-12 6568,-6 6574,0 6580,0 6580,0 6653,0 6653,0 6659,0 6665,-6 6665,-12 6665,-12 6665,-56 6665,-56 6665,-62 6659,-68 6653,-68\"/>\n<text text-anchor=\"middle\" x=\"6616.5\" y=\"-52.8\" font-family=\"Helvetica,sans-Serif\" font-size=\"14.00\">gini = 0.469</text>\n<text text-anchor=\"middle\" x=\"6616.5\" y=\"-37.8\" font-family=\"Helvetica,sans-Serif\" font-size=\"14.00\">samples = 8</text>\n<text text-anchor=\"middle\" x=\"6616.5\" y=\"-22.8\" font-family=\"Helvetica,sans-Serif\" font-size=\"14.00\">value = [5, 3]</text>\n<text text-anchor=\"middle\" x=\"6616.5\" y=\"-7.8\" font-family=\"Helvetica,sans-Serif\" font-size=\"14.00\">class = 0</text>\n</g>\n<!-- 108&#45;&gt;109 -->\n<g id=\"edge109\" class=\"edge\">\n<title>108&#45;&gt;109</title>\n<path fill=\"none\" stroke=\"black\" d=\"M6683.66,-103.73C6674.92,-94.79 6665.67,-85.32 6656.91,-76.36\"/>\n<polygon fill=\"black\" stroke=\"black\" points=\"6659.59,-74.09 6650.1,-69.38 6654.58,-78.98 6659.59,-74.09\"/>\n</g>\n<!-- 110 -->\n<g id=\"node111\" class=\"node\">\n<title>110</title>\n<path fill=\"#399de5\" stroke=\"black\" d=\"M6768,-68C6768,-68 6695,-68 6695,-68 6689,-68 6683,-62 6683,-56 6683,-56 6683,-12 6683,-12 6683,-6 6689,0 6695,0 6695,0 6768,0 6768,0 6774,0 6780,-6 6780,-12 6780,-12 6780,-56 6780,-56 6780,-62 6774,-68 6768,-68\"/>\n<text text-anchor=\"middle\" x=\"6731.5\" y=\"-52.8\" font-family=\"Helvetica,sans-Serif\" font-size=\"14.00\">gini = 0.0</text>\n<text text-anchor=\"middle\" x=\"6731.5\" y=\"-37.8\" font-family=\"Helvetica,sans-Serif\" font-size=\"14.00\">samples = 8</text>\n<text text-anchor=\"middle\" x=\"6731.5\" y=\"-22.8\" font-family=\"Helvetica,sans-Serif\" font-size=\"14.00\">value = [0, 8]</text>\n<text text-anchor=\"middle\" x=\"6731.5\" y=\"-7.8\" font-family=\"Helvetica,sans-Serif\" font-size=\"14.00\">class = 1</text>\n</g>\n<!-- 108&#45;&gt;110 -->\n<g id=\"edge110\" class=\"edge\">\n<title>108&#45;&gt;110</title>\n<path fill=\"none\" stroke=\"black\" d=\"M6726.48,-103.73C6727.05,-95.88 6727.66,-87.63 6728.24,-79.67\"/>\n<polygon fill=\"black\" stroke=\"black\" points=\"6731.72,-80.04 6728.96,-69.81 6724.74,-79.53 6731.72,-80.04\"/>\n</g>\n<!-- 112 -->\n<g id=\"node113\" class=\"node\">\n<title>112</title>\n<path fill=\"#399de5\" stroke=\"black\" d=\"M6891,-68C6891,-68 6810,-68 6810,-68 6804,-68 6798,-62 6798,-56 6798,-56 6798,-12 6798,-12 6798,-6 6804,0 6810,0 6810,0 6891,0 6891,0 6897,0 6903,-6 6903,-12 6903,-12 6903,-56 6903,-56 6903,-62 6897,-68 6891,-68\"/>\n<text text-anchor=\"middle\" x=\"6850.5\" y=\"-52.8\" font-family=\"Helvetica,sans-Serif\" font-size=\"14.00\">gini = 0.0</text>\n<text text-anchor=\"middle\" x=\"6850.5\" y=\"-37.8\" font-family=\"Helvetica,sans-Serif\" font-size=\"14.00\">samples = 23</text>\n<text text-anchor=\"middle\" x=\"6850.5\" y=\"-22.8\" font-family=\"Helvetica,sans-Serif\" font-size=\"14.00\">value = [0, 23]</text>\n<text text-anchor=\"middle\" x=\"6850.5\" y=\"-7.8\" font-family=\"Helvetica,sans-Serif\" font-size=\"14.00\">class = 1</text>\n</g>\n<!-- 111&#45;&gt;112 -->\n<g id=\"edge112\" class=\"edge\">\n<title>111&#45;&gt;112</title>\n<path fill=\"none\" stroke=\"black\" d=\"M6850.5,-103.73C6850.5,-95.88 6850.5,-87.63 6850.5,-79.67\"/>\n<polygon fill=\"black\" stroke=\"black\" points=\"6854,-79.81 6850.5,-69.81 6847,-79.81 6854,-79.81\"/>\n</g>\n<!-- 113 -->\n<g id=\"node114\" class=\"node\">\n<title>113</title>\n<path fill=\"#5aade9\" stroke=\"black\" d=\"M7014,-68C7014,-68 6933,-68 6933,-68 6927,-68 6921,-62 6921,-56 6921,-56 6921,-12 6921,-12 6921,-6 6927,0 6933,0 6933,0 7014,0 7014,0 7020,0 7026,-6 7026,-12 7026,-12 7026,-56 7026,-56 7026,-62 7020,-68 7014,-68\"/>\n<text text-anchor=\"middle\" x=\"6973.5\" y=\"-52.8\" font-family=\"Helvetica,sans-Serif\" font-size=\"14.00\">gini = 0.245</text>\n<text text-anchor=\"middle\" x=\"6973.5\" y=\"-37.8\" font-family=\"Helvetica,sans-Serif\" font-size=\"14.00\">samples = 21</text>\n<text text-anchor=\"middle\" x=\"6973.5\" y=\"-22.8\" font-family=\"Helvetica,sans-Serif\" font-size=\"14.00\">value = [3, 18]</text>\n<text text-anchor=\"middle\" x=\"6973.5\" y=\"-7.8\" font-family=\"Helvetica,sans-Serif\" font-size=\"14.00\">class = 1</text>\n</g>\n<!-- 111&#45;&gt;113 -->\n<g id=\"edge113\" class=\"edge\">\n<title>111&#45;&gt;113</title>\n<path fill=\"none\" stroke=\"black\" d=\"M6896.3,-103.73C6906.55,-94.61 6917.41,-84.93 6927.66,-75.81\"/>\n<polygon fill=\"black\" stroke=\"black\" points=\"6929.82,-78.57 6934.96,-69.31 6925.17,-73.34 6929.82,-78.57\"/>\n</g>\n<!-- 115 -->\n<g id=\"node116\" class=\"node\">\n<title>115</title>\n<path fill=\"#399de5\" stroke=\"black\" d=\"M7018,-179.5C7018,-179.5 6937,-179.5 6937,-179.5 6931,-179.5 6925,-173.5 6925,-167.5 6925,-167.5 6925,-123.5 6925,-123.5 6925,-117.5 6931,-111.5 6937,-111.5 6937,-111.5 7018,-111.5 7018,-111.5 7024,-111.5 7030,-117.5 7030,-123.5 7030,-123.5 7030,-167.5 7030,-167.5 7030,-173.5 7024,-179.5 7018,-179.5\"/>\n<text text-anchor=\"middle\" x=\"6977.5\" y=\"-164.3\" font-family=\"Helvetica,sans-Serif\" font-size=\"14.00\">gini = 0.0</text>\n<text text-anchor=\"middle\" x=\"6977.5\" y=\"-149.3\" font-family=\"Helvetica,sans-Serif\" font-size=\"14.00\">samples = 53</text>\n<text text-anchor=\"middle\" x=\"6977.5\" y=\"-134.3\" font-family=\"Helvetica,sans-Serif\" font-size=\"14.00\">value = [0, 53]</text>\n<text text-anchor=\"middle\" x=\"6977.5\" y=\"-119.3\" font-family=\"Helvetica,sans-Serif\" font-size=\"14.00\">class = 1</text>\n</g>\n<!-- 114&#45;&gt;115 -->\n<g id=\"edge115\" class=\"edge\">\n<title>114&#45;&gt;115</title>\n<path fill=\"none\" stroke=\"black\" d=\"M6977.5,-222.58C6977.5,-212.43 6977.5,-201.5 6977.5,-191.18\"/>\n<polygon fill=\"black\" stroke=\"black\" points=\"6981,-191.37 6977.5,-181.37 6974,-191.37 6981,-191.37\"/>\n</g>\n<!-- 116 -->\n<g id=\"node117\" class=\"node\">\n<title>116</title>\n<path fill=\"#47a4e7\" stroke=\"black\" d=\"M7156.5,-187C7156.5,-187 7060.5,-187 7060.5,-187 7054.5,-187 7048.5,-181 7048.5,-175 7048.5,-175 7048.5,-116 7048.5,-116 7048.5,-110 7054.5,-104 7060.5,-104 7060.5,-104 7156.5,-104 7156.5,-104 7162.5,-104 7168.5,-110 7168.5,-116 7168.5,-116 7168.5,-175 7168.5,-175 7168.5,-181 7162.5,-187 7156.5,-187\"/>\n<text text-anchor=\"middle\" x=\"7108.5\" y=\"-171.8\" font-family=\"Helvetica,sans-Serif\" font-size=\"14.00\">당도 &lt;= 13.225</text>\n<text text-anchor=\"middle\" x=\"7108.5\" y=\"-156.8\" font-family=\"Helvetica,sans-Serif\" font-size=\"14.00\">gini = 0.124</text>\n<text text-anchor=\"middle\" x=\"7108.5\" y=\"-141.8\" font-family=\"Helvetica,sans-Serif\" font-size=\"14.00\">samples = 15</text>\n<text text-anchor=\"middle\" x=\"7108.5\" y=\"-126.8\" font-family=\"Helvetica,sans-Serif\" font-size=\"14.00\">value = [1, 14]</text>\n<text text-anchor=\"middle\" x=\"7108.5\" y=\"-111.8\" font-family=\"Helvetica,sans-Serif\" font-size=\"14.00\">class = 1</text>\n</g>\n<!-- 114&#45;&gt;116 -->\n<g id=\"edge116\" class=\"edge\">\n<title>114&#45;&gt;116</title>\n<path fill=\"none\" stroke=\"black\" d=\"M7023.32,-222.58C7033.35,-213.62 7044.06,-204.06 7054.38,-194.84\"/>\n<polygon fill=\"black\" stroke=\"black\" points=\"7056.67,-197.48 7061.8,-188.21 7052.01,-192.26 7056.67,-197.48\"/>\n</g>\n<!-- 117 -->\n<g id=\"node118\" class=\"node\">\n<title>117</title>\n<path fill=\"#399de5\" stroke=\"black\" d=\"M7143,-68C7143,-68 7062,-68 7062,-68 7056,-68 7050,-62 7050,-56 7050,-56 7050,-12 7050,-12 7050,-6 7056,0 7062,0 7062,0 7143,0 7143,0 7149,0 7155,-6 7155,-12 7155,-12 7155,-56 7155,-56 7155,-62 7149,-68 7143,-68\"/>\n<text text-anchor=\"middle\" x=\"7102.5\" y=\"-52.8\" font-family=\"Helvetica,sans-Serif\" font-size=\"14.00\">gini = 0.0</text>\n<text text-anchor=\"middle\" x=\"7102.5\" y=\"-37.8\" font-family=\"Helvetica,sans-Serif\" font-size=\"14.00\">samples = 11</text>\n<text text-anchor=\"middle\" x=\"7102.5\" y=\"-22.8\" font-family=\"Helvetica,sans-Serif\" font-size=\"14.00\">value = [0, 11]</text>\n<text text-anchor=\"middle\" x=\"7102.5\" y=\"-7.8\" font-family=\"Helvetica,sans-Serif\" font-size=\"14.00\">class = 1</text>\n</g>\n<!-- 116&#45;&gt;117 -->\n<g id=\"edge117\" class=\"edge\">\n<title>116&#45;&gt;117</title>\n<path fill=\"none\" stroke=\"black\" d=\"M7106.27,-103.73C7105.84,-95.88 7105.38,-87.63 7104.95,-79.67\"/>\n<polygon fill=\"black\" stroke=\"black\" points=\"7108.45,-79.6 7104.41,-69.81 7101.46,-79.99 7108.45,-79.6\"/>\n</g>\n<!-- 118 -->\n<g id=\"node119\" class=\"node\">\n<title>118</title>\n<path fill=\"#7bbeee\" stroke=\"black\" d=\"M7258,-68C7258,-68 7185,-68 7185,-68 7179,-68 7173,-62 7173,-56 7173,-56 7173,-12 7173,-12 7173,-6 7179,0 7185,0 7185,0 7258,0 7258,0 7264,0 7270,-6 7270,-12 7270,-12 7270,-56 7270,-56 7270,-62 7264,-68 7258,-68\"/>\n<text text-anchor=\"middle\" x=\"7221.5\" y=\"-52.8\" font-family=\"Helvetica,sans-Serif\" font-size=\"14.00\">gini = 0.375</text>\n<text text-anchor=\"middle\" x=\"7221.5\" y=\"-37.8\" font-family=\"Helvetica,sans-Serif\" font-size=\"14.00\">samples = 4</text>\n<text text-anchor=\"middle\" x=\"7221.5\" y=\"-22.8\" font-family=\"Helvetica,sans-Serif\" font-size=\"14.00\">value = [1, 3]</text>\n<text text-anchor=\"middle\" x=\"7221.5\" y=\"-7.8\" font-family=\"Helvetica,sans-Serif\" font-size=\"14.00\">class = 1</text>\n</g>\n<!-- 116&#45;&gt;118 -->\n<g id=\"edge118\" class=\"edge\">\n<title>116&#45;&gt;118</title>\n<path fill=\"none\" stroke=\"black\" d=\"M7150.58,-103.73C7159.9,-94.7 7169.77,-85.12 7179.11,-76.08\"/>\n<polygon fill=\"black\" stroke=\"black\" points=\"7181.3,-78.83 7186.05,-69.35 7176.43,-73.8 7181.3,-78.83\"/>\n</g>\n</g>\n</svg>\n",
      "text/plain": [
       "<graphviz.sources.Source at 0x160d297b0d0>"
      ]
     },
     "execution_count": 136,
     "metadata": {},
     "output_type": "execute_result"
    }
   ],
   "source": [
    "import graphviz\n",
    "\n",
    "with open(\"./image/wine_dtree.dot\", encoding='UTF-8') as f:\n",
    "    dot_graph = f.read()\n",
    "graphviz.Source(dot_graph)"
   ]
  },
  {
   "cell_type": "code",
   "execution_count": null,
   "metadata": {},
   "outputs": [],
   "source": []
  }
 ],
 "metadata": {
  "kernelspec": {
   "display_name": "Python 3.10.5 64-bit",
   "language": "python",
   "name": "python3"
  },
  "language_info": {
   "codemirror_mode": {
    "name": "ipython",
    "version": 3
   },
   "file_extension": ".py",
   "mimetype": "text/x-python",
   "name": "python",
   "nbconvert_exporter": "python",
   "pygments_lexer": "ipython3",
   "version": "3.10.5"
  },
  "orig_nbformat": 4,
  "vscode": {
   "interpreter": {
    "hash": "fb4569285eef3a3450cb62085a5b1e0da4bce0af555edc33dcf29baf3acc1368"
   }
  }
 },
 "nbformat": 4,
 "nbformat_minor": 2
}
